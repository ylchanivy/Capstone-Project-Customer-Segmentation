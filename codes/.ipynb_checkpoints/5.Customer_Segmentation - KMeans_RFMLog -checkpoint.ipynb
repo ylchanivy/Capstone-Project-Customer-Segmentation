{
 "cells": [
  {
   "cell_type": "markdown",
   "metadata": {},
   "source": [
    "# Problem Statement"
   ]
  },
  {
   "cell_type": "markdown",
   "metadata": {},
   "source": [
    "<font color=darkblue>In business, it is crucial to understand customers'needs and desire in order to provide optimize their customer journey and maximize their potential value to our business. In order to do so, we firstly need to segment our customers into groups that share something in common. With that, only we are able to curate products and services that cater to their needs.<br><br>\n",
    "Conventional method practice of customer segmentation includes using RFM analysis, customers are assigned a ranking number of 1,2,3,4, or 5 (with 5 being highest) for each RFM parameter. The three scores together are referred to as an RFM \"cell\" . The database is sorted to determine which customers were \"the best customers\" in the past, with a cell ranking of \"555\" being ideal.<br><br>\n",
    "However, in this project uses unsupervised machine learning approach ie DBSCan,KMean clsutering to segment customers into different groups using other features on top of based on customers RFM score ."
   ]
  },
  {
   "cell_type": "markdown",
   "metadata": {},
   "source": [
    "# Import Library"
   ]
  },
  {
   "cell_type": "code",
   "execution_count": 1,
   "metadata": {
    "ExecuteTime": {
     "end_time": "2020-01-14T16:31:33.675163Z",
     "start_time": "2020-01-14T16:31:28.597845Z"
    }
   },
   "outputs": [],
   "source": [
    "import numpy as np\n",
    "import pandas as pd\n",
    "import datetime as dt\n",
    "import matplotlib.pyplot as plt\n",
    "import seaborn as sns\n",
    "import squarify\n",
    "import math\n",
    "import os\n",
    "import pydotplus\n",
    "from IPython.display import Image  \n",
    "from datetime import datetime\n",
    "\n",
    "pd.options.display.float_format = '{:.2f}'.format\n",
    "\n",
    "from datetime import datetime\n",
    "from datetime import timedelta \n",
    "\n",
    "from sklearn.preprocessing import StandardScaler, LabelEncoder\n",
    "from sklearn.cluster import KMeans,DBSCAN\n",
    "from sklearn.metrics import silhouette_samples, silhouette_score,davies_bouldin_score\n",
    "from sklearn.tree import DecisionTreeClassifier\n",
    "from sklearn.datasets import make_blobs, make_moons\n",
    "from scipy.cluster.hierarchy import dendrogram, linkage, cophenet, fcluster\n",
    "from scipy.spatial.distance import pdist\n",
    "from scipy import stats\n",
    "\n",
    "\n",
    "\n",
    "from sklearn.decomposition import PCA, NMF\n",
    "\n",
    "%matplotlib inline\n",
    "pd.set_option('display.max_columns', 500)\n",
    "pd.set_option('display.max_rows', 5000)\n",
    "\n",
    "\n",
    "\n",
    "from sklearn import tree\n",
    "import graphviz"
   ]
  },
  {
   "cell_type": "markdown",
   "metadata": {
    "ExecuteTime": {
     "end_time": "2019-12-04T13:34:45.361262Z",
     "start_time": "2019-12-04T13:34:45.342313Z"
    }
   },
   "source": [
    "<font color=darkblue> Click here to [here](./Data_Cleaning.ipynb) for Data Cleaning Notebook and [here](./EDA.ipynb) for EDA."
   ]
  },
  {
   "cell_type": "markdown",
   "metadata": {},
   "source": [
    "# Import Cleaned Transactional Data"
   ]
  },
  {
   "cell_type": "code",
   "execution_count": 2,
   "metadata": {
    "ExecuteTime": {
     "end_time": "2020-01-14T16:31:33.800827Z",
     "start_time": "2020-01-14T16:31:33.679153Z"
    }
   },
   "outputs": [
    {
     "data": {
      "text/html": [
       "<div>\n",
       "<style scoped>\n",
       "    .dataframe tbody tr th:only-of-type {\n",
       "        vertical-align: middle;\n",
       "    }\n",
       "\n",
       "    .dataframe tbody tr th {\n",
       "        vertical-align: top;\n",
       "    }\n",
       "\n",
       "    .dataframe thead th {\n",
       "        text-align: right;\n",
       "    }\n",
       "</style>\n",
       "<table border=\"1\" class=\"dataframe\">\n",
       "  <thead>\n",
       "    <tr style=\"text-align: right;\">\n",
       "      <th></th>\n",
       "      <th>Customer ID</th>\n",
       "      <th>Inv_Count</th>\n",
       "      <th>No_of_Months_Transac</th>\n",
       "      <th>Unique MMYY</th>\n",
       "      <th>Country</th>\n",
       "      <th>Total_Qty</th>\n",
       "      <th>Number_of_Item_Types</th>\n",
       "      <th>Total_Spending</th>\n",
       "      <th>Max_Item_UnitPrice</th>\n",
       "      <th>Min_Item_UnitPrice</th>\n",
       "      <th>Median_Item_UnitPrice</th>\n",
       "      <th>Last_Purchase_Date</th>\n",
       "      <th>First_Purchase_Date</th>\n",
       "      <th>Avg_Transaction_Per_Mth</th>\n",
       "      <th>Avg_Spending_Per_Mth</th>\n",
       "      <th>Ratio_Transaction_Per_Unique_Mth</th>\n",
       "      <th>Ratio_Spending_Per_Unique_Mth</th>\n",
       "      <th>Avg_Spending_Per_Inv</th>\n",
       "      <th>Avg_Purchase_Qty_Per_Inv</th>\n",
       "      <th>Avg_Item_Types_Per_Inv</th>\n",
       "      <th>Recency</th>\n",
       "      <th>Frequency</th>\n",
       "      <th>Monetary</th>\n",
       "      <th>Tenure</th>\n",
       "      <th>Recency_Score</th>\n",
       "      <th>Frequency_Score</th>\n",
       "      <th>Monetary_Score</th>\n",
       "      <th>Tenure_Score</th>\n",
       "      <th>RFM_Score</th>\n",
       "      <th>Customer_Country_Belgium</th>\n",
       "      <th>Customer_Country_France</th>\n",
       "      <th>Customer_Country_Germany</th>\n",
       "      <th>Customer_Country_Italy</th>\n",
       "      <th>Customer_Country_Netherlands</th>\n",
       "      <th>Customer_Country_Other Countries</th>\n",
       "      <th>Customer_Country_Portugal</th>\n",
       "      <th>Customer_Country_Spain</th>\n",
       "      <th>Customer_Country_Sweden</th>\n",
       "      <th>Customer_Country_Switzerland</th>\n",
       "      <th>Customer_Country_United Kingdom</th>\n",
       "    </tr>\n",
       "  </thead>\n",
       "  <tbody>\n",
       "    <tr>\n",
       "      <th>0</th>\n",
       "      <td>12346.00</td>\n",
       "      <td>12</td>\n",
       "      <td>5</td>\n",
       "      <td>['Dec 09' 'Jan 10' 'Mar 10' 'Jun 10' 'Jan 11']</td>\n",
       "      <td>United Kingdom</td>\n",
       "      <td>74285</td>\n",
       "      <td>26</td>\n",
       "      <td>77556.46</td>\n",
       "      <td>7.49</td>\n",
       "      <td>1.00</td>\n",
       "      <td>7.49</td>\n",
       "      <td>2011-01-18</td>\n",
       "      <td>2009-12-14</td>\n",
       "      <td>0.48</td>\n",
       "      <td>3102.26</td>\n",
       "      <td>2.40</td>\n",
       "      <td>15511.29</td>\n",
       "      <td>6463.04</td>\n",
       "      <td>6190.42</td>\n",
       "      <td>2.17</td>\n",
       "      <td>326</td>\n",
       "      <td>12</td>\n",
       "      <td>77556.46</td>\n",
       "      <td>726</td>\n",
       "      <td>2</td>\n",
       "      <td>5</td>\n",
       "      <td>5</td>\n",
       "      <td>5</td>\n",
       "      <td>255</td>\n",
       "      <td>0</td>\n",
       "      <td>0</td>\n",
       "      <td>0</td>\n",
       "      <td>0</td>\n",
       "      <td>0</td>\n",
       "      <td>0</td>\n",
       "      <td>0</td>\n",
       "      <td>0</td>\n",
       "      <td>0</td>\n",
       "      <td>0</td>\n",
       "      <td>1</td>\n",
       "    </tr>\n",
       "    <tr>\n",
       "      <th>1</th>\n",
       "      <td>12347.00</td>\n",
       "      <td>8</td>\n",
       "      <td>8</td>\n",
       "      <td>['Oct 10' 'Dec 10' 'Jan 11' 'Apr 11' 'Jun 11' ...</td>\n",
       "      <td>Iceland</td>\n",
       "      <td>2967</td>\n",
       "      <td>126</td>\n",
       "      <td>4921.53</td>\n",
       "      <td>12.75</td>\n",
       "      <td>0.25</td>\n",
       "      <td>1.95</td>\n",
       "      <td>2011-12-07</td>\n",
       "      <td>2010-10-31</td>\n",
       "      <td>0.32</td>\n",
       "      <td>196.86</td>\n",
       "      <td>1.00</td>\n",
       "      <td>615.19</td>\n",
       "      <td>615.19</td>\n",
       "      <td>370.88</td>\n",
       "      <td>15.75</td>\n",
       "      <td>3</td>\n",
       "      <td>8</td>\n",
       "      <td>4921.53</td>\n",
       "      <td>405</td>\n",
       "      <td>5</td>\n",
       "      <td>4</td>\n",
       "      <td>5</td>\n",
       "      <td>2</td>\n",
       "      <td>545</td>\n",
       "      <td>0</td>\n",
       "      <td>0</td>\n",
       "      <td>0</td>\n",
       "      <td>0</td>\n",
       "      <td>0</td>\n",
       "      <td>1</td>\n",
       "      <td>0</td>\n",
       "      <td>0</td>\n",
       "      <td>0</td>\n",
       "      <td>0</td>\n",
       "      <td>0</td>\n",
       "    </tr>\n",
       "    <tr>\n",
       "      <th>2</th>\n",
       "      <td>12348.00</td>\n",
       "      <td>5</td>\n",
       "      <td>5</td>\n",
       "      <td>['Sep 10' 'Dec 10' 'Jan 11' 'Apr 11' 'Sep 11']</td>\n",
       "      <td>Finland</td>\n",
       "      <td>2714</td>\n",
       "      <td>28</td>\n",
       "      <td>2019.40</td>\n",
       "      <td>40.00</td>\n",
       "      <td>0.29</td>\n",
       "      <td>0.55</td>\n",
       "      <td>2011-09-25</td>\n",
       "      <td>2010-09-27</td>\n",
       "      <td>0.20</td>\n",
       "      <td>80.78</td>\n",
       "      <td>1.00</td>\n",
       "      <td>403.88</td>\n",
       "      <td>403.88</td>\n",
       "      <td>542.80</td>\n",
       "      <td>5.60</td>\n",
       "      <td>76</td>\n",
       "      <td>5</td>\n",
       "      <td>2019.40</td>\n",
       "      <td>439</td>\n",
       "      <td>3</td>\n",
       "      <td>4</td>\n",
       "      <td>4</td>\n",
       "      <td>3</td>\n",
       "      <td>344</td>\n",
       "      <td>0</td>\n",
       "      <td>0</td>\n",
       "      <td>0</td>\n",
       "      <td>0</td>\n",
       "      <td>0</td>\n",
       "      <td>1</td>\n",
       "      <td>0</td>\n",
       "      <td>0</td>\n",
       "      <td>0</td>\n",
       "      <td>0</td>\n",
       "      <td>0</td>\n",
       "    </tr>\n",
       "    <tr>\n",
       "      <th>3</th>\n",
       "      <td>12349.00</td>\n",
       "      <td>4</td>\n",
       "      <td>4</td>\n",
       "      <td>['Apr 10' 'May 10' 'Oct 10' 'Nov 11']</td>\n",
       "      <td>Italy</td>\n",
       "      <td>1624</td>\n",
       "      <td>145</td>\n",
       "      <td>4428.69</td>\n",
       "      <td>300.00</td>\n",
       "      <td>0.42</td>\n",
       "      <td>2.55</td>\n",
       "      <td>2011-11-21</td>\n",
       "      <td>2010-04-29</td>\n",
       "      <td>0.16</td>\n",
       "      <td>177.15</td>\n",
       "      <td>1.00</td>\n",
       "      <td>1107.17</td>\n",
       "      <td>1107.17</td>\n",
       "      <td>406.00</td>\n",
       "      <td>36.25</td>\n",
       "      <td>19</td>\n",
       "      <td>4</td>\n",
       "      <td>4428.69</td>\n",
       "      <td>590</td>\n",
       "      <td>5</td>\n",
       "      <td>3</td>\n",
       "      <td>5</td>\n",
       "      <td>3</td>\n",
       "      <td>535</td>\n",
       "      <td>0</td>\n",
       "      <td>0</td>\n",
       "      <td>0</td>\n",
       "      <td>1</td>\n",
       "      <td>0</td>\n",
       "      <td>0</td>\n",
       "      <td>0</td>\n",
       "      <td>0</td>\n",
       "      <td>0</td>\n",
       "      <td>0</td>\n",
       "      <td>0</td>\n",
       "    </tr>\n",
       "    <tr>\n",
       "      <th>4</th>\n",
       "      <td>12350.00</td>\n",
       "      <td>1</td>\n",
       "      <td>1</td>\n",
       "      <td>['Feb 11']</td>\n",
       "      <td>Norway</td>\n",
       "      <td>197</td>\n",
       "      <td>17</td>\n",
       "      <td>334.40</td>\n",
       "      <td>40.00</td>\n",
       "      <td>0.85</td>\n",
       "      <td>1.65</td>\n",
       "      <td>2011-02-02</td>\n",
       "      <td>2011-02-02</td>\n",
       "      <td>0.04</td>\n",
       "      <td>13.38</td>\n",
       "      <td>1.00</td>\n",
       "      <td>334.40</td>\n",
       "      <td>334.40</td>\n",
       "      <td>197.00</td>\n",
       "      <td>17.00</td>\n",
       "      <td>311</td>\n",
       "      <td>1</td>\n",
       "      <td>334.40</td>\n",
       "      <td>311</td>\n",
       "      <td>2</td>\n",
       "      <td>1</td>\n",
       "      <td>2</td>\n",
       "      <td>2</td>\n",
       "      <td>212</td>\n",
       "      <td>0</td>\n",
       "      <td>0</td>\n",
       "      <td>0</td>\n",
       "      <td>0</td>\n",
       "      <td>0</td>\n",
       "      <td>1</td>\n",
       "      <td>0</td>\n",
       "      <td>0</td>\n",
       "      <td>0</td>\n",
       "      <td>0</td>\n",
       "      <td>0</td>\n",
       "    </tr>\n",
       "  </tbody>\n",
       "</table>\n",
       "</div>"
      ],
      "text/plain": [
       "   Customer ID  Inv_Count  No_of_Months_Transac  \\\n",
       "0     12346.00         12                     5   \n",
       "1     12347.00          8                     8   \n",
       "2     12348.00          5                     5   \n",
       "3     12349.00          4                     4   \n",
       "4     12350.00          1                     1   \n",
       "\n",
       "                                         Unique MMYY         Country  \\\n",
       "0     ['Dec 09' 'Jan 10' 'Mar 10' 'Jun 10' 'Jan 11']  United Kingdom   \n",
       "1  ['Oct 10' 'Dec 10' 'Jan 11' 'Apr 11' 'Jun 11' ...         Iceland   \n",
       "2     ['Sep 10' 'Dec 10' 'Jan 11' 'Apr 11' 'Sep 11']         Finland   \n",
       "3              ['Apr 10' 'May 10' 'Oct 10' 'Nov 11']           Italy   \n",
       "4                                         ['Feb 11']          Norway   \n",
       "\n",
       "   Total_Qty  Number_of_Item_Types  Total_Spending  Max_Item_UnitPrice  \\\n",
       "0      74285                    26        77556.46                7.49   \n",
       "1       2967                   126         4921.53               12.75   \n",
       "2       2714                    28         2019.40               40.00   \n",
       "3       1624                   145         4428.69              300.00   \n",
       "4        197                    17          334.40               40.00   \n",
       "\n",
       "   Min_Item_UnitPrice  Median_Item_UnitPrice Last_Purchase_Date  \\\n",
       "0                1.00                   7.49         2011-01-18   \n",
       "1                0.25                   1.95         2011-12-07   \n",
       "2                0.29                   0.55         2011-09-25   \n",
       "3                0.42                   2.55         2011-11-21   \n",
       "4                0.85                   1.65         2011-02-02   \n",
       "\n",
       "  First_Purchase_Date  Avg_Transaction_Per_Mth  Avg_Spending_Per_Mth  \\\n",
       "0          2009-12-14                     0.48               3102.26   \n",
       "1          2010-10-31                     0.32                196.86   \n",
       "2          2010-09-27                     0.20                 80.78   \n",
       "3          2010-04-29                     0.16                177.15   \n",
       "4          2011-02-02                     0.04                 13.38   \n",
       "\n",
       "   Ratio_Transaction_Per_Unique_Mth  Ratio_Spending_Per_Unique_Mth  \\\n",
       "0                              2.40                       15511.29   \n",
       "1                              1.00                         615.19   \n",
       "2                              1.00                         403.88   \n",
       "3                              1.00                        1107.17   \n",
       "4                              1.00                         334.40   \n",
       "\n",
       "   Avg_Spending_Per_Inv  Avg_Purchase_Qty_Per_Inv  Avg_Item_Types_Per_Inv  \\\n",
       "0               6463.04                   6190.42                    2.17   \n",
       "1                615.19                    370.88                   15.75   \n",
       "2                403.88                    542.80                    5.60   \n",
       "3               1107.17                    406.00                   36.25   \n",
       "4                334.40                    197.00                   17.00   \n",
       "\n",
       "   Recency  Frequency  Monetary  Tenure  Recency_Score  Frequency_Score  \\\n",
       "0      326         12  77556.46     726              2                5   \n",
       "1        3          8   4921.53     405              5                4   \n",
       "2       76          5   2019.40     439              3                4   \n",
       "3       19          4   4428.69     590              5                3   \n",
       "4      311          1    334.40     311              2                1   \n",
       "\n",
       "   Monetary_Score  Tenure_Score  RFM_Score  Customer_Country_Belgium  \\\n",
       "0               5             5        255                         0   \n",
       "1               5             2        545                         0   \n",
       "2               4             3        344                         0   \n",
       "3               5             3        535                         0   \n",
       "4               2             2        212                         0   \n",
       "\n",
       "   Customer_Country_France  Customer_Country_Germany  Customer_Country_Italy  \\\n",
       "0                        0                         0                       0   \n",
       "1                        0                         0                       0   \n",
       "2                        0                         0                       0   \n",
       "3                        0                         0                       1   \n",
       "4                        0                         0                       0   \n",
       "\n",
       "   Customer_Country_Netherlands  Customer_Country_Other Countries  \\\n",
       "0                             0                                 0   \n",
       "1                             0                                 1   \n",
       "2                             0                                 1   \n",
       "3                             0                                 0   \n",
       "4                             0                                 1   \n",
       "\n",
       "   Customer_Country_Portugal  Customer_Country_Spain  Customer_Country_Sweden  \\\n",
       "0                          0                       0                        0   \n",
       "1                          0                       0                        0   \n",
       "2                          0                       0                        0   \n",
       "3                          0                       0                        0   \n",
       "4                          0                       0                        0   \n",
       "\n",
       "   Customer_Country_Switzerland  Customer_Country_United Kingdom  \n",
       "0                             0                                1  \n",
       "1                             0                                0  \n",
       "2                             0                                0  \n",
       "3                             0                                0  \n",
       "4                             0                                0  "
      ]
     },
     "execution_count": 2,
     "metadata": {},
     "output_type": "execute_result"
    }
   ],
   "source": [
    "# Read Cleaned DataFrame\n",
    "customer_df=pd.read_csv('../datasets/customer_df.csv')\n",
    "customer_df.head()"
   ]
  },
  {
   "cell_type": "code",
   "execution_count": 3,
   "metadata": {
    "ExecuteTime": {
     "end_time": "2020-01-14T16:31:33.808807Z",
     "start_time": "2020-01-14T16:31:33.803821Z"
    }
   },
   "outputs": [],
   "source": [
    "# def boxcox_df(x):\n",
    "#     x_boxcox,_=stats.boxcox(x)\n",
    "#     return x_boxcox"
   ]
  },
  {
   "cell_type": "markdown",
   "metadata": {},
   "source": [
    "## RFM Features"
   ]
  },
  {
   "cell_type": "code",
   "execution_count": 4,
   "metadata": {
    "ExecuteTime": {
     "end_time": "2020-01-14T16:31:33.833740Z",
     "start_time": "2020-01-14T16:31:33.811797Z"
    }
   },
   "outputs": [
    {
     "data": {
      "text/html": [
       "<div>\n",
       "<style scoped>\n",
       "    .dataframe tbody tr th:only-of-type {\n",
       "        vertical-align: middle;\n",
       "    }\n",
       "\n",
       "    .dataframe tbody tr th {\n",
       "        vertical-align: top;\n",
       "    }\n",
       "\n",
       "    .dataframe thead th {\n",
       "        text-align: right;\n",
       "    }\n",
       "</style>\n",
       "<table border=\"1\" class=\"dataframe\">\n",
       "  <thead>\n",
       "    <tr style=\"text-align: right;\">\n",
       "      <th></th>\n",
       "      <th>Recency</th>\n",
       "      <th>Frequency</th>\n",
       "      <th>Monetary</th>\n",
       "    </tr>\n",
       "    <tr>\n",
       "      <th>Customer ID</th>\n",
       "      <th></th>\n",
       "      <th></th>\n",
       "      <th></th>\n",
       "    </tr>\n",
       "  </thead>\n",
       "  <tbody>\n",
       "    <tr>\n",
       "      <th>12346.00</th>\n",
       "      <td>326</td>\n",
       "      <td>12</td>\n",
       "      <td>77556.46</td>\n",
       "    </tr>\n",
       "    <tr>\n",
       "      <th>12347.00</th>\n",
       "      <td>3</td>\n",
       "      <td>8</td>\n",
       "      <td>4921.53</td>\n",
       "    </tr>\n",
       "    <tr>\n",
       "      <th>12348.00</th>\n",
       "      <td>76</td>\n",
       "      <td>5</td>\n",
       "      <td>2019.40</td>\n",
       "    </tr>\n",
       "    <tr>\n",
       "      <th>12349.00</th>\n",
       "      <td>19</td>\n",
       "      <td>4</td>\n",
       "      <td>4428.69</td>\n",
       "    </tr>\n",
       "    <tr>\n",
       "      <th>12350.00</th>\n",
       "      <td>311</td>\n",
       "      <td>1</td>\n",
       "      <td>334.40</td>\n",
       "    </tr>\n",
       "  </tbody>\n",
       "</table>\n",
       "</div>"
      ],
      "text/plain": [
       "             Recency  Frequency  Monetary\n",
       "Customer ID                              \n",
       "12346.00         326         12  77556.46\n",
       "12347.00           3          8   4921.53\n",
       "12348.00          76          5   2019.40\n",
       "12349.00          19          4   4428.69\n",
       "12350.00         311          1    334.40"
      ]
     },
     "execution_count": 4,
     "metadata": {},
     "output_type": "execute_result"
    }
   ],
   "source": [
    "# RFM Value as Features\n",
    "\n",
    "rfm_data=customer_df[['Customer ID','Recency','Frequency','Monetary']]\n",
    "rfm_data.set_index('Customer ID',inplace=True)\n",
    "rfm_data.head()"
   ]
  },
  {
   "cell_type": "code",
   "execution_count": 5,
   "metadata": {
    "ExecuteTime": {
     "end_time": "2020-01-14T16:31:33.875626Z",
     "start_time": "2020-01-14T16:31:33.836731Z"
    }
   },
   "outputs": [
    {
     "data": {
      "text/html": [
       "<div>\n",
       "<style scoped>\n",
       "    .dataframe tbody tr th:only-of-type {\n",
       "        vertical-align: middle;\n",
       "    }\n",
       "\n",
       "    .dataframe tbody tr th {\n",
       "        vertical-align: top;\n",
       "    }\n",
       "\n",
       "    .dataframe thead th {\n",
       "        text-align: right;\n",
       "    }\n",
       "</style>\n",
       "<table border=\"1\" class=\"dataframe\">\n",
       "  <thead>\n",
       "    <tr style=\"text-align: right;\">\n",
       "      <th></th>\n",
       "      <th>Recency</th>\n",
       "      <th>Frequency</th>\n",
       "      <th>Monetary</th>\n",
       "    </tr>\n",
       "    <tr>\n",
       "      <th>Customer ID</th>\n",
       "      <th></th>\n",
       "      <th></th>\n",
       "      <th></th>\n",
       "    </tr>\n",
       "  </thead>\n",
       "  <tbody>\n",
       "    <tr>\n",
       "      <th>12346.00</th>\n",
       "      <td>5.79</td>\n",
       "      <td>2.48</td>\n",
       "      <td>11.26</td>\n",
       "    </tr>\n",
       "    <tr>\n",
       "      <th>12347.00</th>\n",
       "      <td>1.10</td>\n",
       "      <td>2.08</td>\n",
       "      <td>8.50</td>\n",
       "    </tr>\n",
       "    <tr>\n",
       "      <th>12348.00</th>\n",
       "      <td>4.33</td>\n",
       "      <td>1.61</td>\n",
       "      <td>7.61</td>\n",
       "    </tr>\n",
       "    <tr>\n",
       "      <th>12349.00</th>\n",
       "      <td>2.94</td>\n",
       "      <td>1.39</td>\n",
       "      <td>8.40</td>\n",
       "    </tr>\n",
       "    <tr>\n",
       "      <th>12350.00</th>\n",
       "      <td>5.74</td>\n",
       "      <td>0.00</td>\n",
       "      <td>5.81</td>\n",
       "    </tr>\n",
       "  </tbody>\n",
       "</table>\n",
       "</div>"
      ],
      "text/plain": [
       "             Recency  Frequency  Monetary\n",
       "Customer ID                              \n",
       "12346.00        5.79       2.48     11.26\n",
       "12347.00        1.10       2.08      8.50\n",
       "12348.00        4.33       1.61      7.61\n",
       "12349.00        2.94       1.39      8.40\n",
       "12350.00        5.74       0.00      5.81"
      ]
     },
     "execution_count": 5,
     "metadata": {},
     "output_type": "execute_result"
    }
   ],
   "source": [
    "rfm_data_log=np.log(rfm_data)\n",
    "rfm_data_log.head()"
   ]
  },
  {
   "cell_type": "code",
   "execution_count": 6,
   "metadata": {
    "ExecuteTime": {
     "end_time": "2020-01-14T16:31:33.891585Z",
     "start_time": "2020-01-14T16:31:33.878620Z"
    }
   },
   "outputs": [
    {
     "data": {
      "text/html": [
       "<div>\n",
       "<style scoped>\n",
       "    .dataframe tbody tr th:only-of-type {\n",
       "        vertical-align: middle;\n",
       "    }\n",
       "\n",
       "    .dataframe tbody tr th {\n",
       "        vertical-align: top;\n",
       "    }\n",
       "\n",
       "    .dataframe thead th {\n",
       "        text-align: right;\n",
       "    }\n",
       "</style>\n",
       "<table border=\"1\" class=\"dataframe\">\n",
       "  <thead>\n",
       "    <tr style=\"text-align: right;\">\n",
       "      <th></th>\n",
       "      <th>Recency</th>\n",
       "      <th>Frequency</th>\n",
       "      <th>Monetary</th>\n",
       "    </tr>\n",
       "    <tr>\n",
       "      <th>Customer ID</th>\n",
       "      <th></th>\n",
       "      <th></th>\n",
       "      <th></th>\n",
       "    </tr>\n",
       "  </thead>\n",
       "  <tbody>\n",
       "    <tr>\n",
       "      <th>12346.00</th>\n",
       "      <td>5.79</td>\n",
       "      <td>2.48</td>\n",
       "      <td>11.26</td>\n",
       "    </tr>\n",
       "    <tr>\n",
       "      <th>12347.00</th>\n",
       "      <td>1.10</td>\n",
       "      <td>2.08</td>\n",
       "      <td>8.50</td>\n",
       "    </tr>\n",
       "    <tr>\n",
       "      <th>12348.00</th>\n",
       "      <td>4.33</td>\n",
       "      <td>1.61</td>\n",
       "      <td>7.61</td>\n",
       "    </tr>\n",
       "    <tr>\n",
       "      <th>12349.00</th>\n",
       "      <td>2.94</td>\n",
       "      <td>1.39</td>\n",
       "      <td>8.40</td>\n",
       "    </tr>\n",
       "    <tr>\n",
       "      <th>12350.00</th>\n",
       "      <td>5.74</td>\n",
       "      <td>0.00</td>\n",
       "      <td>5.81</td>\n",
       "    </tr>\n",
       "  </tbody>\n",
       "</table>\n",
       "</div>"
      ],
      "text/plain": [
       "             Recency  Frequency  Monetary\n",
       "Customer ID                              \n",
       "12346.00        5.79       2.48     11.26\n",
       "12347.00        1.10       2.08      8.50\n",
       "12348.00        4.33       1.61      7.61\n",
       "12349.00        2.94       1.39      8.40\n",
       "12350.00        5.74       0.00      5.81"
      ]
     },
     "execution_count": 6,
     "metadata": {},
     "output_type": "execute_result"
    }
   ],
   "source": [
    "# Applying K-Means Clustering Algorithm to Recency, Frequency Score, Monetary Score\n",
    "rfm_normalized_df= rfm_data_log.copy()\n",
    "rfm_normalized_df.head()"
   ]
  },
  {
   "cell_type": "code",
   "execution_count": 7,
   "metadata": {
    "ExecuteTime": {
     "end_time": "2020-01-14T16:31:33.901558Z",
     "start_time": "2020-01-14T16:31:33.894577Z"
    }
   },
   "outputs": [],
   "source": [
    "# define X\n",
    "X=rfm_normalized_df"
   ]
  },
  {
   "cell_type": "code",
   "execution_count": 8,
   "metadata": {
    "ExecuteTime": {
     "end_time": "2020-01-14T16:31:33.921504Z",
     "start_time": "2020-01-14T16:31:33.905548Z"
    }
   },
   "outputs": [],
   "source": [
    "#Feature Scaling\n",
    "sc= StandardScaler()\n",
    "X_sc= sc.fit_transform(X)"
   ]
  },
  {
   "cell_type": "code",
   "execution_count": 9,
   "metadata": {
    "ExecuteTime": {
     "end_time": "2020-01-14T16:31:33.932474Z",
     "start_time": "2020-01-14T16:31:33.925496Z"
    }
   },
   "outputs": [
    {
     "data": {
      "text/plain": [
       "(5878, 3)"
      ]
     },
     "execution_count": 9,
     "metadata": {},
     "output_type": "execute_result"
    }
   ],
   "source": [
    "X_sc.shape"
   ]
  },
  {
   "cell_type": "markdown",
   "metadata": {},
   "source": [
    "## Elbow Method & Silhouette_Score to get Best K Value"
   ]
  },
  {
   "cell_type": "markdown",
   "metadata": {},
   "source": [
    "<font color=darkblue> There's no 'correct' value for K Value,it depends of the subject matter or domain knowledge to determine the best K Value for each circumstances.<br>\n",
    "We will use Silhoutte Score and Elbow Method to determine the range of K value to be fitted in to KMeans to observe clusters formed and choose the most appropriate K value. "
   ]
  },
  {
   "cell_type": "code",
   "execution_count": 10,
   "metadata": {
    "ExecuteTime": {
     "end_time": "2020-01-14T16:33:09.340421Z",
     "start_time": "2020-01-14T16:31:33.936465Z"
    }
   },
   "outputs": [
    {
     "name": "stdout",
     "output_type": "stream",
     "text": [
      "For n_clusters = 2 The average silhouette_score is : 0.43426991831980655\n",
      "For n_clusters = 3 The average silhouette_score is : 0.3440264320463262\n",
      "For n_clusters = 4 The average silhouette_score is : 0.3638463352129543\n",
      "For n_clusters = 5 The average silhouette_score is : 0.33547247246838213\n",
      "For n_clusters = 6 The average silhouette_score is : 0.33739825832714565\n",
      "For n_clusters = 7 The average silhouette_score is : 0.3069378106666385\n",
      "For n_clusters = 8 The average silhouette_score is : 0.312474745233619\n",
      "For n_clusters = 9 The average silhouette_score is : 0.28858604348701955\n",
      "For n_clusters = 10 The average silhouette_score is : 0.29414180633240217\n"
     ]
    },
    {
     "data": {
      "image/png": "[encoded data removed]",
      "text/plain": [
       "<Figure size 576x360 with 1 Axes>"
      ]
     },
     "metadata": {
      "needs_background": "light"
     },
     "output_type": "display_data"
    }
   ],
   "source": [
    "sils=[]\n",
    "\n",
    "for k in range(2,11):\n",
    "    km=KMeans(init='k-means++', n_clusters = k, n_init=100,random_state=101)\n",
    "    km.fit(X_sc)\n",
    "    sils.append(silhouette_score(X_sc,km.labels_,metric='euclidean'))\n",
    "    silhouette_avg = silhouette_score(X_sc,km.labels_)\n",
    "    print(\"For n_clusters =\", k, \"The average silhouette_score is :\", silhouette_avg)\n",
    "\n",
    "    \n",
    "fig,ax=plt.subplots(figsize=(8,5))\n",
    "ax.plot(range(2,11),sils,c='grey',lw=3.5,alpha=0.7)\n",
    "ax.scatter(range(2,11),sils,c='darkred',s=175)\n",
    "\n",
    "plt.title('N-Clsuter and Silhouette Score')\n",
    "plt.xlabel('N-Cluster')\n",
    "plt.ylabel('Silhouette Score')\n",
    "plt.show()"
   ]
  },
  {
   "cell_type": "code",
   "execution_count": 11,
   "metadata": {
    "ExecuteTime": {
     "end_time": "2020-01-14T16:33:50.557442Z",
     "start_time": "2020-01-14T16:33:09.356110Z"
    }
   },
   "outputs": [
    {
     "name": "stdout",
     "output_type": "stream",
     "text": [
      "For n_clusters = 2 The wcss is : 8518.587966422097\n",
      "For n_clusters = 3 The wcss is : 6329.500756860086\n",
      "For n_clusters = 4 The wcss is : 4921.112823490689\n",
      "For n_clusters = 5 The wcss is : 4152.747252228449\n",
      "For n_clusters = 6 The wcss is : 3579.107154444541\n",
      "For n_clusters = 7 The wcss is : 3225.1206911356203\n",
      "For n_clusters = 8 The wcss is : 2921.0984000496246\n",
      "For n_clusters = 9 The wcss is : 2703.8319313936863\n",
      "For n_clusters = 10 The wcss is : 2506.290858274407\n"
     ]
    },
    {
     "data": {
      "image/png": "[encoded data removed]",
      "text/plain": [
       "<Figure size 576x360 with 1 Axes>"
      ]
     },
     "metadata": {
      "needs_background": "light"
     },
     "output_type": "display_data"
    }
   ],
   "source": [
    "wcss=[]\n",
    "\n",
    "for k in range(2,11):\n",
    "    km=KMeans(init='k-means++', n_clusters = k, n_init=100,random_state=101)\n",
    "    km.fit(X_sc)\n",
    "    wcss.append(km.inertia_)\n",
    "    \n",
    "    print(\"For n_clusters =\", k, \"The wcss is :\", km.inertia_)\n",
    "    \n",
    "fig, ax=plt.subplots(figsize=(8,5))\n",
    "ax.plot(range(2,11),wcss,c='grey',lw=3.5,alpha=0.7)\n",
    "ax.scatter(range(2,11),wcss,c='steelblue',s=175)\n",
    "plt.title('N-Clsuter and Within Cluster Sum of Squares')\n",
    "plt.xlabel('N-Cluster')\n",
    "plt.ylabel('Within Cluster Sum of Squares')\n",
    "\n",
    "plt.show()"
   ]
  },
  {
   "cell_type": "code",
   "execution_count": 12,
   "metadata": {
    "ExecuteTime": {
     "end_time": "2020-01-14T16:34:53.585400Z",
     "start_time": "2020-01-14T16:33:50.563427Z"
    }
   },
   "outputs": [
    {
     "data": {
      "text/html": [
       "<div>\n",
       "<style scoped>\n",
       "    .dataframe tbody tr th:only-of-type {\n",
       "        vertical-align: middle;\n",
       "    }\n",
       "\n",
       "    .dataframe tbody tr th {\n",
       "        vertical-align: top;\n",
       "    }\n",
       "\n",
       "    .dataframe thead th {\n",
       "        text-align: right;\n",
       "    }\n",
       "</style>\n",
       "<table border=\"1\" class=\"dataframe\">\n",
       "  <thead>\n",
       "    <tr style=\"text-align: right;\">\n",
       "      <th></th>\n",
       "      <th>k</th>\n",
       "      <th>inertia</th>\n",
       "      <th>silhouette</th>\n",
       "    </tr>\n",
       "  </thead>\n",
       "  <tbody>\n",
       "    <tr>\n",
       "      <th>0</th>\n",
       "      <td>2</td>\n",
       "      <td>8518.59</td>\n",
       "      <td>0.43</td>\n",
       "    </tr>\n",
       "    <tr>\n",
       "      <th>1</th>\n",
       "      <td>3</td>\n",
       "      <td>6329.50</td>\n",
       "      <td>0.34</td>\n",
       "    </tr>\n",
       "    <tr>\n",
       "      <th>2</th>\n",
       "      <td>4</td>\n",
       "      <td>4921.11</td>\n",
       "      <td>0.36</td>\n",
       "    </tr>\n",
       "    <tr>\n",
       "      <th>3</th>\n",
       "      <td>5</td>\n",
       "      <td>4152.75</td>\n",
       "      <td>0.34</td>\n",
       "    </tr>\n",
       "    <tr>\n",
       "      <th>4</th>\n",
       "      <td>6</td>\n",
       "      <td>3579.11</td>\n",
       "      <td>0.34</td>\n",
       "    </tr>\n",
       "    <tr>\n",
       "      <th>5</th>\n",
       "      <td>7</td>\n",
       "      <td>3225.12</td>\n",
       "      <td>0.31</td>\n",
       "    </tr>\n",
       "    <tr>\n",
       "      <th>6</th>\n",
       "      <td>8</td>\n",
       "      <td>2921.10</td>\n",
       "      <td>0.31</td>\n",
       "    </tr>\n",
       "    <tr>\n",
       "      <th>7</th>\n",
       "      <td>9</td>\n",
       "      <td>2703.83</td>\n",
       "      <td>0.29</td>\n",
       "    </tr>\n",
       "    <tr>\n",
       "      <th>8</th>\n",
       "      <td>10</td>\n",
       "      <td>2506.29</td>\n",
       "      <td>0.29</td>\n",
       "    </tr>\n",
       "  </tbody>\n",
       "</table>\n",
       "</div>"
      ],
      "text/plain": [
       "    k  inertia  silhouette\n",
       "0   2  8518.59        0.43\n",
       "1   3  6329.50        0.34\n",
       "2   4  4921.11        0.36\n",
       "3   5  4152.75        0.34\n",
       "4   6  3579.11        0.34\n",
       "5   7  3225.12        0.31\n",
       "6   8  2921.10        0.31\n",
       "7   9  2703.83        0.29\n",
       "8  10  2506.29        0.29"
      ]
     },
     "execution_count": 12,
     "metadata": {},
     "output_type": "execute_result"
    }
   ],
   "source": [
    "scores = []\n",
    "for k in range(2, 11):\n",
    "    cl = KMeans(init='k-means++', n_clusters = k, n_init=100,random_state=101)\n",
    "    cl.fit(X_sc)\n",
    "    inertia = cl.inertia_\n",
    "    \n",
    "    sil = silhouette_score(X_sc, cl.labels_)\n",
    "    scores.append([k, inertia, sil])\n",
    "    \n",
    "score_df = pd.DataFrame(scores)\n",
    "score_df.columns = ['k', 'inertia', 'silhouette']\n",
    "score_df"
   ]
  },
  {
   "cell_type": "markdown",
   "metadata": {},
   "source": [
    "<font color=darkblue> From the above 2 diagrams, k=4 is the optimum choice where the silhoutte score is highest 0.3796 and the drop wcss after k=4 is less prominent.<br>"
   ]
  },
  {
   "cell_type": "markdown",
   "metadata": {},
   "source": [
    "### Fitting K= 3 in to KMeans"
   ]
  },
  {
   "cell_type": "code",
   "execution_count": 13,
   "metadata": {
    "ExecuteTime": {
     "end_time": "2020-01-14T16:34:53.877970Z",
     "start_time": "2020-01-14T16:34:53.603351Z"
    }
   },
   "outputs": [],
   "source": [
    "# Fitting K-Means to the dataset\n",
    "km = KMeans(n_clusters = 3, init = 'k-means++',random_state=101)\n",
    "label = km.fit_predict(X_sc)"
   ]
  },
  {
   "cell_type": "code",
   "execution_count": 14,
   "metadata": {
    "ExecuteTime": {
     "end_time": "2020-01-14T16:34:53.934819Z",
     "start_time": "2020-01-14T16:34:53.882957Z"
    }
   },
   "outputs": [
    {
     "data": {
      "text/html": [
       "<div>\n",
       "<style scoped>\n",
       "    .dataframe tbody tr th:only-of-type {\n",
       "        vertical-align: middle;\n",
       "    }\n",
       "\n",
       "    .dataframe tbody tr th {\n",
       "        vertical-align: top;\n",
       "    }\n",
       "\n",
       "    .dataframe thead th {\n",
       "        text-align: right;\n",
       "    }\n",
       "</style>\n",
       "<table border=\"1\" class=\"dataframe\">\n",
       "  <thead>\n",
       "    <tr style=\"text-align: right;\">\n",
       "      <th></th>\n",
       "      <th>Recency</th>\n",
       "      <th>Frequency</th>\n",
       "      <th>Monetary</th>\n",
       "      <th>Cluster</th>\n",
       "    </tr>\n",
       "    <tr>\n",
       "      <th>Customer ID</th>\n",
       "      <th></th>\n",
       "      <th></th>\n",
       "      <th></th>\n",
       "      <th></th>\n",
       "    </tr>\n",
       "  </thead>\n",
       "  <tbody>\n",
       "    <tr>\n",
       "      <th>12346.00</th>\n",
       "      <td>326</td>\n",
       "      <td>12</td>\n",
       "      <td>77556.46</td>\n",
       "      <td>1</td>\n",
       "    </tr>\n",
       "    <tr>\n",
       "      <th>12347.00</th>\n",
       "      <td>3</td>\n",
       "      <td>8</td>\n",
       "      <td>4921.53</td>\n",
       "      <td>1</td>\n",
       "    </tr>\n",
       "    <tr>\n",
       "      <th>12348.00</th>\n",
       "      <td>76</td>\n",
       "      <td>5</td>\n",
       "      <td>2019.40</td>\n",
       "      <td>0</td>\n",
       "    </tr>\n",
       "    <tr>\n",
       "      <th>12349.00</th>\n",
       "      <td>19</td>\n",
       "      <td>4</td>\n",
       "      <td>4428.69</td>\n",
       "      <td>1</td>\n",
       "    </tr>\n",
       "    <tr>\n",
       "      <th>12350.00</th>\n",
       "      <td>311</td>\n",
       "      <td>1</td>\n",
       "      <td>334.40</td>\n",
       "      <td>2</td>\n",
       "    </tr>\n",
       "  </tbody>\n",
       "</table>\n",
       "</div>"
      ],
      "text/plain": [
       "             Recency  Frequency  Monetary  Cluster\n",
       "Customer ID                                       \n",
       "12346.00         326         12  77556.46        1\n",
       "12347.00           3          8   4921.53        1\n",
       "12348.00          76          5   2019.40        0\n",
       "12349.00          19          4   4428.69        1\n",
       "12350.00         311          1    334.40        2"
      ]
     },
     "execution_count": 14,
     "metadata": {},
     "output_type": "execute_result"
    }
   ],
   "source": [
    "datadf_3=rfm_data.copy()\n",
    "datadf_3['Cluster']=label\n",
    "datadf_3.head()"
   ]
  },
  {
   "cell_type": "code",
   "execution_count": 15,
   "metadata": {
    "ExecuteTime": {
     "end_time": "2020-01-14T16:34:53.975710Z",
     "start_time": "2020-01-14T16:34:53.941801Z"
    }
   },
   "outputs": [
    {
     "data": {
      "text/html": [
       "<div>\n",
       "<style scoped>\n",
       "    .dataframe tbody tr th:only-of-type {\n",
       "        vertical-align: middle;\n",
       "    }\n",
       "\n",
       "    .dataframe tbody tr th {\n",
       "        vertical-align: top;\n",
       "    }\n",
       "\n",
       "    .dataframe thead th {\n",
       "        text-align: right;\n",
       "    }\n",
       "</style>\n",
       "<table border=\"1\" class=\"dataframe\">\n",
       "  <thead>\n",
       "    <tr style=\"text-align: right;\">\n",
       "      <th></th>\n",
       "      <th>Recency</th>\n",
       "      <th>Frequency</th>\n",
       "      <th>Monetary</th>\n",
       "    </tr>\n",
       "  </thead>\n",
       "  <tbody>\n",
       "    <tr>\n",
       "      <th>0</th>\n",
       "      <td>4.28</td>\n",
       "      <td>1.34</td>\n",
       "      <td>7.04</td>\n",
       "    </tr>\n",
       "    <tr>\n",
       "      <th>1</th>\n",
       "      <td>2.64</td>\n",
       "      <td>2.61</td>\n",
       "      <td>8.57</td>\n",
       "    </tr>\n",
       "    <tr>\n",
       "      <th>2</th>\n",
       "      <td>5.62</td>\n",
       "      <td>0.24</td>\n",
       "      <td>5.56</td>\n",
       "    </tr>\n",
       "  </tbody>\n",
       "</table>\n",
       "</div>"
      ],
      "text/plain": [
       "   Recency  Frequency  Monetary\n",
       "0     4.28       1.34      7.04\n",
       "1     2.64       2.61      8.57\n",
       "2     5.62       0.24      5.56"
      ]
     },
     "execution_count": 15,
     "metadata": {},
     "output_type": "execute_result"
    }
   ],
   "source": [
    "centroids=pd.DataFrame(sc.inverse_transform(km.cluster_centers_),columns=['Recency','Frequency','Monetary'])\n",
    "centroids"
   ]
  },
  {
   "cell_type": "code",
   "execution_count": 16,
   "metadata": {
    "ExecuteTime": {
     "end_time": "2020-01-14T16:34:54.046520Z",
     "start_time": "2020-01-14T16:34:53.982691Z"
    }
   },
   "outputs": [
    {
     "data": {
      "text/html": [
       "<div>\n",
       "<style scoped>\n",
       "    .dataframe tbody tr th:only-of-type {\n",
       "        vertical-align: middle;\n",
       "    }\n",
       "\n",
       "    .dataframe tbody tr th {\n",
       "        vertical-align: top;\n",
       "    }\n",
       "\n",
       "    .dataframe thead th {\n",
       "        text-align: right;\n",
       "    }\n",
       "</style>\n",
       "<table border=\"1\" class=\"dataframe\">\n",
       "  <thead>\n",
       "    <tr style=\"text-align: right;\">\n",
       "      <th></th>\n",
       "      <th>Recency</th>\n",
       "      <th>Frequency</th>\n",
       "      <th>Monetary</th>\n",
       "      <th>Cluster</th>\n",
       "    </tr>\n",
       "    <tr>\n",
       "      <th>Cluster</th>\n",
       "      <th></th>\n",
       "      <th></th>\n",
       "      <th></th>\n",
       "      <th></th>\n",
       "    </tr>\n",
       "  </thead>\n",
       "  <tbody>\n",
       "    <tr>\n",
       "      <th>0</th>\n",
       "      <td>137.95</td>\n",
       "      <td>4.37</td>\n",
       "      <td>1484.92</td>\n",
       "      <td>2340</td>\n",
       "    </tr>\n",
       "    <tr>\n",
       "      <th>1</th>\n",
       "      <td>28.56</td>\n",
       "      <td>18.24</td>\n",
       "      <td>10124.64</td>\n",
       "      <td>1296</td>\n",
       "    </tr>\n",
       "    <tr>\n",
       "      <th>2</th>\n",
       "      <td>368.76</td>\n",
       "      <td>1.38</td>\n",
       "      <td>347.26</td>\n",
       "      <td>2242</td>\n",
       "    </tr>\n",
       "  </tbody>\n",
       "</table>\n",
       "</div>"
      ],
      "text/plain": [
       "         Recency  Frequency  Monetary  Cluster\n",
       "Cluster                                       \n",
       "0         137.95       4.37   1484.92     2340\n",
       "1          28.56      18.24  10124.64     1296\n",
       "2         368.76       1.38    347.26     2242"
      ]
     },
     "execution_count": 16,
     "metadata": {},
     "output_type": "execute_result"
    }
   ],
   "source": [
    "grouped_clustter_3=datadf_3.groupby(['Cluster']).agg({'Recency':'mean',\n",
    "                                             'Frequency':'mean',\n",
    "                                             'Monetary':'mean',\n",
    "                                             'Cluster':'count'})\n",
    "grouped_clustter_3"
   ]
  },
  {
   "cell_type": "code",
   "execution_count": 17,
   "metadata": {
    "ExecuteTime": {
     "end_time": "2020-01-14T16:34:54.078437Z",
     "start_time": "2020-01-14T16:34:54.054501Z"
    }
   },
   "outputs": [
    {
     "data": {
      "text/html": [
       "<div>\n",
       "<style scoped>\n",
       "    .dataframe tbody tr th:only-of-type {\n",
       "        vertical-align: middle;\n",
       "    }\n",
       "\n",
       "    .dataframe tbody tr th {\n",
       "        vertical-align: top;\n",
       "    }\n",
       "\n",
       "    .dataframe thead th {\n",
       "        text-align: right;\n",
       "    }\n",
       "</style>\n",
       "<table border=\"1\" class=\"dataframe\">\n",
       "  <thead>\n",
       "    <tr style=\"text-align: right;\">\n",
       "      <th></th>\n",
       "      <th>Recency</th>\n",
       "      <th>Frequency</th>\n",
       "      <th>Monetary</th>\n",
       "      <th>Cluster</th>\n",
       "    </tr>\n",
       "    <tr>\n",
       "      <th>Customer ID</th>\n",
       "      <th></th>\n",
       "      <th></th>\n",
       "      <th></th>\n",
       "      <th></th>\n",
       "    </tr>\n",
       "  </thead>\n",
       "  <tbody>\n",
       "    <tr>\n",
       "      <th>12346.00</th>\n",
       "      <td>0.85</td>\n",
       "      <td>1.25</td>\n",
       "      <td>3.20</td>\n",
       "      <td>1</td>\n",
       "    </tr>\n",
       "    <tr>\n",
       "      <th>12347.00</th>\n",
       "      <td>-2.09</td>\n",
       "      <td>0.85</td>\n",
       "      <td>1.21</td>\n",
       "      <td>1</td>\n",
       "    </tr>\n",
       "    <tr>\n",
       "      <th>12348.00</th>\n",
       "      <td>-0.06</td>\n",
       "      <td>0.40</td>\n",
       "      <td>0.57</td>\n",
       "      <td>0</td>\n",
       "    </tr>\n",
       "    <tr>\n",
       "      <th>12349.00</th>\n",
       "      <td>-0.93</td>\n",
       "      <td>0.18</td>\n",
       "      <td>1.14</td>\n",
       "      <td>1</td>\n",
       "    </tr>\n",
       "    <tr>\n",
       "      <th>12350.00</th>\n",
       "      <td>0.82</td>\n",
       "      <td>-1.17</td>\n",
       "      <td>-0.72</td>\n",
       "      <td>2</td>\n",
       "    </tr>\n",
       "  </tbody>\n",
       "</table>\n",
       "</div>"
      ],
      "text/plain": [
       "             Recency  Frequency  Monetary  Cluster\n",
       "Customer ID                                       \n",
       "12346.00        0.85       1.25      3.20        1\n",
       "12347.00       -2.09       0.85      1.21        1\n",
       "12348.00       -0.06       0.40      0.57        0\n",
       "12349.00       -0.93       0.18      1.14        1\n",
       "12350.00        0.82      -1.17     -0.72        2"
      ]
     },
     "execution_count": 17,
     "metadata": {},
     "output_type": "execute_result"
    }
   ],
   "source": [
    "data_normalized=pd.DataFrame(X_sc,\n",
    "                            index=rfm_data.index,\n",
    "                            columns=rfm_data.columns)\n",
    "data_normalized['Cluster']=datadf_3['Cluster']\n",
    "data_normalized.head()"
   ]
  },
  {
   "cell_type": "code",
   "execution_count": 18,
   "metadata": {
    "ExecuteTime": {
     "end_time": "2020-01-14T16:34:54.147262Z",
     "start_time": "2020-01-14T16:34:54.081427Z"
    }
   },
   "outputs": [
    {
     "data": {
      "text/html": [
       "<div>\n",
       "<style scoped>\n",
       "    .dataframe tbody tr th:only-of-type {\n",
       "        vertical-align: middle;\n",
       "    }\n",
       "\n",
       "    .dataframe tbody tr th {\n",
       "        vertical-align: top;\n",
       "    }\n",
       "\n",
       "    .dataframe thead th {\n",
       "        text-align: right;\n",
       "    }\n",
       "</style>\n",
       "<table border=\"1\" class=\"dataframe\">\n",
       "  <thead>\n",
       "    <tr style=\"text-align: right;\">\n",
       "      <th></th>\n",
       "      <th>Customer ID</th>\n",
       "      <th>Cluster</th>\n",
       "      <th>Attribute</th>\n",
       "      <th>Value</th>\n",
       "    </tr>\n",
       "  </thead>\n",
       "  <tbody>\n",
       "    <tr>\n",
       "      <th>0</th>\n",
       "      <td>12346.00</td>\n",
       "      <td>1</td>\n",
       "      <td>Recency</td>\n",
       "      <td>0.85</td>\n",
       "    </tr>\n",
       "    <tr>\n",
       "      <th>1</th>\n",
       "      <td>12347.00</td>\n",
       "      <td>1</td>\n",
       "      <td>Recency</td>\n",
       "      <td>-2.09</td>\n",
       "    </tr>\n",
       "    <tr>\n",
       "      <th>2</th>\n",
       "      <td>12348.00</td>\n",
       "      <td>0</td>\n",
       "      <td>Recency</td>\n",
       "      <td>-0.06</td>\n",
       "    </tr>\n",
       "    <tr>\n",
       "      <th>3</th>\n",
       "      <td>12349.00</td>\n",
       "      <td>1</td>\n",
       "      <td>Recency</td>\n",
       "      <td>-0.93</td>\n",
       "    </tr>\n",
       "    <tr>\n",
       "      <th>4</th>\n",
       "      <td>12350.00</td>\n",
       "      <td>2</td>\n",
       "      <td>Recency</td>\n",
       "      <td>0.82</td>\n",
       "    </tr>\n",
       "  </tbody>\n",
       "</table>\n",
       "</div>"
      ],
      "text/plain": [
       "   Customer ID  Cluster Attribute  Value\n",
       "0     12346.00        1   Recency   0.85\n",
       "1     12347.00        1   Recency  -2.09\n",
       "2     12348.00        0   Recency  -0.06\n",
       "3     12349.00        1   Recency  -0.93\n",
       "4     12350.00        2   Recency   0.82"
      ]
     },
     "execution_count": 18,
     "metadata": {},
     "output_type": "execute_result"
    }
   ],
   "source": [
    "rfm_k3data_melt=pd.melt(data_normalized.reset_index(),\n",
    "                 id_vars=['Customer ID','Cluster'],\n",
    "                 value_vars=['Recency','Frequency','Monetary'],\n",
    "                 var_name='Attribute',\n",
    "                  value_name='Value')\n",
    "rfm_k3data_melt.head()"
   ]
  },
  {
   "cell_type": "markdown",
   "metadata": {
    "ExecuteTime": {
     "end_time": "2020-01-05T10:15:27.062853Z",
     "start_time": "2020-01-05T10:15:27.042907Z"
    }
   },
   "source": [
    "snake plot\n",
    "- Market Research technque to compare different segments\n",
    "- Visual representation of each segments attributes\n",
    "- Need to first normalize data (center and scaled)\n",
    "- Plot each cluster's average normalized values of each attributes"
   ]
  },
  {
   "cell_type": "code",
   "execution_count": 19,
   "metadata": {
    "ExecuteTime": {
     "end_time": "2020-01-14T16:34:55.997426Z",
     "start_time": "2020-01-14T16:34:54.152251Z"
    }
   },
   "outputs": [
    {
     "data": {
      "image/png": "[encoded data removed]",
      "text/plain": [
       "<Figure size 432x288 with 1 Axes>"
      ]
     },
     "metadata": {
      "needs_background": "light"
     },
     "output_type": "display_data"
    }
   ],
   "source": [
    "plt.title('SnakePlot of Standardized Variables RFM, k=3')\n",
    "rfmk3=sns.lineplot(x='Attribute',y='Value',hue='Cluster',data=rfm_k3data_melt,legend='full',palette='Set2')"
   ]
  },
  {
   "cell_type": "code",
   "execution_count": 20,
   "metadata": {
    "ExecuteTime": {
     "end_time": "2020-01-14T16:34:56.639711Z",
     "start_time": "2020-01-14T16:34:56.001416Z"
    }
   },
   "outputs": [],
   "source": [
    "cluster_avg=datadf_3.groupby(['Cluster']).mean()\n",
    "population_avg=datadf_3.mean()\n",
    "rfm3_relative_imp=(cluster_avg/population_avg)-1"
   ]
  },
  {
   "cell_type": "markdown",
   "metadata": {},
   "source": [
    "the further a ratio is from 0, the more important that attribute is for a segment relative to the total population\n"
   ]
  },
  {
   "cell_type": "code",
   "execution_count": 21,
   "metadata": {
    "ExecuteTime": {
     "end_time": "2020-01-14T16:34:56.656663Z",
     "start_time": "2020-01-14T16:34:56.644696Z"
    }
   },
   "outputs": [],
   "source": [
    "rfm3_relative_imp.round(2)\n",
    "rfm3_relative_imp.drop('Cluster',axis=1,inplace=True)"
   ]
  },
  {
   "cell_type": "code",
   "execution_count": null,
   "metadata": {
    "ExecuteTime": {
     "start_time": "2020-01-14T16:31:28.815Z"
    }
   },
   "outputs": [],
   "source": [
    "plt.figure(figsize=(8,4))\n",
    "plt.title('Relative importance of attributes RFM, k=3')\n",
    "sns.heatmap(data=rfm3_relative_imp,annot=True,\n",
    "           fmt='.2f',cmap='PuRd');"
   ]
  },
  {
   "cell_type": "code",
   "execution_count": null,
   "metadata": {
    "ExecuteTime": {
     "start_time": "2020-01-14T16:31:28.824Z"
    }
   },
   "outputs": [],
   "source": [
    "datadf_3['Cluster']=datadf_3[\"Cluster\"].apply(str)\n",
    "\n",
    "dt = tree.DecisionTreeClassifier(random_state = 101,max_depth=3)  \n",
    "dt = dt.fit(datadf_3.iloc[:,1:3],datadf_3.iloc[:,3])\n",
    "\n",
    "import pydotplus  \n",
    "dot_data = tree.export_graphviz(dt, out_file=None)  \n",
    "graph2 = pydotplus.graph_from_dot_data(dot_data)  \n",
    "graph2.write_pdf(\"../tree/tree.pdf\")  \n",
    "\n",
    "from IPython.display import Image  \n",
    "dot_data = tree.export_graphviz(dt, out_file=None,  \n",
    "                     feature_names=list(datadf_3.iloc[:,1:3].columns),\n",
    "                     class_names=list(set(datadf_3['Cluster'].values)),\n",
    "                     filled=True, rounded=True,  # leaves_parallel=True, \n",
    "                     special_characters=True)  \n",
    "graph2 = pydotplus.graph_from_dot_data(dot_data)\n",
    "\n",
    "## Color of nodes\n",
    "nodes = graph2.get_node_list()\n",
    "\n",
    "for node in nodes:\n",
    "    if node.get_label():\n",
    "        values = [int(ii) for ii in node.get_label().split('value = [')[1].split(']')[0].split(',')];\n",
    "        color = {0: [255,255,224], 1: [255,224,255], 2: [224,255,255],}\n",
    "        values = color[values.index(max(values))]; # print(values)\n",
    "        color = '#{:02x}{:02x}{:02x}'.format(values[0], values[1], values[2]); # print(color)\n",
    "        node.set_fillcolor(color )\n",
    "\n",
    "Image(graph2.create_png() ) "
   ]
  },
  {
   "cell_type": "markdown",
   "metadata": {},
   "source": [
    "### Fitting K= 4 in to KMeans"
   ]
  },
  {
   "cell_type": "code",
   "execution_count": null,
   "metadata": {
    "ExecuteTime": {
     "start_time": "2020-01-14T16:31:28.830Z"
    }
   },
   "outputs": [],
   "source": [
    "# Fitting K-Means to the dataset\n",
    "km = KMeans(n_clusters = 4, init = 'k-means++',random_state=101)\n",
    "label = km.fit_predict(X_sc)"
   ]
  },
  {
   "cell_type": "code",
   "execution_count": null,
   "metadata": {
    "ExecuteTime": {
     "start_time": "2020-01-14T16:31:28.842Z"
    }
   },
   "outputs": [],
   "source": [
    "datadf_4=rfm_data.copy()\n",
    "datadf_4['Cluster']=label\n",
    "datadf_4.head()"
   ]
  },
  {
   "cell_type": "code",
   "execution_count": null,
   "metadata": {
    "ExecuteTime": {
     "start_time": "2020-01-14T16:31:28.848Z"
    }
   },
   "outputs": [],
   "source": [
    "centroids=pd.DataFrame(sc.inverse_transform(km.cluster_centers_),columns=['Recency','Frequency','Monetary'])\n",
    "centroids"
   ]
  },
  {
   "cell_type": "code",
   "execution_count": null,
   "metadata": {
    "ExecuteTime": {
     "start_time": "2020-01-14T16:31:28.862Z"
    }
   },
   "outputs": [],
   "source": [
    "grouped_clustter_4=datadf_4.groupby(['Cluster']).agg({'Recency':'mean',\n",
    "                                             'Frequency':'mean',\n",
    "                                             'Monetary':'mean',\n",
    "                                             'Cluster':'count'})\n",
    "grouped_clustter_4"
   ]
  },
  {
   "cell_type": "code",
   "execution_count": null,
   "metadata": {
    "ExecuteTime": {
     "start_time": "2020-01-14T16:31:28.874Z"
    }
   },
   "outputs": [],
   "source": [
    "data_normalized=pd.DataFrame(X_sc,\n",
    "                            index=rfm_data.index,\n",
    "                            columns=rfm_data.columns)\n",
    "data_normalized['Cluster']=datadf_4['Cluster']\n",
    "data_normalized.head()"
   ]
  },
  {
   "cell_type": "code",
   "execution_count": null,
   "metadata": {
    "ExecuteTime": {
     "start_time": "2020-01-14T16:31:28.880Z"
    }
   },
   "outputs": [],
   "source": [
    "rfm_k4data_melt=pd.melt(data_normalized.reset_index(),\n",
    "                 id_vars=['Customer ID','Cluster'],\n",
    "                 value_vars=['Recency','Frequency','Monetary'],\n",
    "                 var_name='Attribute',\n",
    "                  value_name='Value')\n",
    "rfm_k4data_melt.head()"
   ]
  },
  {
   "cell_type": "code",
   "execution_count": null,
   "metadata": {
    "ExecuteTime": {
     "start_time": "2020-01-14T16:31:28.891Z"
    }
   },
   "outputs": [],
   "source": [
    "plt.title('SnakePlot of Standardized Variables RFM, k=4')\n",
    "rfmk4=sns.lineplot(x='Attribute',y='Value',hue='Cluster',data=rfm_k4data_melt,legend='full',palette='Set2')"
   ]
  },
  {
   "cell_type": "code",
   "execution_count": null,
   "metadata": {
    "ExecuteTime": {
     "start_time": "2020-01-14T16:31:28.905Z"
    }
   },
   "outputs": [],
   "source": [
    "cluster_avg=datadf_4.groupby(['Cluster']).mean()\n",
    "population_avg=datadf_4.mean()\n",
    "rfm4_relative_imp=(cluster_avg/population_avg)-1"
   ]
  },
  {
   "cell_type": "code",
   "execution_count": null,
   "metadata": {
    "ExecuteTime": {
     "start_time": "2020-01-14T16:31:28.912Z"
    }
   },
   "outputs": [],
   "source": [
    "rfm4_relative_imp.round(2)\n",
    "rfm4_relative_imp.drop('Cluster',axis=1,inplace=True)"
   ]
  },
  {
   "cell_type": "code",
   "execution_count": null,
   "metadata": {
    "ExecuteTime": {
     "start_time": "2020-01-14T16:31:28.917Z"
    }
   },
   "outputs": [],
   "source": [
    "plt.figure(figsize=(8,4))\n",
    "plt.title('Relative importance of attributes RFM, k=4')\n",
    "sns.heatmap(data=rfm4_relative_imp,annot=True,\n",
    "           fmt='.2f',cmap='PuRd');"
   ]
  },
  {
   "cell_type": "code",
   "execution_count": null,
   "metadata": {
    "ExecuteTime": {
     "start_time": "2020-01-14T16:31:28.924Z"
    }
   },
   "outputs": [],
   "source": [
    "datadf_4['Cluster']=datadf_4[\"Cluster\"].apply(str)\n",
    "\n",
    "dt = tree.DecisionTreeClassifier(random_state = 101,max_depth=4)  \n",
    "dt = dt.fit(datadf_4.iloc[:,1:3],datadf_4.iloc[:,3])\n",
    "\n",
    "import pydotplus  \n",
    "dot_data = tree.export_graphviz(dt, out_file=None)  \n",
    "graph2 = pydotplus.graph_from_dot_data(dot_data)  \n",
    "graph2.write_pdf(\"../tree/tree.pdf\")  \n",
    "\n",
    "from IPython.display import Image  \n",
    "dot_data = tree.export_graphviz(dt, out_file=None,  \n",
    "                     feature_names=list(datadf_4.iloc[:,1:3].columns),\n",
    "                     class_names=list(set(datadf_4['Cluster'].values)),\n",
    "                     filled=True, rounded=True,  # leaves_parallel=True, \n",
    "                     special_characters=True)  \n",
    "graph2 = pydotplus.graph_from_dot_data(dot_data)\n",
    "\n",
    "## Color of nodes\n",
    "nodes = graph2.get_node_list()\n",
    "\n",
    "for node in nodes:\n",
    "    if node.get_label():\n",
    "        values = [int(ii) for ii in node.get_label().split('value = [')[1].split(']')[0].split(',')];\n",
    "        color = {0: [255,255,224], 1: [255,224,255], 2: [255,218,185],3: [127,255,212],}\n",
    "        values = color[values.index(max(values))]; # print(values)\n",
    "        color = '#{:02x}{:02x}{:02x}'.format(values[0], values[1], values[2]); # print(color)\n",
    "        node.set_fillcolor(color )\n",
    "\n",
    "Image(graph2.create_png() ) "
   ]
  },
  {
   "cell_type": "markdown",
   "metadata": {},
   "source": [
    "### Fitting K= 5 in to KMeans"
   ]
  },
  {
   "cell_type": "code",
   "execution_count": null,
   "metadata": {
    "ExecuteTime": {
     "start_time": "2020-01-14T16:31:28.929Z"
    }
   },
   "outputs": [],
   "source": [
    "# Fitting K-Means to the dataset\n",
    "km = KMeans(n_clusters = 5, init = 'k-means++',random_state=101)\n",
    "label = km.fit_predict(X_sc)"
   ]
  },
  {
   "cell_type": "code",
   "execution_count": null,
   "metadata": {
    "ExecuteTime": {
     "start_time": "2020-01-14T16:31:28.935Z"
    }
   },
   "outputs": [],
   "source": [
    "datadf_5=rfm_data.copy()\n",
    "datadf_5['Cluster']=label\n",
    "datadf_5.head()"
   ]
  },
  {
   "cell_type": "code",
   "execution_count": null,
   "metadata": {
    "ExecuteTime": {
     "start_time": "2020-01-14T16:31:28.941Z"
    }
   },
   "outputs": [],
   "source": [
    "centroids=pd.DataFrame(sc.inverse_transform(km.cluster_centers_),columns=['Recency','Frequency','Monetary'])\n",
    "centroids"
   ]
  },
  {
   "cell_type": "code",
   "execution_count": null,
   "metadata": {
    "ExecuteTime": {
     "start_time": "2020-01-14T16:31:28.949Z"
    }
   },
   "outputs": [],
   "source": [
    "grouped_clustter_5=datadf_5.groupby(['Cluster']).agg({'Recency':'mean',\n",
    "                                             'Frequency':'mean',\n",
    "                                             'Monetary':'mean',\n",
    "                                             'Cluster':'count'})\n",
    "grouped_clustter_5"
   ]
  },
  {
   "cell_type": "code",
   "execution_count": null,
   "metadata": {
    "ExecuteTime": {
     "start_time": "2020-01-14T16:31:28.960Z"
    }
   },
   "outputs": [],
   "source": [
    "data_normalized=pd.DataFrame(X_sc,\n",
    "                            index=rfm_data.index,\n",
    "                            columns=rfm_data.columns)\n",
    "data_normalized['Cluster']=datadf_5['Cluster']\n",
    "data_normalized.head()"
   ]
  },
  {
   "cell_type": "code",
   "execution_count": null,
   "metadata": {
    "ExecuteTime": {
     "start_time": "2020-01-14T16:31:28.966Z"
    }
   },
   "outputs": [],
   "source": [
    "rfm_k5data_melt=pd.melt(data_normalized.reset_index(),\n",
    "                 id_vars=['Customer ID','Cluster'],\n",
    "                 value_vars=['Recency','Frequency','Monetary'],\n",
    "                 var_name='Attribute',\n",
    "                  value_name='Value')\n",
    "rfm_k5data_melt.head()"
   ]
  },
  {
   "cell_type": "code",
   "execution_count": null,
   "metadata": {
    "ExecuteTime": {
     "start_time": "2020-01-14T16:31:28.972Z"
    }
   },
   "outputs": [],
   "source": [
    "plt.title('SnakePlot of Standardized Variables RFM, k=5')\n",
    "rfmk5=sns.lineplot(x='Attribute',y='Value',hue='Cluster',data=rfm_k5data_melt,legend='full',palette='Set2')"
   ]
  },
  {
   "cell_type": "code",
   "execution_count": null,
   "metadata": {
    "ExecuteTime": {
     "start_time": "2020-01-14T16:31:28.976Z"
    }
   },
   "outputs": [],
   "source": [
    "cluster_avg=datadf_5.groupby(['Cluster']).mean()\n",
    "population_avg=datadf_5.mean()\n",
    "rfm5_relative_imp=(cluster_avg/population_avg)-1"
   ]
  },
  {
   "cell_type": "code",
   "execution_count": null,
   "metadata": {
    "ExecuteTime": {
     "start_time": "2020-01-14T16:31:28.981Z"
    }
   },
   "outputs": [],
   "source": [
    "rfm5_relative_imp.round(2)\n",
    "rfm5_relative_imp.drop('Cluster',axis=1,inplace=True)"
   ]
  },
  {
   "cell_type": "code",
   "execution_count": null,
   "metadata": {
    "ExecuteTime": {
     "start_time": "2020-01-14T16:31:28.986Z"
    }
   },
   "outputs": [],
   "source": [
    "plt.figure(figsize=(8,4))\n",
    "plt.title('Relative importance of attributes RFM, k=5')\n",
    "sns.heatmap(data=rfm5_relative_imp,annot=True,\n",
    "           fmt='.2f',cmap='PuRd');"
   ]
  },
  {
   "cell_type": "code",
   "execution_count": null,
   "metadata": {
    "ExecuteTime": {
     "start_time": "2020-01-14T16:31:28.993Z"
    }
   },
   "outputs": [],
   "source": [
    "datadf_5['Cluster']=datadf_5[\"Cluster\"].apply(str)\n",
    "\n",
    "dt = tree.DecisionTreeClassifier(random_state = 101,max_depth=4)  \n",
    "dt = dt.fit(datadf_5.iloc[:,1:3],datadf_5.iloc[:,3])\n",
    "\n",
    "import pydotplus  \n",
    "dot_data = tree.export_graphviz(dt, out_file=None)  \n",
    "graph2 = pydotplus.graph_from_dot_data(dot_data)  \n",
    "graph2.write_pdf(\"../tree/tree.pdf\")  \n",
    "\n",
    "from IPython.display import Image  \n",
    "dot_data = tree.export_graphviz(dt, out_file=None,  \n",
    "                     feature_names=list(datadf_5.iloc[:,1:3].columns),\n",
    "                     class_names=list(set(datadf_5['Cluster'].values)),\n",
    "                     filled=True, rounded=True,  # leaves_parallel=True, \n",
    "                     special_characters=True)  \n",
    "graph2 = pydotplus.graph_from_dot_data(dot_data)\n",
    "\n",
    "## Color of nodes\n",
    "nodes = graph2.get_node_list()\n",
    "\n",
    "for node in nodes:\n",
    "    if node.get_label():\n",
    "        values = [int(ii) for ii in node.get_label().split('value = [')[1].split(']')[0].split(',')];\n",
    "        color = {0: [255,255,224], 1: [255,224,255], 2: [240,128,128],3: [127,255,212],4: [154,205,50],}\n",
    "        values = color[values.index(max(values))]; # print(values)\n",
    "        color = '#{:02x}{:02x}{:02x}'.format(values[0], values[1], values[2]); # print(color)\n",
    "        node.set_fillcolor(color )\n",
    "\n",
    "Image(graph2.create_png() ) "
   ]
  },
  {
   "cell_type": "markdown",
   "metadata": {},
   "source": [
    "### Fitting K= 6 in to KMeans"
   ]
  },
  {
   "cell_type": "code",
   "execution_count": null,
   "metadata": {
    "ExecuteTime": {
     "start_time": "2020-01-14T16:31:29.000Z"
    }
   },
   "outputs": [],
   "source": [
    "# Fitting K-Means to the dataset\n",
    "km = KMeans(n_clusters = 6, init = 'k-means++',random_state=101)\n",
    "label = km.fit_predict(X_sc)"
   ]
  },
  {
   "cell_type": "code",
   "execution_count": null,
   "metadata": {
    "ExecuteTime": {
     "start_time": "2020-01-14T16:31:29.009Z"
    }
   },
   "outputs": [],
   "source": [
    "datadf_6=rfm_data.copy()\n",
    "datadf_6['Cluster']=label\n",
    "datadf_6.head()"
   ]
  },
  {
   "cell_type": "code",
   "execution_count": null,
   "metadata": {
    "ExecuteTime": {
     "start_time": "2020-01-14T16:31:29.022Z"
    }
   },
   "outputs": [],
   "source": [
    "centroids=pd.DataFrame(sc.inverse_transform(km.cluster_centers_),columns=['Recency','Frequency','Monetary'])\n",
    "centroids"
   ]
  },
  {
   "cell_type": "code",
   "execution_count": null,
   "metadata": {
    "ExecuteTime": {
     "start_time": "2020-01-14T16:31:29.033Z"
    }
   },
   "outputs": [],
   "source": [
    "grouped_clustter_6=datadf_6.groupby(['Cluster']).agg({'Recency':'mean',\n",
    "                                             'Frequency':'mean',\n",
    "                                             'Monetary':'mean',\n",
    "                                             'Cluster':'count'})\n",
    "grouped_clustter_6"
   ]
  },
  {
   "cell_type": "code",
   "execution_count": null,
   "metadata": {
    "ExecuteTime": {
     "start_time": "2020-01-14T16:31:29.042Z"
    }
   },
   "outputs": [],
   "source": [
    "data_normalized=pd.DataFrame(X_sc,\n",
    "                            index=rfm_data.index,\n",
    "                            columns=rfm_data.columns)\n",
    "data_normalized['Cluster']=datadf_6['Cluster']\n",
    "data_normalized.head()"
   ]
  },
  {
   "cell_type": "code",
   "execution_count": null,
   "metadata": {
    "ExecuteTime": {
     "start_time": "2020-01-14T16:31:29.054Z"
    }
   },
   "outputs": [],
   "source": [
    "rfm_k6data_melt=pd.melt(data_normalized.reset_index(),\n",
    "                 id_vars=['Customer ID','Cluster'],\n",
    "                 value_vars=['Recency','Frequency','Monetary'],\n",
    "                 var_name='Attribute',\n",
    "                  value_name='Value')\n",
    "rfm_k6data_melt.head()"
   ]
  },
  {
   "cell_type": "code",
   "execution_count": null,
   "metadata": {
    "ExecuteTime": {
     "start_time": "2020-01-14T16:31:29.062Z"
    }
   },
   "outputs": [],
   "source": [
    "plt.title('SnakePlot of Standardized Variables RFM, k=6')\n",
    "rfmk6=sns.lineplot(x='Attribute',y='Value',hue='Cluster',data=rfm_k6data_melt,legend='full',palette='Set2')"
   ]
  },
  {
   "cell_type": "code",
   "execution_count": null,
   "metadata": {
    "ExecuteTime": {
     "start_time": "2020-01-14T16:31:29.072Z"
    }
   },
   "outputs": [],
   "source": [
    "cluster_avg=datadf_6.groupby(['Cluster']).mean()\n",
    "population_avg=datadf_6.mean()\n",
    "rfm6_relative_imp=(cluster_avg/population_avg)-1"
   ]
  },
  {
   "cell_type": "code",
   "execution_count": null,
   "metadata": {
    "ExecuteTime": {
     "start_time": "2020-01-14T16:31:29.079Z"
    }
   },
   "outputs": [],
   "source": [
    "rfm6_relative_imp.round(2)\n",
    "rfm6_relative_imp.drop('Cluster',axis=1,inplace=True)"
   ]
  },
  {
   "cell_type": "code",
   "execution_count": null,
   "metadata": {
    "ExecuteTime": {
     "start_time": "2020-01-14T16:31:29.095Z"
    }
   },
   "outputs": [],
   "source": [
    "plt.figure(figsize=(8,4))\n",
    "plt.title('Relative importance of attributes RFM, k=6')\n",
    "sns.heatmap(data=rfm6_relative_imp,annot=True,\n",
    "           fmt='.2f',cmap='PuRd');"
   ]
  },
  {
   "cell_type": "code",
   "execution_count": null,
   "metadata": {
    "ExecuteTime": {
     "start_time": "2020-01-14T16:31:29.107Z"
    }
   },
   "outputs": [],
   "source": [
    "datadf_6['Cluster']=datadf_6[\"Cluster\"].apply(str)\n",
    "\n",
    "dt = tree.DecisionTreeClassifier(random_state = 101,max_depth=5)  \n",
    "dt = dt.fit(datadf_6.iloc[:,1:3],datadf_6.iloc[:,3])\n",
    "\n",
    "import pydotplus  \n",
    "dot_data = tree.export_graphviz(dt, out_file=None)  \n",
    "graph2 = pydotplus.graph_from_dot_data(dot_data)  \n",
    "graph2.write_pdf(\"../tree/tree.pdf\")  \n",
    "\n",
    "from IPython.display import Image  \n",
    "dot_data = tree.export_graphviz(dt, out_file=None,  \n",
    "                     feature_names=list(datadf_6.iloc[:,1:3].columns),\n",
    "                     class_names=list(set(datadf_6['Cluster'].values)),\n",
    "                     filled=True, rounded=True,  # leaves_parallel=True, \n",
    "                     special_characters=True)  \n",
    "graph2 = pydotplus.graph_from_dot_data(dot_data)\n",
    "\n",
    "## Color of nodes\n",
    "nodes = graph2.get_node_list()\n",
    "\n",
    "for node in nodes:\n",
    "    if node.get_label():\n",
    "        values = [int(ii) for ii in node.get_label().split('value = [')[1].split(']')[0].split(',')];\n",
    "        color = {0: [255,255,224], 1: [255,224,255], 2: [240,128,128],3: [127,255,212],4: [154,205,50],5: [188,143,143],}\n",
    "        values = color[values.index(max(values))]; # print(values)\n",
    "        color = '#{:02x}{:02x}{:02x}'.format(values[0], values[1], values[2]); # print(color)\n",
    "        node.set_fillcolor(color )\n",
    "\n",
    "Image(graph2.create_png() ) "
   ]
  },
  {
   "cell_type": "markdown",
   "metadata": {},
   "source": [
    "### Fitting K= 7 in to KMeans"
   ]
  },
  {
   "cell_type": "code",
   "execution_count": null,
   "metadata": {
    "ExecuteTime": {
     "start_time": "2020-01-14T16:31:29.116Z"
    }
   },
   "outputs": [],
   "source": [
    "# Fitting K-Means to the dataset\n",
    "km = KMeans(n_clusters = 7, init = 'k-means++',random_state=101)\n",
    "label = km.fit_predict(X_sc)"
   ]
  },
  {
   "cell_type": "code",
   "execution_count": null,
   "metadata": {
    "ExecuteTime": {
     "start_time": "2020-01-14T16:31:29.126Z"
    }
   },
   "outputs": [],
   "source": [
    "datadf_7=rfm_data.copy()\n",
    "datadf_7['Cluster']=label\n",
    "datadf_7.head()"
   ]
  },
  {
   "cell_type": "code",
   "execution_count": null,
   "metadata": {
    "ExecuteTime": {
     "start_time": "2020-01-14T16:31:29.131Z"
    }
   },
   "outputs": [],
   "source": [
    "centroids=pd.DataFrame(sc.inverse_transform(km.cluster_centers_),columns=['Recency','Frequency','Monetary'])\n",
    "centroids"
   ]
  },
  {
   "cell_type": "code",
   "execution_count": null,
   "metadata": {
    "ExecuteTime": {
     "start_time": "2020-01-14T16:31:29.140Z"
    }
   },
   "outputs": [],
   "source": [
    "grouped_clustter_7=datadf_7.groupby(['Cluster']).agg({'Recency':'mean',\n",
    "                                             'Frequency':'mean',\n",
    "                                             'Monetary':'mean',\n",
    "                                             'Cluster':'count'})\n",
    "grouped_clustter_7"
   ]
  },
  {
   "cell_type": "code",
   "execution_count": null,
   "metadata": {
    "ExecuteTime": {
     "start_time": "2020-01-14T16:31:29.147Z"
    }
   },
   "outputs": [],
   "source": [
    "data_normalized=pd.DataFrame(X_sc,\n",
    "                            index=rfm_data.index,\n",
    "                            columns=rfm_data.columns)\n",
    "data_normalized['Cluster']=datadf_7['Cluster']\n",
    "data_normalized.head()"
   ]
  },
  {
   "cell_type": "code",
   "execution_count": null,
   "metadata": {
    "ExecuteTime": {
     "start_time": "2020-01-14T16:31:29.151Z"
    }
   },
   "outputs": [],
   "source": [
    "rfm_k7data_melt=pd.melt(data_normalized.reset_index(),\n",
    "                 id_vars=['Customer ID','Cluster'],\n",
    "                 value_vars=['Recency','Frequency','Monetary'],\n",
    "                 var_name='Attribute',\n",
    "                  value_name='Value')\n",
    "rfm_k7data_melt.head()"
   ]
  },
  {
   "cell_type": "code",
   "execution_count": null,
   "metadata": {
    "ExecuteTime": {
     "start_time": "2020-01-14T16:31:29.155Z"
    }
   },
   "outputs": [],
   "source": [
    "plt.title('SnakePlot of Standardized Variables RFM, k=7')\n",
    "rfmk7=sns.lineplot(x='Attribute',y='Value',hue='Cluster',data=rfm_k7data_melt,legend='full',palette='Set2')"
   ]
  },
  {
   "cell_type": "code",
   "execution_count": null,
   "metadata": {
    "ExecuteTime": {
     "start_time": "2020-01-14T16:31:29.160Z"
    }
   },
   "outputs": [],
   "source": [
    "cluster_avg=datadf_7.groupby(['Cluster']).mean()\n",
    "population_avg=datadf_7.mean()\n",
    "rfm7_relative_imp=(cluster_avg/population_avg)-1"
   ]
  },
  {
   "cell_type": "code",
   "execution_count": null,
   "metadata": {
    "ExecuteTime": {
     "start_time": "2020-01-14T16:31:29.164Z"
    }
   },
   "outputs": [],
   "source": [
    "rfm7_relative_imp.round(2)\n",
    "rfm7_relative_imp.drop('Cluster',axis=1,inplace=True)"
   ]
  },
  {
   "cell_type": "code",
   "execution_count": null,
   "metadata": {
    "ExecuteTime": {
     "start_time": "2020-01-14T16:31:29.169Z"
    }
   },
   "outputs": [],
   "source": [
    "plt.figure(figsize=(8,4))\n",
    "plt.title('Relative importance of attributes RFM, k=7')\n",
    "sns.heatmap(data=rfm7_relative_imp,annot=True,\n",
    "           fmt='.2f',cmap='PuRd');"
   ]
  },
  {
   "cell_type": "code",
   "execution_count": null,
   "metadata": {
    "ExecuteTime": {
     "start_time": "2020-01-14T16:31:29.173Z"
    }
   },
   "outputs": [],
   "source": [
    "datadf_7['Cluster']=datadf_7[\"Cluster\"].apply(str)\n",
    "\n",
    "dt = tree.DecisionTreeClassifier(random_state = 101,max_depth=5)  \n",
    "dt = dt.fit(datadf_7.iloc[:,1:3],datadf_7.iloc[:,3])\n",
    "\n",
    "import pydotplus  \n",
    "dot_data = tree.export_graphviz(dt, out_file=None)  \n",
    "graph2 = pydotplus.graph_from_dot_data(dot_data)  \n",
    "graph2.write_pdf(\"../tree/tree.pdf\")  \n",
    "\n",
    "from IPython.display import Image  \n",
    "dot_data = tree.export_graphviz(dt, out_file=None,  \n",
    "                     feature_names=list(datadf_7.iloc[:,1:3].columns),\n",
    "                     class_names=list(set(datadf_7['Cluster'].values)),\n",
    "                     filled=True, rounded=True,  # leaves_parallel=True, \n",
    "                     special_characters=True)  \n",
    "graph2 = pydotplus.graph_from_dot_data(dot_data)\n",
    "\n",
    "## Color of nodes\n",
    "nodes = graph2.get_node_list()\n",
    "\n",
    "for node in nodes:\n",
    "    if node.get_label():\n",
    "        values = [int(ii) for ii in node.get_label().split('value = [')[1].split(']')[0].split(',')];\n",
    "        color = {0: [255,255,224], 1: [255,224,255], 2: [240,128,128],3: [127,255,212],4: [154,205,50],5: [188,143,143],6: [218,165,32],}\n",
    "        values = color[values.index(max(values))]; # print(values)\n",
    "        color = '#{:02x}{:02x}{:02x}'.format(values[0], values[1], values[2]); # print(color)\n",
    "        node.set_fillcolor(color )\n",
    "\n",
    "Image(graph2.create_png() ) "
   ]
  },
  {
   "cell_type": "markdown",
   "metadata": {},
   "source": [
    "http://webgraphviz.com/"
   ]
  },
  {
   "cell_type": "markdown",
   "metadata": {},
   "source": [
    "https://www.html.am/html-codes/color/color-scheme.cfm?rgbColor=255,255,224"
   ]
  }
 ],
 "metadata": {
  "hide_input": false,
  "kernelspec": {
   "display_name": "Python 3",
   "language": "python",
   "name": "python3"
  },
  "language_info": {
   "codemirror_mode": {
    "name": "ipython",
    "version": 3
   },
   "file_extension": ".py",
   "mimetype": "text/x-python",
   "name": "python",
   "nbconvert_exporter": "python",
   "pygments_lexer": "ipython3",
   "version": "3.7.3"
  },
  "toc": {
   "base_numbering": 1,
   "nav_menu": {},
   "number_sections": true,
   "sideBar": true,
   "skip_h1_title": false,
   "title_cell": "Table of Contents",
   "title_sidebar": "Contents",
   "toc_cell": false,
   "toc_position": {
    "height": "531.667px",
    "left": "69px",
    "top": "108.907px",
    "width": "165px"
   },
   "toc_section_display": true,
   "toc_window_display": true
  },
  "varInspector": {
   "cols": {
    "lenName": 16,
    "lenType": 16,
    "lenVar": 40
   },
   "kernels_config": {
    "python": {
     "delete_cmd_postfix": "",
     "delete_cmd_prefix": "del ",
     "library": "var_list.py",
     "varRefreshCmd": "print(var_dic_list())"
    },
    "r": {
     "delete_cmd_postfix": ") ",
     "delete_cmd_prefix": "rm(",
     "library": "var_list.r",
     "varRefreshCmd": "cat(var_dic_list()) "
    }
   },
   "types_to_exclude": [
    "module",
    "function",
    "builtin_function_or_method",
    "instance",
    "_Feature"
   ],
   "window_display": false
  }
 },
 "nbformat": 4,
 "nbformat_minor": 2
}
