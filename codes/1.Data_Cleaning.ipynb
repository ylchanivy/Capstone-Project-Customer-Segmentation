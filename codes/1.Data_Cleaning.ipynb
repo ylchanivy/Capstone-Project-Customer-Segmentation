{
 "cells": [
  {
   "cell_type": "markdown",
   "metadata": {
    "ExecuteTime": {
     "end_time": "2019-11-06T22:15:00.830439Z",
     "start_time": "2019-11-06T22:12:39.328Z"
    }
   },
   "source": [
    "# Customer Segmentation- Data Cleaning"
   ]
  },
  {
   "cell_type": "markdown",
   "metadata": {},
   "source": [
    "## Import Library"
   ]
  },
  {
   "cell_type": "code",
   "execution_count": 1,
   "metadata": {
    "ExecuteTime": {
     "end_time": "2020-01-14T07:09:13.632623Z",
     "start_time": "2020-01-14T07:09:00.341030Z"
    }
   },
   "outputs": [],
   "source": [
    "import numpy as numpy\n",
    "import pandas as pd\n",
    "\n",
    "import matplotlib.pyplot as plt\n",
    "import seaborn as sns\n",
    "%matplotlib inline\n",
    "\n",
    "pd.set_option('display.max_rows', 10000)\n",
    "pd.set_option('display.max_columns', 100)\n",
    "pd.options.display.float_format = '{:.1f}'.format"
   ]
  },
  {
   "cell_type": "code",
   "execution_count": 2,
   "metadata": {
    "ExecuteTime": {
     "end_time": "2020-01-14T07:09:13.641596Z",
     "start_time": "2020-01-14T07:09:13.636609Z"
    }
   },
   "outputs": [],
   "source": [
    "# #import excel file with 2 worksheet ('Year 2009-2010','Year 2010-2011')\n",
    "# retail= pd.concat(pd.read_excel('../datasets/online_retail.xlsx', sheet_name=None), ignore_index=True)\n",
    "# retail.to_csv('../datasets/retail.csv',index=False)"
   ]
  },
  {
   "cell_type": "code",
   "execution_count": 3,
   "metadata": {
    "ExecuteTime": {
     "end_time": "2020-01-14T07:09:16.569002Z",
     "start_time": "2020-01-14T07:09:13.646582Z"
    }
   },
   "outputs": [],
   "source": [
    "retail=pd.read_csv('../datasets/retail.csv')\n",
    "pd.set_option('display.max_rows', 10000)\n",
    "pd.set_option('display.max_columns', 100)"
   ]
  },
  {
   "cell_type": "markdown",
   "metadata": {},
   "source": [
    "## Data Dictionary"
   ]
  },
  {
   "cell_type": "markdown",
   "metadata": {},
   "source": [
    "|Column |Data Type|Description|\n",
    "|:------|:------|:------|\n",
    "|Invoice|Nominal|A 6-digit integral number uniquely assigned to each transaction. If this code starts with the letter 'c', it indicates a cancellation|\n",
    "|StockCode|Nominal|Product (item) code.A 5-digit integral number uniquely assigned to each distinct product|\n",
    "|Description|Nominal|Product (item) name|\n",
    "|Quantity|Numeric|The quantities of each product (item) per transaction|\n",
    "|InvoiceDate|Numeric|Invice date and time.The day and time when a transaction was generated|\n",
    "|UnitPrice|Numeric|Unit price.Product price per unit in sterling (Â£).|\n",
    "|CustomerID|Nominal|Customer numberA 5-digit integral number uniquely assigned to each customer.The name of the country where a customer resides.|\n",
    "|Country|Nominal|Country name|"
   ]
  },
  {
   "cell_type": "code",
   "execution_count": 4,
   "metadata": {
    "ExecuteTime": {
     "end_time": "2020-01-14T07:09:16.603910Z",
     "start_time": "2020-01-14T07:09:16.574988Z"
    }
   },
   "outputs": [
    {
     "data": {
      "text/html": [
       "<div>\n",
       "<style scoped>\n",
       "    .dataframe tbody tr th:only-of-type {\n",
       "        vertical-align: middle;\n",
       "    }\n",
       "\n",
       "    .dataframe tbody tr th {\n",
       "        vertical-align: top;\n",
       "    }\n",
       "\n",
       "    .dataframe thead th {\n",
       "        text-align: right;\n",
       "    }\n",
       "</style>\n",
       "<table border=\"1\" class=\"dataframe\">\n",
       "  <thead>\n",
       "    <tr style=\"text-align: right;\">\n",
       "      <th></th>\n",
       "      <th>Invoice</th>\n",
       "      <th>StockCode</th>\n",
       "      <th>Description</th>\n",
       "      <th>Quantity</th>\n",
       "      <th>InvoiceDate</th>\n",
       "      <th>Price</th>\n",
       "      <th>Customer ID</th>\n",
       "      <th>Country</th>\n",
       "    </tr>\n",
       "  </thead>\n",
       "  <tbody>\n",
       "    <tr>\n",
       "      <th>0</th>\n",
       "      <td>489434</td>\n",
       "      <td>85048</td>\n",
       "      <td>15CM CHRISTMAS GLASS BALL 20 LIGHTS</td>\n",
       "      <td>12</td>\n",
       "      <td>2009-12-01 07:45:00</td>\n",
       "      <td>7.0</td>\n",
       "      <td>13085.0</td>\n",
       "      <td>United Kingdom</td>\n",
       "    </tr>\n",
       "    <tr>\n",
       "      <th>1</th>\n",
       "      <td>489434</td>\n",
       "      <td>79323P</td>\n",
       "      <td>PINK CHERRY LIGHTS</td>\n",
       "      <td>12</td>\n",
       "      <td>2009-12-01 07:45:00</td>\n",
       "      <td>6.8</td>\n",
       "      <td>13085.0</td>\n",
       "      <td>United Kingdom</td>\n",
       "    </tr>\n",
       "  </tbody>\n",
       "</table>\n",
       "</div>"
      ],
      "text/plain": [
       "  Invoice StockCode                          Description  Quantity  \\\n",
       "0  489434     85048  15CM CHRISTMAS GLASS BALL 20 LIGHTS        12   \n",
       "1  489434    79323P                   PINK CHERRY LIGHTS        12   \n",
       "\n",
       "           InvoiceDate  Price  Customer ID         Country  \n",
       "0  2009-12-01 07:45:00    7.0      13085.0  United Kingdom  \n",
       "1  2009-12-01 07:45:00    6.8      13085.0  United Kingdom  "
      ]
     },
     "execution_count": 4,
     "metadata": {},
     "output_type": "execute_result"
    }
   ],
   "source": [
    "# check the head of the dataset\n",
    "retail.head(2)"
   ]
  },
  {
   "cell_type": "code",
   "execution_count": 5,
   "metadata": {
    "ExecuteTime": {
     "end_time": "2020-01-14T07:09:16.634827Z",
     "start_time": "2020-01-14T07:09:16.606902Z"
    }
   },
   "outputs": [
    {
     "data": {
      "text/html": [
       "<div>\n",
       "<style scoped>\n",
       "    .dataframe tbody tr th:only-of-type {\n",
       "        vertical-align: middle;\n",
       "    }\n",
       "\n",
       "    .dataframe tbody tr th {\n",
       "        vertical-align: top;\n",
       "    }\n",
       "\n",
       "    .dataframe thead th {\n",
       "        text-align: right;\n",
       "    }\n",
       "</style>\n",
       "<table border=\"1\" class=\"dataframe\">\n",
       "  <thead>\n",
       "    <tr style=\"text-align: right;\">\n",
       "      <th></th>\n",
       "      <th>Invoice</th>\n",
       "      <th>StockCode</th>\n",
       "      <th>Description</th>\n",
       "      <th>Quantity</th>\n",
       "      <th>InvoiceDate</th>\n",
       "      <th>Price</th>\n",
       "      <th>Customer ID</th>\n",
       "      <th>Country</th>\n",
       "    </tr>\n",
       "  </thead>\n",
       "  <tbody>\n",
       "    <tr>\n",
       "      <th>1067369</th>\n",
       "      <td>581587</td>\n",
       "      <td>22138</td>\n",
       "      <td>BAKING SET 9 PIECE RETROSPOT</td>\n",
       "      <td>3</td>\n",
       "      <td>2011-12-09 12:50:00</td>\n",
       "      <td>5.0</td>\n",
       "      <td>12680.0</td>\n",
       "      <td>France</td>\n",
       "    </tr>\n",
       "    <tr>\n",
       "      <th>1067370</th>\n",
       "      <td>581587</td>\n",
       "      <td>POST</td>\n",
       "      <td>POSTAGE</td>\n",
       "      <td>1</td>\n",
       "      <td>2011-12-09 12:50:00</td>\n",
       "      <td>18.0</td>\n",
       "      <td>12680.0</td>\n",
       "      <td>France</td>\n",
       "    </tr>\n",
       "  </tbody>\n",
       "</table>\n",
       "</div>"
      ],
      "text/plain": [
       "        Invoice StockCode                    Description  Quantity  \\\n",
       "1067369  581587     22138  BAKING SET 9 PIECE RETROSPOT          3   \n",
       "1067370  581587      POST                        POSTAGE         1   \n",
       "\n",
       "                 InvoiceDate  Price  Customer ID Country  \n",
       "1067369  2011-12-09 12:50:00    5.0      12680.0  France  \n",
       "1067370  2011-12-09 12:50:00   18.0      12680.0  France  "
      ]
     },
     "execution_count": 5,
     "metadata": {},
     "output_type": "execute_result"
    }
   ],
   "source": [
    "# check the tail of the dataset to ensure it includes worksheet Year 2010-2011\n",
    "retail.tail(2)"
   ]
  },
  {
   "cell_type": "code",
   "execution_count": 6,
   "metadata": {
    "ExecuteTime": {
     "end_time": "2020-01-14T07:09:16.651782Z",
     "start_time": "2020-01-14T07:09:16.641251Z"
    }
   },
   "outputs": [
    {
     "name": "stdout",
     "output_type": "stream",
     "text": [
      "The shape of retail dataset is:  (1067371, 8)\n"
     ]
    }
   ],
   "source": [
    "# check shape of dataset\n",
    "print('The shape of retail dataset is: ',retail.shape)"
   ]
  },
  {
   "cell_type": "code",
   "execution_count": 7,
   "metadata": {
    "ExecuteTime": {
     "end_time": "2020-01-14T07:09:17.171393Z",
     "start_time": "2020-01-14T07:09:16.654774Z"
    }
   },
   "outputs": [
    {
     "name": "stdout",
     "output_type": "stream",
     "text": [
      "<class 'pandas.core.frame.DataFrame'>\n",
      "RangeIndex: 1067371 entries, 0 to 1067370\n",
      "Data columns (total 8 columns):\n",
      "Invoice        1067371 non-null object\n",
      "StockCode      1067371 non-null object\n",
      "Description    1062989 non-null object\n",
      "Quantity       1067371 non-null int64\n",
      "InvoiceDate    1067371 non-null object\n",
      "Price          1067371 non-null float64\n",
      "Customer ID    824364 non-null float64\n",
      "Country        1067371 non-null object\n",
      "dtypes: float64(2), int64(1), object(5)\n",
      "memory usage: 65.1+ MB\n"
     ]
    }
   ],
   "source": [
    "# Explore dataset by getting more information about rows and columns\n",
    "retail.info()"
   ]
  },
  {
   "cell_type": "markdown",
   "metadata": {},
   "source": [
    "<font color=darkblue>The retail dataset comprises 1,067,371 rows and 8 columns.<br>\n",
    "There are missing values in `Description` and `Customer ID` which only has 1,062,989 and 824,364 values respectively."
   ]
  },
  {
   "cell_type": "code",
   "execution_count": 8,
   "metadata": {
    "ExecuteTime": {
     "end_time": "2020-01-14T07:09:17.464610Z",
     "start_time": "2020-01-14T07:09:17.179371Z"
    }
   },
   "outputs": [
    {
     "data": {
      "text/html": [
       "<div>\n",
       "<style scoped>\n",
       "    .dataframe tbody tr th:only-of-type {\n",
       "        vertical-align: middle;\n",
       "    }\n",
       "\n",
       "    .dataframe tbody tr th {\n",
       "        vertical-align: top;\n",
       "    }\n",
       "\n",
       "    .dataframe thead th {\n",
       "        text-align: right;\n",
       "    }\n",
       "</style>\n",
       "<table border=\"1\" class=\"dataframe\">\n",
       "  <thead>\n",
       "    <tr style=\"text-align: right;\">\n",
       "      <th></th>\n",
       "      <th>Quantity</th>\n",
       "      <th>Price</th>\n",
       "      <th>Customer ID</th>\n",
       "    </tr>\n",
       "  </thead>\n",
       "  <tbody>\n",
       "    <tr>\n",
       "      <th>count</th>\n",
       "      <td>1067371.0</td>\n",
       "      <td>1067371.0</td>\n",
       "      <td>824364.0</td>\n",
       "    </tr>\n",
       "    <tr>\n",
       "      <th>mean</th>\n",
       "      <td>9.9</td>\n",
       "      <td>4.6</td>\n",
       "      <td>15324.6</td>\n",
       "    </tr>\n",
       "    <tr>\n",
       "      <th>std</th>\n",
       "      <td>172.7</td>\n",
       "      <td>123.6</td>\n",
       "      <td>1697.5</td>\n",
       "    </tr>\n",
       "    <tr>\n",
       "      <th>min</th>\n",
       "      <td>-80995.0</td>\n",
       "      <td>-53594.4</td>\n",
       "      <td>12346.0</td>\n",
       "    </tr>\n",
       "    <tr>\n",
       "      <th>25%</th>\n",
       "      <td>1.0</td>\n",
       "      <td>1.2</td>\n",
       "      <td>13975.0</td>\n",
       "    </tr>\n",
       "    <tr>\n",
       "      <th>50%</th>\n",
       "      <td>3.0</td>\n",
       "      <td>2.1</td>\n",
       "      <td>15255.0</td>\n",
       "    </tr>\n",
       "    <tr>\n",
       "      <th>75%</th>\n",
       "      <td>10.0</td>\n",
       "      <td>4.2</td>\n",
       "      <td>16797.0</td>\n",
       "    </tr>\n",
       "    <tr>\n",
       "      <th>max</th>\n",
       "      <td>80995.0</td>\n",
       "      <td>38970.0</td>\n",
       "      <td>18287.0</td>\n",
       "    </tr>\n",
       "  </tbody>\n",
       "</table>\n",
       "</div>"
      ],
      "text/plain": [
       "       Quantity     Price  Customer ID\n",
       "count 1067371.0 1067371.0     824364.0\n",
       "mean        9.9       4.6      15324.6\n",
       "std       172.7     123.6       1697.5\n",
       "min    -80995.0  -53594.4      12346.0\n",
       "25%         1.0       1.2      13975.0\n",
       "50%         3.0       2.1      15255.0\n",
       "75%        10.0       4.2      16797.0\n",
       "max     80995.0   38970.0      18287.0"
      ]
     },
     "execution_count": 8,
     "metadata": {},
     "output_type": "execute_result"
    }
   ],
   "source": [
    "retail.describe()"
   ]
  },
  {
   "cell_type": "markdown",
   "metadata": {
    "ExecuteTime": {
     "end_time": "2019-11-07T13:20:00.696873Z",
     "start_time": "2019-11-07T13:20:00.683641Z"
    }
   },
   "source": [
    "<font color=darkblue> There's negative value observed in `Quantity` and `Price` column. <br>\n",
    "Further checking on these 2 columns is required to inspect on negative value."
   ]
  },
  {
   "cell_type": "markdown",
   "metadata": {
    "ExecuteTime": {
     "end_time": "2019-11-07T08:01:03.289349Z",
     "start_time": "2019-11-07T08:01:03.279356Z"
    }
   },
   "source": [
    "The following columns require further checking\n",
    "\n",
    "|Column |Issue|\n",
    "|:------|:------|\n",
    "|Invoice|Not in Integer type|\n",
    "|StockCode|Not in Integer type|\n",
    "|Description|Null Value, Description unique count is not tally with StockCode unique count|\n",
    "|Quantity|There are negative value|\n",
    "|Price|There are negative value|\n",
    "|Customer ID|Null Value,There are customer purchasing without registering|\n"
   ]
  },
  {
   "cell_type": "code",
   "execution_count": 9,
   "metadata": {
    "ExecuteTime": {
     "end_time": "2020-01-14T07:09:36.184568Z",
     "start_time": "2020-01-14T07:09:17.468697Z"
    }
   },
   "outputs": [
    {
     "data": {
      "text/html": [
       "<div>\n",
       "<style scoped>\n",
       "    .dataframe tbody tr th:only-of-type {\n",
       "        vertical-align: middle;\n",
       "    }\n",
       "\n",
       "    .dataframe tbody tr th {\n",
       "        vertical-align: top;\n",
       "    }\n",
       "\n",
       "    .dataframe thead th {\n",
       "        text-align: right;\n",
       "    }\n",
       "</style>\n",
       "<table border=\"1\" class=\"dataframe\">\n",
       "  <thead>\n",
       "    <tr style=\"text-align: right;\">\n",
       "      <th></th>\n",
       "      <th>Invoice</th>\n",
       "      <th>StockCode</th>\n",
       "      <th>Description</th>\n",
       "      <th>Quantity</th>\n",
       "      <th>InvoiceDate</th>\n",
       "      <th>Price</th>\n",
       "      <th>Customer ID</th>\n",
       "      <th>Country</th>\n",
       "      <th>Inv_Date</th>\n",
       "      <th>Inv_Time</th>\n",
       "      <th>Yr</th>\n",
       "      <th>Month</th>\n",
       "      <th>MMYY</th>\n",
       "    </tr>\n",
       "  </thead>\n",
       "  <tbody>\n",
       "    <tr>\n",
       "      <th>0</th>\n",
       "      <td>489434</td>\n",
       "      <td>85048</td>\n",
       "      <td>15CM CHRISTMAS GLASS BALL 20 LIGHTS</td>\n",
       "      <td>12</td>\n",
       "      <td>2009-12-01 07:45:00</td>\n",
       "      <td>7.0</td>\n",
       "      <td>13085.0</td>\n",
       "      <td>United Kingdom</td>\n",
       "      <td>2009-12-01</td>\n",
       "      <td>07:45:00</td>\n",
       "      <td>2009</td>\n",
       "      <td>12</td>\n",
       "      <td>Dec 09</td>\n",
       "    </tr>\n",
       "    <tr>\n",
       "      <th>1</th>\n",
       "      <td>489434</td>\n",
       "      <td>79323P</td>\n",
       "      <td>PINK CHERRY LIGHTS</td>\n",
       "      <td>12</td>\n",
       "      <td>2009-12-01 07:45:00</td>\n",
       "      <td>6.8</td>\n",
       "      <td>13085.0</td>\n",
       "      <td>United Kingdom</td>\n",
       "      <td>2009-12-01</td>\n",
       "      <td>07:45:00</td>\n",
       "      <td>2009</td>\n",
       "      <td>12</td>\n",
       "      <td>Dec 09</td>\n",
       "    </tr>\n",
       "  </tbody>\n",
       "</table>\n",
       "</div>"
      ],
      "text/plain": [
       "  Invoice StockCode                          Description  Quantity  \\\n",
       "0  489434     85048  15CM CHRISTMAS GLASS BALL 20 LIGHTS        12   \n",
       "1  489434    79323P                   PINK CHERRY LIGHTS        12   \n",
       "\n",
       "          InvoiceDate  Price  Customer ID         Country    Inv_Date  \\\n",
       "0 2009-12-01 07:45:00    7.0      13085.0  United Kingdom  2009-12-01   \n",
       "1 2009-12-01 07:45:00    6.8      13085.0  United Kingdom  2009-12-01   \n",
       "\n",
       "   Inv_Time    Yr  Month    MMYY  \n",
       "0  07:45:00  2009     12  Dec 09  \n",
       "1  07:45:00  2009     12  Dec 09  "
      ]
     },
     "execution_count": 9,
     "metadata": {},
     "output_type": "execute_result"
    }
   ],
   "source": [
    "## splitting date, time can create other features for datetime\n",
    "retail['InvoiceDate']=pd.to_datetime(retail['InvoiceDate'])\n",
    "retail['Inv_Date']=retail['InvoiceDate'].dt.date\n",
    "retail['Inv_Time']=retail['InvoiceDate'].dt.time\n",
    "retail['Yr']=retail['InvoiceDate'].dt.year\n",
    "retail['Month']=retail['InvoiceDate'].dt.month\n",
    "retail['MMYY']= retail['InvoiceDate'].dt.strftime('%b %y')\n",
    "#retail['DayofYear']=retail['InvoiceDate'].dt.dayofyear\n",
    "#retail['WeekdayName']=retail['InvoiceDate'].dt.weekday\n",
    "retail.head(2)"
   ]
  },
  {
   "cell_type": "code",
   "execution_count": 10,
   "metadata": {
    "ExecuteTime": {
     "end_time": "2020-01-14T07:09:36.192545Z",
     "start_time": "2020-01-14T07:09:36.188556Z"
    }
   },
   "outputs": [],
   "source": [
    "# check transaction date\n",
    "# Check date duration in dataset"
   ]
  },
  {
   "cell_type": "code",
   "execution_count": 11,
   "metadata": {
    "ExecuteTime": {
     "end_time": "2020-01-14T07:09:36.981507Z",
     "start_time": "2020-01-14T07:09:36.195582Z"
    }
   },
   "outputs": [
    {
     "name": "stdout",
     "output_type": "stream",
     "text": [
      "No of Transactions:  53628\n",
      "No of Product Codes:  5305\n",
      "No of Item Description:  5698\n",
      "No of Registered Customers: 5942\n",
      "Percentage of Customers without ID:  22.77 %\n",
      "No of Customers'countries:  43\n"
     ]
    }
   ],
   "source": [
    "#check the unique values of each attribute\n",
    "print(\"No of Transactions: \", retail['Invoice'].nunique())\n",
    "print(\"No of Product Codes: \",retail['StockCode'].nunique())\n",
    "print(\"No of Item Description: \",retail['Description'].nunique())\n",
    "print(\"No of Registered Customers:\", retail['Customer ID'].nunique() )\n",
    "print(\"Percentage of Customers without ID: \", round(retail['Customer ID'].isnull().sum() * 100 / len(retail),2),\"%\" )\n",
    "print(\"No of Customers'countries: \",retail['Country'].nunique())"
   ]
  },
  {
   "cell_type": "markdown",
   "metadata": {
    "ExecuteTime": {
     "end_time": "2019-11-06T23:09:16.809293Z",
     "start_time": "2019-11-06T23:09:16.797481Z"
    }
   },
   "source": [
    "<font color=darkblue> As Year 2010 data is available in both worksheet, checking is perform to detect if there's any duplication on transaction.<br>"
   ]
  },
  {
   "cell_type": "code",
   "execution_count": 12,
   "metadata": {
    "ExecuteTime": {
     "end_time": "2020-01-14T07:09:39.096784Z",
     "start_time": "2020-01-14T07:09:36.985597Z"
    }
   },
   "outputs": [
    {
     "name": "stdout",
     "output_type": "stream",
     "text": [
      "Invoice        34335\n",
      "StockCode      34335\n",
      "Description    34228\n",
      "Quantity       34335\n",
      "InvoiceDate    34335\n",
      "Price          34335\n",
      "Customer ID    26479\n",
      "Country        34335\n",
      "Inv_Date       34335\n",
      "Inv_Time       34335\n",
      "Yr             34335\n",
      "Month          34335\n",
      "MMYY           34335\n",
      "dtype: int64\n"
     ]
    }
   ],
   "source": [
    "# check duplication\n",
    "print(retail[retail.duplicated(subset=['Invoice','StockCode','Description','Quantity','InvoiceDate','Price','Customer ID','Country'])].count())"
   ]
  },
  {
   "cell_type": "markdown",
   "metadata": {
    "ExecuteTime": {
     "end_time": "2019-11-07T07:48:51.863447Z",
     "start_time": "2019-11-07T07:48:51.856455Z"
    }
   },
   "source": [
    "<font color=darkblue> There are in total 34,335 duplicate rows."
   ]
  },
  {
   "cell_type": "code",
   "execution_count": 13,
   "metadata": {
    "ExecuteTime": {
     "end_time": "2020-01-14T07:09:40.785267Z",
     "start_time": "2020-01-14T07:09:39.101768Z"
    }
   },
   "outputs": [],
   "source": [
    "# dDrop duplicate rows\n",
    "retail.drop_duplicates(subset=['Invoice','StockCode','Description','Quantity','InvoiceDate','Price','Customer ID','Country'],inplace=True)\n"
   ]
  },
  {
   "cell_type": "code",
   "execution_count": 14,
   "metadata": {
    "ExecuteTime": {
     "end_time": "2020-01-14T07:09:41.325823Z",
     "start_time": "2020-01-14T07:09:40.790254Z"
    }
   },
   "outputs": [
    {
     "name": "stdout",
     "output_type": "stream",
     "text": [
      "The shape of retail dataset after droped duplicate is:  (1033036, 13)\n",
      "Number of Unique Invoice:  53628\n",
      "Number of Unique StockCode:  5305\n",
      "Number of Unique Item Description:  5698\n",
      "Number of Unique Item Customer:  5942\n",
      "Number of Unique Country:  43\n"
     ]
    }
   ],
   "source": [
    "# check shape of dataset after drop duplicate\n",
    "print('The shape of retail dataset after droped duplicate is: ',retail.shape)\n",
    "\n",
    "print('Number of Unique Invoice: ',retail['Invoice'].nunique())\n",
    "print('Number of Unique StockCode: ',retail['StockCode'].nunique())\n",
    "print('Number of Unique Item Description: ',retail['Description'].nunique())\n",
    "print('Number of Unique Item Customer: ',retail['Customer ID'].nunique())\n",
    "print('Number of Unique Country: ',retail['Country'].nunique())"
   ]
  },
  {
   "cell_type": "markdown",
   "metadata": {},
   "source": [
    "<font color=darkblue> Unable to change `Invoice` and `StockCode` to int type as some of the Invoice number & Stockcode contains alphabet.<br> \n",
    "Check on `Quantity` and `Price` for negative value."
   ]
  },
  {
   "cell_type": "markdown",
   "metadata": {},
   "source": [
    "## Data Cleaning"
   ]
  },
  {
   "cell_type": "markdown",
   "metadata": {},
   "source": [
    "###  Data Cleaning on `Invoice`"
   ]
  },
  {
   "cell_type": "code",
   "execution_count": 15,
   "metadata": {
    "ExecuteTime": {
     "end_time": "2020-01-14T07:10:53.004629Z",
     "start_time": "2020-01-14T07:09:41.328816Z"
    }
   },
   "outputs": [],
   "source": [
    "# Creata a Inv_Pre column and a Inv_Suf column to segregate Invoice prefix and Invoice suffix\n",
    "retail['Inv_Pre']=retail.apply(lambda x:None if str(x['Invoice']).isnumeric() else str(x['Invoice'])[0] , axis=1)\n",
    "retail['Inv_Suf']=retail.apply(lambda x:None if str(x['Invoice']).isnumeric() else str(x['Invoice'])[-1] , axis=1)"
   ]
  },
  {
   "cell_type": "code",
   "execution_count": 16,
   "metadata": {
    "ExecuteTime": {
     "end_time": "2020-01-14T07:10:53.045519Z",
     "start_time": "2020-01-14T07:10:53.009619Z"
    }
   },
   "outputs": [
    {
     "data": {
      "text/html": [
       "<div>\n",
       "<style scoped>\n",
       "    .dataframe tbody tr th:only-of-type {\n",
       "        vertical-align: middle;\n",
       "    }\n",
       "\n",
       "    .dataframe tbody tr th {\n",
       "        vertical-align: top;\n",
       "    }\n",
       "\n",
       "    .dataframe thead th {\n",
       "        text-align: right;\n",
       "    }\n",
       "</style>\n",
       "<table border=\"1\" class=\"dataframe\">\n",
       "  <thead>\n",
       "    <tr style=\"text-align: right;\">\n",
       "      <th></th>\n",
       "      <th>Invoice</th>\n",
       "      <th>StockCode</th>\n",
       "      <th>Description</th>\n",
       "      <th>Quantity</th>\n",
       "      <th>InvoiceDate</th>\n",
       "      <th>Price</th>\n",
       "      <th>Customer ID</th>\n",
       "      <th>Country</th>\n",
       "      <th>Inv_Date</th>\n",
       "      <th>Inv_Time</th>\n",
       "      <th>Yr</th>\n",
       "      <th>Month</th>\n",
       "      <th>MMYY</th>\n",
       "      <th>Inv_Pre</th>\n",
       "      <th>Inv_Suf</th>\n",
       "    </tr>\n",
       "  </thead>\n",
       "  <tbody>\n",
       "    <tr>\n",
       "      <th>0</th>\n",
       "      <td>489434</td>\n",
       "      <td>85048</td>\n",
       "      <td>15CM CHRISTMAS GLASS BALL 20 LIGHTS</td>\n",
       "      <td>12</td>\n",
       "      <td>2009-12-01 07:45:00</td>\n",
       "      <td>7.0</td>\n",
       "      <td>13085.0</td>\n",
       "      <td>United Kingdom</td>\n",
       "      <td>2009-12-01</td>\n",
       "      <td>07:45:00</td>\n",
       "      <td>2009</td>\n",
       "      <td>12</td>\n",
       "      <td>Dec 09</td>\n",
       "      <td>None</td>\n",
       "      <td>None</td>\n",
       "    </tr>\n",
       "    <tr>\n",
       "      <th>1</th>\n",
       "      <td>489434</td>\n",
       "      <td>79323P</td>\n",
       "      <td>PINK CHERRY LIGHTS</td>\n",
       "      <td>12</td>\n",
       "      <td>2009-12-01 07:45:00</td>\n",
       "      <td>6.8</td>\n",
       "      <td>13085.0</td>\n",
       "      <td>United Kingdom</td>\n",
       "      <td>2009-12-01</td>\n",
       "      <td>07:45:00</td>\n",
       "      <td>2009</td>\n",
       "      <td>12</td>\n",
       "      <td>Dec 09</td>\n",
       "      <td>None</td>\n",
       "      <td>None</td>\n",
       "    </tr>\n",
       "  </tbody>\n",
       "</table>\n",
       "</div>"
      ],
      "text/plain": [
       "  Invoice StockCode                          Description  Quantity  \\\n",
       "0  489434     85048  15CM CHRISTMAS GLASS BALL 20 LIGHTS        12   \n",
       "1  489434    79323P                   PINK CHERRY LIGHTS        12   \n",
       "\n",
       "          InvoiceDate  Price  Customer ID         Country    Inv_Date  \\\n",
       "0 2009-12-01 07:45:00    7.0      13085.0  United Kingdom  2009-12-01   \n",
       "1 2009-12-01 07:45:00    6.8      13085.0  United Kingdom  2009-12-01   \n",
       "\n",
       "   Inv_Time    Yr  Month    MMYY Inv_Pre Inv_Suf  \n",
       "0  07:45:00  2009     12  Dec 09    None    None  \n",
       "1  07:45:00  2009     12  Dec 09    None    None  "
      ]
     },
     "execution_count": 16,
     "metadata": {},
     "output_type": "execute_result"
    }
   ],
   "source": [
    "retail.head(2)"
   ]
  },
  {
   "cell_type": "code",
   "execution_count": 17,
   "metadata": {
    "ExecuteTime": {
     "end_time": "2020-01-14T07:10:53.124310Z",
     "start_time": "2020-01-14T07:10:53.050508Z"
    }
   },
   "outputs": [
    {
     "data": {
      "text/plain": [
       "C    19104\n",
       "A        6\n",
       "Name: Inv_Pre, dtype: int64"
      ]
     },
     "execution_count": 17,
     "metadata": {},
     "output_type": "execute_result"
    }
   ],
   "source": [
    "# List down value counts for Inv_Pre\n",
    "retail['Inv_Pre'].value_counts()"
   ]
  },
  {
   "cell_type": "markdown",
   "metadata": {
    "ExecuteTime": {
     "end_time": "2019-11-10T15:35:19.406164Z",
     "start_time": "2019-11-10T15:35:19.402177Z"
    }
   },
   "source": [
    "<font color=darkblue> There are 2 alpha Invoice Preffix:\n",
    "- C\n",
    "- A"
   ]
  },
  {
   "cell_type": "code",
   "execution_count": 18,
   "metadata": {
    "ExecuteTime": {
     "end_time": "2020-01-14T07:10:53.173343Z",
     "start_time": "2020-01-14T07:10:53.128300Z"
    }
   },
   "outputs": [
    {
     "data": {
      "text/plain": [
       "0    2036\n",
       "5    1982\n",
       "9    1966\n",
       "3    1940\n",
       "7    1937\n",
       "4    1904\n",
       "2    1890\n",
       "6    1859\n",
       "1    1816\n",
       "8    1780\n",
       "Name: Inv_Suf, dtype: int64"
      ]
     },
     "execution_count": 18,
     "metadata": {},
     "output_type": "execute_result"
    }
   ],
   "source": [
    "# List down value counts for Inv_Suf\n",
    "retail['Inv_Suf'].value_counts()"
   ]
  },
  {
   "cell_type": "markdown",
   "metadata": {},
   "source": [
    "<font color=darkblue> There's no alpha Invoice Suffix. Thus drop column `Inv_Suf`."
   ]
  },
  {
   "cell_type": "code",
   "execution_count": 19,
   "metadata": {
    "ExecuteTime": {
     "end_time": "2020-01-14T07:10:53.733680Z",
     "start_time": "2020-01-14T07:10:53.178380Z"
    }
   },
   "outputs": [],
   "source": [
    "# Drop Inv_Suf\n",
    "retail.drop('Inv_Suf',axis=1, inplace=True)"
   ]
  },
  {
   "cell_type": "code",
   "execution_count": 20,
   "metadata": {
    "ExecuteTime": {
     "end_time": "2020-01-14T07:10:53.805603Z",
     "start_time": "2020-01-14T07:10:53.736673Z"
    }
   },
   "outputs": [
    {
     "name": "stdout",
     "output_type": "stream",
     "text": [
      "There are in total 19104 rows of Invoice with prefix \"C\"\n"
     ]
    },
    {
     "data": {
      "text/html": [
       "<div>\n",
       "<style scoped>\n",
       "    .dataframe tbody tr th:only-of-type {\n",
       "        vertical-align: middle;\n",
       "    }\n",
       "\n",
       "    .dataframe tbody tr th {\n",
       "        vertical-align: top;\n",
       "    }\n",
       "\n",
       "    .dataframe thead th {\n",
       "        text-align: right;\n",
       "    }\n",
       "</style>\n",
       "<table border=\"1\" class=\"dataframe\">\n",
       "  <thead>\n",
       "    <tr style=\"text-align: right;\">\n",
       "      <th></th>\n",
       "      <th>Invoice</th>\n",
       "      <th>StockCode</th>\n",
       "      <th>Description</th>\n",
       "      <th>Quantity</th>\n",
       "      <th>InvoiceDate</th>\n",
       "      <th>Price</th>\n",
       "      <th>Customer ID</th>\n",
       "      <th>Country</th>\n",
       "      <th>Inv_Date</th>\n",
       "      <th>Inv_Time</th>\n",
       "      <th>Yr</th>\n",
       "      <th>Month</th>\n",
       "      <th>MMYY</th>\n",
       "      <th>Inv_Pre</th>\n",
       "    </tr>\n",
       "  </thead>\n",
       "  <tbody>\n",
       "    <tr>\n",
       "      <th>178</th>\n",
       "      <td>C489449</td>\n",
       "      <td>22087</td>\n",
       "      <td>PAPER BUNTING WHITE LACE</td>\n",
       "      <td>-12</td>\n",
       "      <td>2009-12-01 10:33:00</td>\n",
       "      <td>3.0</td>\n",
       "      <td>16321.0</td>\n",
       "      <td>Australia</td>\n",
       "      <td>2009-12-01</td>\n",
       "      <td>10:33:00</td>\n",
       "      <td>2009</td>\n",
       "      <td>12</td>\n",
       "      <td>Dec 09</td>\n",
       "      <td>C</td>\n",
       "    </tr>\n",
       "    <tr>\n",
       "      <th>179</th>\n",
       "      <td>C489449</td>\n",
       "      <td>85206A</td>\n",
       "      <td>CREAM FELT EASTER EGG BASKET</td>\n",
       "      <td>-6</td>\n",
       "      <td>2009-12-01 10:33:00</td>\n",
       "      <td>1.6</td>\n",
       "      <td>16321.0</td>\n",
       "      <td>Australia</td>\n",
       "      <td>2009-12-01</td>\n",
       "      <td>10:33:00</td>\n",
       "      <td>2009</td>\n",
       "      <td>12</td>\n",
       "      <td>Dec 09</td>\n",
       "      <td>C</td>\n",
       "    </tr>\n",
       "    <tr>\n",
       "      <th>180</th>\n",
       "      <td>C489449</td>\n",
       "      <td>21895</td>\n",
       "      <td>POTTING SHED SOW 'N' GROW SET</td>\n",
       "      <td>-4</td>\n",
       "      <td>2009-12-01 10:33:00</td>\n",
       "      <td>4.2</td>\n",
       "      <td>16321.0</td>\n",
       "      <td>Australia</td>\n",
       "      <td>2009-12-01</td>\n",
       "      <td>10:33:00</td>\n",
       "      <td>2009</td>\n",
       "      <td>12</td>\n",
       "      <td>Dec 09</td>\n",
       "      <td>C</td>\n",
       "    </tr>\n",
       "  </tbody>\n",
       "</table>\n",
       "</div>"
      ],
      "text/plain": [
       "     Invoice StockCode                    Description  Quantity  \\\n",
       "178  C489449     22087       PAPER BUNTING WHITE LACE       -12   \n",
       "179  C489449    85206A   CREAM FELT EASTER EGG BASKET        -6   \n",
       "180  C489449     21895  POTTING SHED SOW 'N' GROW SET        -4   \n",
       "\n",
       "            InvoiceDate  Price  Customer ID    Country    Inv_Date  Inv_Time  \\\n",
       "178 2009-12-01 10:33:00    3.0      16321.0  Australia  2009-12-01  10:33:00   \n",
       "179 2009-12-01 10:33:00    1.6      16321.0  Australia  2009-12-01  10:33:00   \n",
       "180 2009-12-01 10:33:00    4.2      16321.0  Australia  2009-12-01  10:33:00   \n",
       "\n",
       "       Yr  Month    MMYY Inv_Pre  \n",
       "178  2009     12  Dec 09       C  \n",
       "179  2009     12  Dec 09       C  \n",
       "180  2009     12  Dec 09       C  "
      ]
     },
     "execution_count": 20,
     "metadata": {},
     "output_type": "execute_result"
    }
   ],
   "source": [
    "# Investigate on observations with Inv_Pre'C\n",
    "c=retail[(retail['Inv_Pre']=='C')]\n",
    "print('There are in total',len(c),'rows of Invoice with prefix \"C\"')\n",
    "c.head(3)"
   ]
  },
  {
   "cell_type": "code",
   "execution_count": 21,
   "metadata": {
    "ExecuteTime": {
     "end_time": "2020-01-14T07:10:53.886273Z",
     "start_time": "2020-01-14T07:10:53.810700Z"
    }
   },
   "outputs": [
    {
     "name": "stdout",
     "output_type": "stream",
     "text": [
      "There are in total 19103 rows of Invoice with prefix \"C\" with negaive quantity\n"
     ]
    },
    {
     "data": {
      "text/html": [
       "<div>\n",
       "<style scoped>\n",
       "    .dataframe tbody tr th:only-of-type {\n",
       "        vertical-align: middle;\n",
       "    }\n",
       "\n",
       "    .dataframe tbody tr th {\n",
       "        vertical-align: top;\n",
       "    }\n",
       "\n",
       "    .dataframe thead th {\n",
       "        text-align: right;\n",
       "    }\n",
       "</style>\n",
       "<table border=\"1\" class=\"dataframe\">\n",
       "  <thead>\n",
       "    <tr style=\"text-align: right;\">\n",
       "      <th></th>\n",
       "      <th>Invoice</th>\n",
       "      <th>StockCode</th>\n",
       "      <th>Description</th>\n",
       "      <th>Quantity</th>\n",
       "      <th>InvoiceDate</th>\n",
       "      <th>Price</th>\n",
       "      <th>Customer ID</th>\n",
       "      <th>Country</th>\n",
       "      <th>Inv_Date</th>\n",
       "      <th>Inv_Time</th>\n",
       "      <th>Yr</th>\n",
       "      <th>Month</th>\n",
       "      <th>MMYY</th>\n",
       "      <th>Inv_Pre</th>\n",
       "    </tr>\n",
       "  </thead>\n",
       "  <tbody>\n",
       "    <tr>\n",
       "      <th>178</th>\n",
       "      <td>C489449</td>\n",
       "      <td>22087</td>\n",
       "      <td>PAPER BUNTING WHITE LACE</td>\n",
       "      <td>-12</td>\n",
       "      <td>2009-12-01 10:33:00</td>\n",
       "      <td>3.0</td>\n",
       "      <td>16321.0</td>\n",
       "      <td>Australia</td>\n",
       "      <td>2009-12-01</td>\n",
       "      <td>10:33:00</td>\n",
       "      <td>2009</td>\n",
       "      <td>12</td>\n",
       "      <td>Dec 09</td>\n",
       "      <td>C</td>\n",
       "    </tr>\n",
       "    <tr>\n",
       "      <th>179</th>\n",
       "      <td>C489449</td>\n",
       "      <td>85206A</td>\n",
       "      <td>CREAM FELT EASTER EGG BASKET</td>\n",
       "      <td>-6</td>\n",
       "      <td>2009-12-01 10:33:00</td>\n",
       "      <td>1.6</td>\n",
       "      <td>16321.0</td>\n",
       "      <td>Australia</td>\n",
       "      <td>2009-12-01</td>\n",
       "      <td>10:33:00</td>\n",
       "      <td>2009</td>\n",
       "      <td>12</td>\n",
       "      <td>Dec 09</td>\n",
       "      <td>C</td>\n",
       "    </tr>\n",
       "    <tr>\n",
       "      <th>180</th>\n",
       "      <td>C489449</td>\n",
       "      <td>21895</td>\n",
       "      <td>POTTING SHED SOW 'N' GROW SET</td>\n",
       "      <td>-4</td>\n",
       "      <td>2009-12-01 10:33:00</td>\n",
       "      <td>4.2</td>\n",
       "      <td>16321.0</td>\n",
       "      <td>Australia</td>\n",
       "      <td>2009-12-01</td>\n",
       "      <td>10:33:00</td>\n",
       "      <td>2009</td>\n",
       "      <td>12</td>\n",
       "      <td>Dec 09</td>\n",
       "      <td>C</td>\n",
       "    </tr>\n",
       "  </tbody>\n",
       "</table>\n",
       "</div>"
      ],
      "text/plain": [
       "     Invoice StockCode                    Description  Quantity  \\\n",
       "178  C489449     22087       PAPER BUNTING WHITE LACE       -12   \n",
       "179  C489449    85206A   CREAM FELT EASTER EGG BASKET        -6   \n",
       "180  C489449     21895  POTTING SHED SOW 'N' GROW SET        -4   \n",
       "\n",
       "            InvoiceDate  Price  Customer ID    Country    Inv_Date  Inv_Time  \\\n",
       "178 2009-12-01 10:33:00    3.0      16321.0  Australia  2009-12-01  10:33:00   \n",
       "179 2009-12-01 10:33:00    1.6      16321.0  Australia  2009-12-01  10:33:00   \n",
       "180 2009-12-01 10:33:00    4.2      16321.0  Australia  2009-12-01  10:33:00   \n",
       "\n",
       "       Yr  Month    MMYY Inv_Pre  \n",
       "178  2009     12  Dec 09       C  \n",
       "179  2009     12  Dec 09       C  \n",
       "180  2009     12  Dec 09       C  "
      ]
     },
     "execution_count": 21,
     "metadata": {},
     "output_type": "execute_result"
    }
   ],
   "source": [
    "# for invoice number with prefix 'C', check on the transaction pattern for Negative Quantity\n",
    "c_negative=retail[(retail['Inv_Pre']=='C')&(retail['Quantity']<0)]\n",
    "print('There are in total',len(c_negative),'rows of Invoice with prefix \"C\" with negaive quantity')\n",
    "c_negative.head(3)"
   ]
  },
  {
   "cell_type": "code",
   "execution_count": 22,
   "metadata": {
    "ExecuteTime": {
     "end_time": "2020-01-14T07:10:53.950104Z",
     "start_time": "2020-01-14T07:10:53.890262Z"
    }
   },
   "outputs": [
    {
     "name": "stdout",
     "output_type": "stream",
     "text": [
      "There are in total 1 rows of Invoice with prefix \"C\" with positive quantity\n"
     ]
    },
    {
     "data": {
      "text/html": [
       "<div>\n",
       "<style scoped>\n",
       "    .dataframe tbody tr th:only-of-type {\n",
       "        vertical-align: middle;\n",
       "    }\n",
       "\n",
       "    .dataframe tbody tr th {\n",
       "        vertical-align: top;\n",
       "    }\n",
       "\n",
       "    .dataframe thead th {\n",
       "        text-align: right;\n",
       "    }\n",
       "</style>\n",
       "<table border=\"1\" class=\"dataframe\">\n",
       "  <thead>\n",
       "    <tr style=\"text-align: right;\">\n",
       "      <th></th>\n",
       "      <th>Invoice</th>\n",
       "      <th>StockCode</th>\n",
       "      <th>Description</th>\n",
       "      <th>Quantity</th>\n",
       "      <th>InvoiceDate</th>\n",
       "      <th>Price</th>\n",
       "      <th>Customer ID</th>\n",
       "      <th>Country</th>\n",
       "      <th>Inv_Date</th>\n",
       "      <th>Inv_Time</th>\n",
       "      <th>Yr</th>\n",
       "      <th>Month</th>\n",
       "      <th>MMYY</th>\n",
       "      <th>Inv_Pre</th>\n",
       "    </tr>\n",
       "  </thead>\n",
       "  <tbody>\n",
       "    <tr>\n",
       "      <th>76799</th>\n",
       "      <td>C496350</td>\n",
       "      <td>M</td>\n",
       "      <td>Manual</td>\n",
       "      <td>1</td>\n",
       "      <td>2010-02-01 08:24:00</td>\n",
       "      <td>373.6</td>\n",
       "      <td>nan</td>\n",
       "      <td>United Kingdom</td>\n",
       "      <td>2010-02-01</td>\n",
       "      <td>08:24:00</td>\n",
       "      <td>2010</td>\n",
       "      <td>2</td>\n",
       "      <td>Feb 10</td>\n",
       "      <td>C</td>\n",
       "    </tr>\n",
       "  </tbody>\n",
       "</table>\n",
       "</div>"
      ],
      "text/plain": [
       "       Invoice StockCode Description  Quantity         InvoiceDate  Price  \\\n",
       "76799  C496350         M      Manual         1 2010-02-01 08:24:00  373.6   \n",
       "\n",
       "       Customer ID         Country    Inv_Date  Inv_Time    Yr  Month    MMYY  \\\n",
       "76799          nan  United Kingdom  2010-02-01  08:24:00  2010      2  Feb 10   \n",
       "\n",
       "      Inv_Pre  \n",
       "76799       C  "
      ]
     },
     "execution_count": 22,
     "metadata": {},
     "output_type": "execute_result"
    }
   ],
   "source": [
    "# for invoice number with prefix 'C', check on the transaction pattern for Positive Quantity\n",
    "c_positive=retail[(retail['Inv_Pre']=='C')&(retail['Quantity']>0)]\n",
    "print('There are in total',len(c_positive),'rows of Invoice with prefix \"C\" with positive quantity')\n",
    "c_positive"
   ]
  },
  {
   "cell_type": "code",
   "execution_count": 23,
   "metadata": {
    "ExecuteTime": {
     "end_time": "2020-01-14T07:10:54.089882Z",
     "start_time": "2020-01-14T07:10:53.961075Z"
    }
   },
   "outputs": [
    {
     "name": "stdout",
     "output_type": "stream",
     "text": [
      "There are in total 19104 of cancelled transactions from 5942 unique Customer ID\n",
      "Percetage of cancelled transaction is: 35.62 %\n"
     ]
    }
   ],
   "source": [
    "# number of unique customer_id for invoice with prefix C\n",
    "print('There are in total',len(c),'of cancelled transactions from',retail['Customer ID'].nunique(),'unique Customer ID')\n",
    "print('Percetage of cancelled transaction is:',round((100*len(c))/(retail['Invoice'].nunique()),2),'%')"
   ]
  },
  {
   "cell_type": "code",
   "execution_count": 24,
   "metadata": {
    "ExecuteTime": {
     "end_time": "2020-01-14T07:10:55.183805Z",
     "start_time": "2020-01-14T07:10:54.096713Z"
    }
   },
   "outputs": [
    {
     "data": {
      "text/html": [
       "<div>\n",
       "<style scoped>\n",
       "    .dataframe tbody tr th:only-of-type {\n",
       "        vertical-align: middle;\n",
       "    }\n",
       "\n",
       "    .dataframe tbody tr th {\n",
       "        vertical-align: top;\n",
       "    }\n",
       "\n",
       "    .dataframe thead th {\n",
       "        text-align: right;\n",
       "    }\n",
       "</style>\n",
       "<table border=\"1\" class=\"dataframe\">\n",
       "  <thead>\n",
       "    <tr style=\"text-align: right;\">\n",
       "      <th></th>\n",
       "      <th>Invoice</th>\n",
       "      <th>StockCode</th>\n",
       "      <th>Description</th>\n",
       "      <th>Quantity</th>\n",
       "      <th>InvoiceDate</th>\n",
       "      <th>Price</th>\n",
       "      <th>Customer ID</th>\n",
       "      <th>Country</th>\n",
       "      <th>Inv_Date</th>\n",
       "      <th>Inv_Time</th>\n",
       "      <th>Yr</th>\n",
       "      <th>Month</th>\n",
       "      <th>MMYY</th>\n",
       "      <th>Inv_Pre</th>\n",
       "    </tr>\n",
       "  </thead>\n",
       "  <tbody>\n",
       "    <tr>\n",
       "      <th>1065883</th>\n",
       "      <td>C581484</td>\n",
       "      <td>23843</td>\n",
       "      <td>PAPER CRAFT , LITTLE BIRDIE</td>\n",
       "      <td>-80995</td>\n",
       "      <td>2011-12-09 09:27:00</td>\n",
       "      <td>2.1</td>\n",
       "      <td>16446.0</td>\n",
       "      <td>United Kingdom</td>\n",
       "      <td>2011-12-09</td>\n",
       "      <td>09:27:00</td>\n",
       "      <td>2011</td>\n",
       "      <td>12</td>\n",
       "      <td>Dec 11</td>\n",
       "      <td>C</td>\n",
       "    </tr>\n",
       "  </tbody>\n",
       "</table>\n",
       "</div>"
      ],
      "text/plain": [
       "         Invoice StockCode                  Description  Quantity  \\\n",
       "1065883  C581484     23843  PAPER CRAFT , LITTLE BIRDIE    -80995   \n",
       "\n",
       "                InvoiceDate  Price  Customer ID         Country    Inv_Date  \\\n",
       "1065883 2011-12-09 09:27:00    2.1      16446.0  United Kingdom  2011-12-09   \n",
       "\n",
       "         Inv_Time    Yr  Month    MMYY Inv_Pre  \n",
       "1065883  09:27:00  2011     12  Dec 11       C  "
      ]
     },
     "execution_count": 24,
     "metadata": {},
     "output_type": "execute_result"
    }
   ],
   "source": [
    "# random check if there's a non-alphanumeric invoice corresponding with inv number C581484\n",
    "retail[retail['Invoice'].str.contains('581484')]"
   ]
  },
  {
   "cell_type": "code",
   "execution_count": 25,
   "metadata": {
    "ExecuteTime": {
     "end_time": "2020-01-14T07:10:56.334727Z",
     "start_time": "2020-01-14T07:10:55.188040Z"
    }
   },
   "outputs": [
    {
     "data": {
      "text/html": [
       "<div>\n",
       "<style scoped>\n",
       "    .dataframe tbody tr th:only-of-type {\n",
       "        vertical-align: middle;\n",
       "    }\n",
       "\n",
       "    .dataframe tbody tr th {\n",
       "        vertical-align: top;\n",
       "    }\n",
       "\n",
       "    .dataframe thead th {\n",
       "        text-align: right;\n",
       "    }\n",
       "</style>\n",
       "<table border=\"1\" class=\"dataframe\">\n",
       "  <thead>\n",
       "    <tr style=\"text-align: right;\">\n",
       "      <th></th>\n",
       "      <th>Invoice</th>\n",
       "      <th>StockCode</th>\n",
       "      <th>Description</th>\n",
       "      <th>Quantity</th>\n",
       "      <th>InvoiceDate</th>\n",
       "      <th>Price</th>\n",
       "      <th>Customer ID</th>\n",
       "      <th>Country</th>\n",
       "      <th>Inv_Date</th>\n",
       "      <th>Inv_Time</th>\n",
       "      <th>Yr</th>\n",
       "      <th>Month</th>\n",
       "      <th>MMYY</th>\n",
       "      <th>Inv_Pre</th>\n",
       "    </tr>\n",
       "  </thead>\n",
       "  <tbody>\n",
       "    <tr>\n",
       "      <th>76799</th>\n",
       "      <td>C496350</td>\n",
       "      <td>M</td>\n",
       "      <td>Manual</td>\n",
       "      <td>1</td>\n",
       "      <td>2010-02-01 08:24:00</td>\n",
       "      <td>373.6</td>\n",
       "      <td>nan</td>\n",
       "      <td>United Kingdom</td>\n",
       "      <td>2010-02-01</td>\n",
       "      <td>08:24:00</td>\n",
       "      <td>2010</td>\n",
       "      <td>2</td>\n",
       "      <td>Feb 10</td>\n",
       "      <td>C</td>\n",
       "    </tr>\n",
       "  </tbody>\n",
       "</table>\n",
       "</div>"
      ],
      "text/plain": [
       "       Invoice StockCode Description  Quantity         InvoiceDate  Price  \\\n",
       "76799  C496350         M      Manual         1 2010-02-01 08:24:00  373.6   \n",
       "\n",
       "       Customer ID         Country    Inv_Date  Inv_Time    Yr  Month    MMYY  \\\n",
       "76799          nan  United Kingdom  2010-02-01  08:24:00  2010      2  Feb 10   \n",
       "\n",
       "      Inv_Pre  \n",
       "76799       C  "
      ]
     },
     "execution_count": 25,
     "metadata": {},
     "output_type": "execute_result"
    }
   ],
   "source": [
    "# random check if there's a non-alphanumeric invoice corresponding with inv number C496350\n",
    "retail[retail['Invoice'].str.contains('496350')]"
   ]
  },
  {
   "cell_type": "markdown",
   "metadata": {
    "ExecuteTime": {
     "end_time": "2019-11-10T16:06:09.350903Z",
     "start_time": "2019-11-10T16:06:09.344930Z"
    }
   },
   "source": [
    "<font color=darkblue> Each of the Invoice number with prefix C does'not have a corresponding non-alphanumerice Invoice number. <br>\n",
    "In short,invoice with prefix C is independent from other numeric numbered invoice.<br>\n",
    "For Invoice numbers having Prefix 'C' with Negative Quantity, is declared as cancellation in the data dictionary provided.<br>   \n",
    "For Invoice numbers having Prefix 'C' with Positive Quantity, seems to be a sales transaction to non-registered customer.<br>\n",
    "However, according to the data dictionary provided by data source, Invoice Number that starts with 'C' is a cancellation invoice and thus should be removed from Sales Transactions.\n"
   ]
  },
  {
   "cell_type": "code",
   "execution_count": 26,
   "metadata": {
    "ExecuteTime": {
     "end_time": "2020-01-14T07:10:56.407547Z",
     "start_time": "2020-01-14T07:10:56.338718Z"
    }
   },
   "outputs": [
    {
     "data": {
      "text/html": [
       "<div>\n",
       "<style scoped>\n",
       "    .dataframe tbody tr th:only-of-type {\n",
       "        vertical-align: middle;\n",
       "    }\n",
       "\n",
       "    .dataframe tbody tr th {\n",
       "        vertical-align: top;\n",
       "    }\n",
       "\n",
       "    .dataframe thead th {\n",
       "        text-align: right;\n",
       "    }\n",
       "</style>\n",
       "<table border=\"1\" class=\"dataframe\">\n",
       "  <thead>\n",
       "    <tr style=\"text-align: right;\">\n",
       "      <th></th>\n",
       "      <th>Invoice</th>\n",
       "      <th>StockCode</th>\n",
       "      <th>Description</th>\n",
       "      <th>Quantity</th>\n",
       "      <th>InvoiceDate</th>\n",
       "      <th>Price</th>\n",
       "      <th>Customer ID</th>\n",
       "      <th>Country</th>\n",
       "      <th>Inv_Date</th>\n",
       "      <th>Inv_Time</th>\n",
       "      <th>Yr</th>\n",
       "      <th>Month</th>\n",
       "      <th>MMYY</th>\n",
       "      <th>Inv_Pre</th>\n",
       "    </tr>\n",
       "  </thead>\n",
       "  <tbody>\n",
       "    <tr>\n",
       "      <th>179403</th>\n",
       "      <td>A506401</td>\n",
       "      <td>B</td>\n",
       "      <td>Adjust bad debt</td>\n",
       "      <td>1</td>\n",
       "      <td>2010-04-29 13:36:00</td>\n",
       "      <td>-53594.4</td>\n",
       "      <td>nan</td>\n",
       "      <td>United Kingdom</td>\n",
       "      <td>2010-04-29</td>\n",
       "      <td>13:36:00</td>\n",
       "      <td>2010</td>\n",
       "      <td>4</td>\n",
       "      <td>Apr 10</td>\n",
       "      <td>A</td>\n",
       "    </tr>\n",
       "    <tr>\n",
       "      <th>276274</th>\n",
       "      <td>A516228</td>\n",
       "      <td>B</td>\n",
       "      <td>Adjust bad debt</td>\n",
       "      <td>1</td>\n",
       "      <td>2010-07-19 11:24:00</td>\n",
       "      <td>-44031.8</td>\n",
       "      <td>nan</td>\n",
       "      <td>United Kingdom</td>\n",
       "      <td>2010-07-19</td>\n",
       "      <td>11:24:00</td>\n",
       "      <td>2010</td>\n",
       "      <td>7</td>\n",
       "      <td>Jul 10</td>\n",
       "      <td>A</td>\n",
       "    </tr>\n",
       "    <tr>\n",
       "      <th>403472</th>\n",
       "      <td>A528059</td>\n",
       "      <td>B</td>\n",
       "      <td>Adjust bad debt</td>\n",
       "      <td>1</td>\n",
       "      <td>2010-10-20 12:04:00</td>\n",
       "      <td>-38925.9</td>\n",
       "      <td>nan</td>\n",
       "      <td>United Kingdom</td>\n",
       "      <td>2010-10-20</td>\n",
       "      <td>12:04:00</td>\n",
       "      <td>2010</td>\n",
       "      <td>10</td>\n",
       "      <td>Oct 10</td>\n",
       "      <td>A</td>\n",
       "    </tr>\n",
       "    <tr>\n",
       "      <th>825443</th>\n",
       "      <td>A563185</td>\n",
       "      <td>B</td>\n",
       "      <td>Adjust bad debt</td>\n",
       "      <td>1</td>\n",
       "      <td>2011-08-12 14:50:00</td>\n",
       "      <td>11062.1</td>\n",
       "      <td>nan</td>\n",
       "      <td>United Kingdom</td>\n",
       "      <td>2011-08-12</td>\n",
       "      <td>14:50:00</td>\n",
       "      <td>2011</td>\n",
       "      <td>8</td>\n",
       "      <td>Aug 11</td>\n",
       "      <td>A</td>\n",
       "    </tr>\n",
       "    <tr>\n",
       "      <th>825444</th>\n",
       "      <td>A563186</td>\n",
       "      <td>B</td>\n",
       "      <td>Adjust bad debt</td>\n",
       "      <td>1</td>\n",
       "      <td>2011-08-12 14:51:00</td>\n",
       "      <td>-11062.1</td>\n",
       "      <td>nan</td>\n",
       "      <td>United Kingdom</td>\n",
       "      <td>2011-08-12</td>\n",
       "      <td>14:51:00</td>\n",
       "      <td>2011</td>\n",
       "      <td>8</td>\n",
       "      <td>Aug 11</td>\n",
       "      <td>A</td>\n",
       "    </tr>\n",
       "    <tr>\n",
       "      <th>825445</th>\n",
       "      <td>A563187</td>\n",
       "      <td>B</td>\n",
       "      <td>Adjust bad debt</td>\n",
       "      <td>1</td>\n",
       "      <td>2011-08-12 14:52:00</td>\n",
       "      <td>-11062.1</td>\n",
       "      <td>nan</td>\n",
       "      <td>United Kingdom</td>\n",
       "      <td>2011-08-12</td>\n",
       "      <td>14:52:00</td>\n",
       "      <td>2011</td>\n",
       "      <td>8</td>\n",
       "      <td>Aug 11</td>\n",
       "      <td>A</td>\n",
       "    </tr>\n",
       "  </tbody>\n",
       "</table>\n",
       "</div>"
      ],
      "text/plain": [
       "        Invoice StockCode      Description  Quantity         InvoiceDate  \\\n",
       "179403  A506401         B  Adjust bad debt         1 2010-04-29 13:36:00   \n",
       "276274  A516228         B  Adjust bad debt         1 2010-07-19 11:24:00   \n",
       "403472  A528059         B  Adjust bad debt         1 2010-10-20 12:04:00   \n",
       "825443  A563185         B  Adjust bad debt         1 2011-08-12 14:50:00   \n",
       "825444  A563186         B  Adjust bad debt         1 2011-08-12 14:51:00   \n",
       "825445  A563187         B  Adjust bad debt         1 2011-08-12 14:52:00   \n",
       "\n",
       "          Price  Customer ID         Country    Inv_Date  Inv_Time    Yr  \\\n",
       "179403 -53594.4          nan  United Kingdom  2010-04-29  13:36:00  2010   \n",
       "276274 -44031.8          nan  United Kingdom  2010-07-19  11:24:00  2010   \n",
       "403472 -38925.9          nan  United Kingdom  2010-10-20  12:04:00  2010   \n",
       "825443  11062.1          nan  United Kingdom  2011-08-12  14:50:00  2011   \n",
       "825444 -11062.1          nan  United Kingdom  2011-08-12  14:51:00  2011   \n",
       "825445 -11062.1          nan  United Kingdom  2011-08-12  14:52:00  2011   \n",
       "\n",
       "        Month    MMYY Inv_Pre  \n",
       "179403      4  Apr 10       A  \n",
       "276274      7  Jul 10       A  \n",
       "403472     10  Oct 10       A  \n",
       "825443      8  Aug 11       A  \n",
       "825444      8  Aug 11       A  \n",
       "825445      8  Aug 11       A  "
      ]
     },
     "execution_count": 26,
     "metadata": {},
     "output_type": "execute_result"
    }
   ],
   "source": [
    "# for invoice number with prefix 'A', check on the transaction pattern\n",
    "retail[retail['Inv_Pre']=='A']"
   ]
  },
  {
   "cell_type": "markdown",
   "metadata": {
    "ExecuteTime": {
     "end_time": "2019-11-10T16:09:34.817179Z",
     "start_time": "2019-11-10T16:09:34.813191Z"
    }
   },
   "source": [
    "<font color=darkblue> There are in total 6 transactions having Invoice Number with prefix A.<br>\n",
    "These 6 transactions have StockCode 'B' and Description of 'Adjust bad debt'."
   ]
  },
  {
   "cell_type": "markdown",
   "metadata": {},
   "source": [
    "<font color=darkblue> From tranactional patter above, Invoice number with Prefix C is cancellations that should not be included in 'Sales Transaction', while Invoice number with Prefix A is a bad debt write off that should not be included in 'Sales Transaction'.<br>\n",
    "Invoice number with Prefix A  should be review seperately on the company's bad debt handling."
   ]
  },
  {
   "cell_type": "code",
   "execution_count": 27,
   "metadata": {
    "ExecuteTime": {
     "end_time": "2020-01-14T07:10:56.566110Z",
     "start_time": "2020-01-14T07:10:56.412521Z"
    }
   },
   "outputs": [
    {
     "name": "stdout",
     "output_type": "stream",
     "text": [
      "(1033036, 14)\n"
     ]
    }
   ],
   "source": [
    "# create a new data fram sales_df\n",
    "# drop Inv_Pre= ‘A'\n",
    "sales_df=retail.copy()\n",
    "print(sales_df.shape)"
   ]
  },
  {
   "cell_type": "code",
   "execution_count": 28,
   "metadata": {
    "ExecuteTime": {
     "end_time": "2020-01-14T07:10:57.641282Z",
     "start_time": "2020-01-14T07:10:56.570101Z"
    }
   },
   "outputs": [
    {
     "name": "stdout",
     "output_type": "stream",
     "text": [
      "sales_df shape: (1013926, 14)\n",
      "Number of Unique Invoice:  45330\n",
      "Number of Unique StockCode:  5298\n",
      "Number of Unique Item Description:  5681\n",
      "Number of Unique Item Customer:  5881\n",
      "Number of Unique Country:  43\n"
     ]
    }
   ],
   "source": [
    "# drop Inv_Pre= ‘A' & 'C'\n",
    "sales_df=sales_df.drop(sales_df[(sales_df['Inv_Pre']=='A')|(sales_df['Inv_Pre']=='C')].index)\n",
    "print('sales_df shape:',sales_df.shape)\n",
    "print('Number of Unique Invoice: ',sales_df['Invoice'].nunique())\n",
    "print('Number of Unique StockCode: ',sales_df['StockCode'].nunique())\n",
    "print('Number of Unique Item Description: ',sales_df['Description'].nunique())\n",
    "print('Number of Unique Item Customer: ',sales_df['Customer ID'].nunique())\n",
    "print('Number of Unique Country: ',sales_df['Country'].nunique())"
   ]
  },
  {
   "cell_type": "markdown",
   "metadata": {},
   "source": [
    "###  Investigating on`Stock Code`"
   ]
  },
  {
   "cell_type": "code",
   "execution_count": 29,
   "metadata": {
    "ExecuteTime": {
     "end_time": "2020-01-14T07:12:04.889718Z",
     "start_time": "2020-01-14T07:10:57.647223Z"
    }
   },
   "outputs": [
    {
     "data": {
      "text/html": [
       "<div>\n",
       "<style scoped>\n",
       "    .dataframe tbody tr th:only-of-type {\n",
       "        vertical-align: middle;\n",
       "    }\n",
       "\n",
       "    .dataframe tbody tr th {\n",
       "        vertical-align: top;\n",
       "    }\n",
       "\n",
       "    .dataframe thead th {\n",
       "        text-align: right;\n",
       "    }\n",
       "</style>\n",
       "<table border=\"1\" class=\"dataframe\">\n",
       "  <thead>\n",
       "    <tr style=\"text-align: right;\">\n",
       "      <th></th>\n",
       "      <th>Invoice</th>\n",
       "      <th>StockCode</th>\n",
       "      <th>Description</th>\n",
       "      <th>Quantity</th>\n",
       "      <th>InvoiceDate</th>\n",
       "      <th>Price</th>\n",
       "      <th>Customer ID</th>\n",
       "      <th>Country</th>\n",
       "      <th>Inv_Date</th>\n",
       "      <th>Inv_Time</th>\n",
       "      <th>Yr</th>\n",
       "      <th>Month</th>\n",
       "      <th>MMYY</th>\n",
       "      <th>Inv_Pre</th>\n",
       "      <th>Stock_Pre</th>\n",
       "      <th>Stock_Suf</th>\n",
       "    </tr>\n",
       "  </thead>\n",
       "  <tbody>\n",
       "    <tr>\n",
       "      <th>0</th>\n",
       "      <td>489434</td>\n",
       "      <td>85048</td>\n",
       "      <td>15CM CHRISTMAS GLASS BALL 20 LIGHTS</td>\n",
       "      <td>12</td>\n",
       "      <td>2009-12-01 07:45:00</td>\n",
       "      <td>7.0</td>\n",
       "      <td>13085.0</td>\n",
       "      <td>United Kingdom</td>\n",
       "      <td>2009-12-01</td>\n",
       "      <td>07:45:00</td>\n",
       "      <td>2009</td>\n",
       "      <td>12</td>\n",
       "      <td>Dec 09</td>\n",
       "      <td>None</td>\n",
       "      <td>None</td>\n",
       "      <td>None</td>\n",
       "    </tr>\n",
       "    <tr>\n",
       "      <th>1</th>\n",
       "      <td>489434</td>\n",
       "      <td>79323P</td>\n",
       "      <td>PINK CHERRY LIGHTS</td>\n",
       "      <td>12</td>\n",
       "      <td>2009-12-01 07:45:00</td>\n",
       "      <td>6.8</td>\n",
       "      <td>13085.0</td>\n",
       "      <td>United Kingdom</td>\n",
       "      <td>2009-12-01</td>\n",
       "      <td>07:45:00</td>\n",
       "      <td>2009</td>\n",
       "      <td>12</td>\n",
       "      <td>Dec 09</td>\n",
       "      <td>None</td>\n",
       "      <td>None</td>\n",
       "      <td>P</td>\n",
       "    </tr>\n",
       "    <tr>\n",
       "      <th>2</th>\n",
       "      <td>489434</td>\n",
       "      <td>79323W</td>\n",
       "      <td>WHITE CHERRY LIGHTS</td>\n",
       "      <td>12</td>\n",
       "      <td>2009-12-01 07:45:00</td>\n",
       "      <td>6.8</td>\n",
       "      <td>13085.0</td>\n",
       "      <td>United Kingdom</td>\n",
       "      <td>2009-12-01</td>\n",
       "      <td>07:45:00</td>\n",
       "      <td>2009</td>\n",
       "      <td>12</td>\n",
       "      <td>Dec 09</td>\n",
       "      <td>None</td>\n",
       "      <td>None</td>\n",
       "      <td>W</td>\n",
       "    </tr>\n",
       "    <tr>\n",
       "      <th>3</th>\n",
       "      <td>489434</td>\n",
       "      <td>22041</td>\n",
       "      <td>RECORD FRAME 7\" SINGLE SIZE</td>\n",
       "      <td>48</td>\n",
       "      <td>2009-12-01 07:45:00</td>\n",
       "      <td>2.1</td>\n",
       "      <td>13085.0</td>\n",
       "      <td>United Kingdom</td>\n",
       "      <td>2009-12-01</td>\n",
       "      <td>07:45:00</td>\n",
       "      <td>2009</td>\n",
       "      <td>12</td>\n",
       "      <td>Dec 09</td>\n",
       "      <td>None</td>\n",
       "      <td>None</td>\n",
       "      <td>None</td>\n",
       "    </tr>\n",
       "    <tr>\n",
       "      <th>4</th>\n",
       "      <td>489434</td>\n",
       "      <td>21232</td>\n",
       "      <td>STRAWBERRY CERAMIC TRINKET BOX</td>\n",
       "      <td>24</td>\n",
       "      <td>2009-12-01 07:45:00</td>\n",
       "      <td>1.2</td>\n",
       "      <td>13085.0</td>\n",
       "      <td>United Kingdom</td>\n",
       "      <td>2009-12-01</td>\n",
       "      <td>07:45:00</td>\n",
       "      <td>2009</td>\n",
       "      <td>12</td>\n",
       "      <td>Dec 09</td>\n",
       "      <td>None</td>\n",
       "      <td>None</td>\n",
       "      <td>None</td>\n",
       "    </tr>\n",
       "  </tbody>\n",
       "</table>\n",
       "</div>"
      ],
      "text/plain": [
       "  Invoice StockCode                          Description  Quantity  \\\n",
       "0  489434     85048  15CM CHRISTMAS GLASS BALL 20 LIGHTS        12   \n",
       "1  489434    79323P                   PINK CHERRY LIGHTS        12   \n",
       "2  489434    79323W                  WHITE CHERRY LIGHTS        12   \n",
       "3  489434     22041         RECORD FRAME 7\" SINGLE SIZE         48   \n",
       "4  489434     21232       STRAWBERRY CERAMIC TRINKET BOX        24   \n",
       "\n",
       "          InvoiceDate  Price  Customer ID         Country    Inv_Date  \\\n",
       "0 2009-12-01 07:45:00    7.0      13085.0  United Kingdom  2009-12-01   \n",
       "1 2009-12-01 07:45:00    6.8      13085.0  United Kingdom  2009-12-01   \n",
       "2 2009-12-01 07:45:00    6.8      13085.0  United Kingdom  2009-12-01   \n",
       "3 2009-12-01 07:45:00    2.1      13085.0  United Kingdom  2009-12-01   \n",
       "4 2009-12-01 07:45:00    1.2      13085.0  United Kingdom  2009-12-01   \n",
       "\n",
       "   Inv_Time    Yr  Month    MMYY Inv_Pre Stock_Pre Stock_Suf  \n",
       "0  07:45:00  2009     12  Dec 09    None      None      None  \n",
       "1  07:45:00  2009     12  Dec 09    None      None         P  \n",
       "2  07:45:00  2009     12  Dec 09    None      None         W  \n",
       "3  07:45:00  2009     12  Dec 09    None      None      None  \n",
       "4  07:45:00  2009     12  Dec 09    None      None      None  "
      ]
     },
     "execution_count": 29,
     "metadata": {},
     "output_type": "execute_result"
    }
   ],
   "source": [
    "# Creata a Stock_Pre column and a Stock_Suf column to segregate StockCode prefix and StockCode suffix\n",
    "sales_df['Stock_Pre']=sales_df.apply(lambda x:None if str(x['StockCode'])[0].isnumeric() else (str(x['StockCode'])[0]), axis=1)\n",
    "sales_df['Stock_Suf']=sales_df.apply(lambda x:None if str(x['StockCode'])[-1].isnumeric() else (str(x['StockCode'])[-1]), axis=1)\n",
    "sales_df.head()"
   ]
  },
  {
   "cell_type": "code",
   "execution_count": 30,
   "metadata": {
    "ExecuteTime": {
     "end_time": "2020-01-14T07:12:04.939597Z",
     "start_time": "2020-01-14T07:12:04.892707Z"
    }
   },
   "outputs": [
    {
     "data": {
      "text/plain": [
       "P    1876\n",
       "D    1584\n",
       "M     853\n",
       "C     271\n",
       "g      99\n",
       "A      42\n",
       "B      34\n",
       "T      13\n",
       "S       6\n",
       "m       5\n",
       "G       1\n",
       "Name: Stock_Pre, dtype: int64"
      ]
     },
     "execution_count": 30,
     "metadata": {},
     "output_type": "execute_result"
    }
   ],
   "source": [
    "# List down value counts for StockCode_Pre\n",
    "sales_df['Stock_Pre'].value_counts()"
   ]
  },
  {
   "cell_type": "markdown",
   "metadata": {},
   "source": [
    "<font color=darkblue> Above is the list of StockCode Prefix that contains both uppercase and lowercase."
   ]
  },
  {
   "cell_type": "code",
   "execution_count": 31,
   "metadata": {
    "ExecuteTime": {
     "end_time": "2020-01-14T07:12:05.005492Z",
     "start_time": "2020-01-14T07:12:04.943624Z"
    }
   },
   "outputs": [
    {
     "data": {
      "text/plain": [
       "B    34186\n",
       "A    30131\n",
       "C    15111\n",
       "D     8968\n",
       "L     5948\n",
       "E     4904\n",
       "F     4527\n",
       "S     4085\n",
       "G     3374\n",
       "T     3353\n",
       "P     2068\n",
       "M     1838\n",
       "N     1475\n",
       "W     1105\n",
       "a      919\n",
       "K      874\n",
       "b      704\n",
       "H      624\n",
       "c      570\n",
       "J      542\n",
       "U      388\n",
       "R      270\n",
       "l      240\n",
       "d      226\n",
       "e      154\n",
       "s      131\n",
       "n      116\n",
       "V       87\n",
       "g       65\n",
       "f       51\n",
       "p       41\n",
       "I       39\n",
       "Y       35\n",
       "O       18\n",
       "Z       18\n",
       "k       16\n",
       "m        9\n",
       "j        2\n",
       "w        1\n",
       "         1\n",
       "Name: Stock_Suf, dtype: int64"
      ]
     },
     "execution_count": 31,
     "metadata": {},
     "output_type": "execute_result"
    }
   ],
   "source": [
    "# List down value counts for StockCode_Suf\n",
    "sales_df['Stock_Suf'].value_counts()"
   ]
  },
  {
   "cell_type": "markdown",
   "metadata": {
    "ExecuteTime": {
     "end_time": "2019-11-16T02:39:25.133052Z",
     "start_time": "2019-11-16T02:39:25.042295Z"
    }
   },
   "source": [
    "<font color=darkblue> Above is the list of StockCode Suffix that contains both uppercase and lowercase.<br>\n",
    "No cleaning is done on both StockCode Prefix and Suffix untill there's a clear establishment on how the StockCode Prefix and Suffix is assigned."
   ]
  },
  {
   "cell_type": "markdown",
   "metadata": {},
   "source": [
    "### Investigating on `Description`"
   ]
  },
  {
   "cell_type": "code",
   "execution_count": 32,
   "metadata": {
    "ExecuteTime": {
     "end_time": "2020-01-14T07:12:05.436481Z",
     "start_time": "2020-01-14T07:12:05.009396Z"
    }
   },
   "outputs": [
    {
     "name": "stdout",
     "output_type": "stream",
     "text": [
      "Number of row with Null Description with valid stockcode: 4275\n"
     ]
    },
    {
     "data": {
      "text/html": [
       "<div>\n",
       "<style scoped>\n",
       "    .dataframe tbody tr th:only-of-type {\n",
       "        vertical-align: middle;\n",
       "    }\n",
       "\n",
       "    .dataframe tbody tr th {\n",
       "        vertical-align: top;\n",
       "    }\n",
       "\n",
       "    .dataframe thead th {\n",
       "        text-align: right;\n",
       "    }\n",
       "</style>\n",
       "<table border=\"1\" class=\"dataframe\">\n",
       "  <thead>\n",
       "    <tr style=\"text-align: right;\">\n",
       "      <th></th>\n",
       "      <th>Invoice</th>\n",
       "      <th>StockCode</th>\n",
       "      <th>Description</th>\n",
       "      <th>Quantity</th>\n",
       "      <th>InvoiceDate</th>\n",
       "      <th>Price</th>\n",
       "      <th>Customer ID</th>\n",
       "      <th>Country</th>\n",
       "      <th>Inv_Date</th>\n",
       "      <th>Inv_Time</th>\n",
       "      <th>Yr</th>\n",
       "      <th>Month</th>\n",
       "      <th>MMYY</th>\n",
       "      <th>Inv_Pre</th>\n",
       "      <th>Stock_Pre</th>\n",
       "      <th>Stock_Suf</th>\n",
       "    </tr>\n",
       "  </thead>\n",
       "  <tbody>\n",
       "    <tr>\n",
       "      <th>470</th>\n",
       "      <td>489521</td>\n",
       "      <td>21646</td>\n",
       "      <td>NaN</td>\n",
       "      <td>-50</td>\n",
       "      <td>2009-12-01 11:44:00</td>\n",
       "      <td>0.0</td>\n",
       "      <td>nan</td>\n",
       "      <td>United Kingdom</td>\n",
       "      <td>2009-12-01</td>\n",
       "      <td>11:44:00</td>\n",
       "      <td>2009</td>\n",
       "      <td>12</td>\n",
       "      <td>Dec 09</td>\n",
       "      <td>None</td>\n",
       "      <td>None</td>\n",
       "      <td>None</td>\n",
       "    </tr>\n",
       "    <tr>\n",
       "      <th>3114</th>\n",
       "      <td>489655</td>\n",
       "      <td>20683</td>\n",
       "      <td>NaN</td>\n",
       "      <td>-44</td>\n",
       "      <td>2009-12-01 17:26:00</td>\n",
       "      <td>0.0</td>\n",
       "      <td>nan</td>\n",
       "      <td>United Kingdom</td>\n",
       "      <td>2009-12-01</td>\n",
       "      <td>17:26:00</td>\n",
       "      <td>2009</td>\n",
       "      <td>12</td>\n",
       "      <td>Dec 09</td>\n",
       "      <td>None</td>\n",
       "      <td>None</td>\n",
       "      <td>None</td>\n",
       "    </tr>\n",
       "    <tr>\n",
       "      <th>3161</th>\n",
       "      <td>489659</td>\n",
       "      <td>21350</td>\n",
       "      <td>NaN</td>\n",
       "      <td>230</td>\n",
       "      <td>2009-12-01 17:39:00</td>\n",
       "      <td>0.0</td>\n",
       "      <td>nan</td>\n",
       "      <td>United Kingdom</td>\n",
       "      <td>2009-12-01</td>\n",
       "      <td>17:39:00</td>\n",
       "      <td>2009</td>\n",
       "      <td>12</td>\n",
       "      <td>Dec 09</td>\n",
       "      <td>None</td>\n",
       "      <td>None</td>\n",
       "      <td>None</td>\n",
       "    </tr>\n",
       "  </tbody>\n",
       "</table>\n",
       "</div>"
      ],
      "text/plain": [
       "     Invoice StockCode Description  Quantity         InvoiceDate  Price  \\\n",
       "470   489521     21646         NaN       -50 2009-12-01 11:44:00    0.0   \n",
       "3114  489655     20683         NaN       -44 2009-12-01 17:26:00    0.0   \n",
       "3161  489659     21350         NaN       230 2009-12-01 17:39:00    0.0   \n",
       "\n",
       "      Customer ID         Country    Inv_Date  Inv_Time    Yr  Month    MMYY  \\\n",
       "470           nan  United Kingdom  2009-12-01  11:44:00  2009     12  Dec 09   \n",
       "3114          nan  United Kingdom  2009-12-01  17:26:00  2009     12  Dec 09   \n",
       "3161          nan  United Kingdom  2009-12-01  17:39:00  2009     12  Dec 09   \n",
       "\n",
       "     Inv_Pre Stock_Pre Stock_Suf  \n",
       "470     None      None      None  \n",
       "3114    None      None      None  \n",
       "3161    None      None      None  "
      ]
     },
     "execution_count": 32,
     "metadata": {},
     "output_type": "execute_result"
    }
   ],
   "source": [
    "# List down null Description\n",
    "description=sales_df[sales_df['Description'].isnull()]\n",
    "print('Number of row with Null Description with valid stockcode:',len(description))\n",
    "description.head(3)"
   ]
  },
  {
   "cell_type": "code",
   "execution_count": 33,
   "metadata": {
    "ExecuteTime": {
     "end_time": "2020-01-14T07:12:05.463346Z",
     "start_time": "2020-01-14T07:12:05.440410Z"
    }
   },
   "outputs": [
    {
     "data": {
      "text/plain": [
       " 1       363\n",
       "-1       195\n",
       " 2       164\n",
       "-2       161\n",
       "-4        98\n",
       "-3        94\n",
       " 3        93\n",
       "-5        84\n",
       "-6        80\n",
       "-8        68\n",
       " 5        68\n",
       " 4        66\n",
       "-9        63\n",
       "-10       60\n",
       "-12       60\n",
       " 6        57\n",
       "-7        56\n",
       "-20       51\n",
       "-11       50\n",
       "-15       47\n",
       "-30       45\n",
       " 10       43\n",
       "-23       40\n",
       "-14       39\n",
       " 12       37\n",
       "-16       36\n",
       " 8        35\n",
       "-17       34\n",
       "-21       34\n",
       "-40       34\n",
       "-13       31\n",
       "-50       29\n",
       "-18       29\n",
       "-19       29\n",
       "-25       28\n",
       " 7        27\n",
       "-24       25\n",
       " 20       25\n",
       "-27       25\n",
       " 11       24\n",
       "-36       23\n",
       "-80       23\n",
       " 9        22\n",
       "-70       22\n",
       "-26       21\n",
       " 30       21\n",
       " 48       21\n",
       "-22       20\n",
       "-38       20\n",
       "-31       19\n",
       "-32       19\n",
       "-100      19\n",
       " 24       19\n",
       " 15       18\n",
       "-29       18\n",
       "-200      18\n",
       "-60       18\n",
       " 23       17\n",
       "-34       17\n",
       "-37       17\n",
       "-45       17\n",
       " 60       16\n",
       "-54       15\n",
       "-33       15\n",
       "-28       14\n",
       " 13       14\n",
       "-90       14\n",
       "-42       14\n",
       " 100      14\n",
       " 36       13\n",
       "-44       13\n",
       " 96       13\n",
       "-66       13\n",
       "-43       13\n",
       "-46       13\n",
       " 17       12\n",
       "-35       12\n",
       " 18       12\n",
       " 25       12\n",
       "-120      11\n",
       " 16       11\n",
       "-110      11\n",
       " 144      11\n",
       " 14       11\n",
       "-48       10\n",
       " 19       10\n",
       "-52        9\n",
       "-61        9\n",
       "-41        8\n",
       "-140       8\n",
       "-47        8\n",
       "-150       8\n",
       " 1000      8\n",
       " 2560      8\n",
       "-84        8\n",
       "-53        8\n",
       " 40        7\n",
       " 21        7\n",
       " 50        7\n",
       "-49        7\n",
       "-39        7\n",
       "-59        7\n",
       "-130       7\n",
       "-67        7\n",
       " 27        7\n",
       " 72        7\n",
       " 70        7\n",
       "-2560      7\n",
       "-89        7\n",
       "-57        7\n",
       "-108       6\n",
       " 200       6\n",
       " 120       6\n",
       " 192       6\n",
       "-86        6\n",
       " 31        6\n",
       " 46        6\n",
       "-75        6\n",
       " 5000      6\n",
       " 22        6\n",
       " 80        6\n",
       "-65        6\n",
       "-51        6\n",
       "-77        6\n",
       " 288       6\n",
       "-5000      6\n",
       "-1000      6\n",
       " 29        5\n",
       " 45        5\n",
       "-63        5\n",
       " 65        5\n",
       "-114       5\n",
       "-240       5\n",
       " 90        5\n",
       "-99        5\n",
       "-82        5\n",
       " 74        5\n",
       "-190       5\n",
       "-58        5\n",
       "-170       5\n",
       "-126       5\n",
       " 47        5\n",
       "-109       5\n",
       "-96        5\n",
       " 35        5\n",
       "-160       5\n",
       " 39        5\n",
       " 67        5\n",
       "-105       5\n",
       " 64        5\n",
       "-148       5\n",
       "-93        5\n",
       "-106       4\n",
       "-205       4\n",
       "-72        4\n",
       " 480       4\n",
       "-62        4\n",
       "-55        4\n",
       " 37        4\n",
       " 28        4\n",
       " 42        4\n",
       "-71        4\n",
       " 43        4\n",
       "-92        4\n",
       " 150       4\n",
       "-88        4\n",
       "-73        4\n",
       " 38        3\n",
       "-125       3\n",
       " 52        3\n",
       "-400       3\n",
       "-300       3\n",
       "-56        3\n",
       "-81        3\n",
       "-64        3\n",
       "-69        3\n",
       "-97        3\n",
       "-78        3\n",
       " 33        3\n",
       "-145       3\n",
       " 26        3\n",
       "-104       3\n",
       " 56        3\n",
       " 34        3\n",
       "-74        3\n",
       "-275       3\n",
       "-230       3\n",
       "-115       3\n",
       "-201       3\n",
       "-135       3\n",
       " 180       3\n",
       "-123       3\n",
       "-118       3\n",
       " 32        3\n",
       "-101       3\n",
       "-95        3\n",
       " 140       3\n",
       "-210       3\n",
       "-111       3\n",
       " 76        2\n",
       "-119       2\n",
       "-455       2\n",
       " 155       2\n",
       " 800       2\n",
       "-127       2\n",
       "-91        2\n",
       " 97        2\n",
       "-117       2\n",
       "-147       2\n",
       "-87        2\n",
       "-68        2\n",
       " 57        2\n",
       " 280       2\n",
       " 400       2\n",
       " 420       2\n",
       " 53        2\n",
       " 2300      2\n",
       "-113       2\n",
       "-151       2\n",
       "-129       2\n",
       " 500       2\n",
       "-207       2\n",
       "-179       2\n",
       "-79        2\n",
       " 81        2\n",
       "-284       2\n",
       " 320       2\n",
       " 167       2\n",
       "-152       2\n",
       "-169       2\n",
       " 270       2\n",
       " 219       2\n",
       "-122       2\n",
       " 1800      2\n",
       "-134       2\n",
       "-142       2\n",
       " 250       2\n",
       "-146       2\n",
       "-250       2\n",
       " 156       2\n",
       "-196       2\n",
       "-234       2\n",
       "-188       2\n",
       "-178       2\n",
       "-180       2\n",
       "-168       2\n",
       "-198       2\n",
       "-206       2\n",
       " 164       2\n",
       " 214       2\n",
       "-102       2\n",
       "-217       2\n",
       "-181       2\n",
       "-144       2\n",
       " 171       2\n",
       " 87        2\n",
       "-85        2\n",
       " 83        2\n",
       " 79        2\n",
       " 71        2\n",
       "-76        2\n",
       "-173       2\n",
       "-177       2\n",
       " 4800      2\n",
       "-4800      2\n",
       " 108       2\n",
       " 101       2\n",
       "-260       2\n",
       "-116       2\n",
       " 58        2\n",
       " 44        2\n",
       " 66        2\n",
       "-128       2\n",
       " 128       2\n",
       "-136       2\n",
       " 240       2\n",
       "-3167      1\n",
       "-9200      1\n",
       "-1092      1\n",
       " 960       1\n",
       " 1200      1\n",
       "-1020      1\n",
       "-1012      1\n",
       " 160       1\n",
       " 920       1\n",
       "-124       1\n",
       "-320       1\n",
       " 316       1\n",
       "-312       1\n",
       "-292       1\n",
       "-280       1\n",
       "-276       1\n",
       " 260       1\n",
       " 84        1\n",
       " 88        1\n",
       "-112       1\n",
       " 136       1\n",
       " 900       1\n",
       " 232       1\n",
       "-220       1\n",
       " 216       1\n",
       " 152       1\n",
       "-216       1\n",
       "-212       1\n",
       "-9600      1\n",
       "-156       1\n",
       " 204       1\n",
       " 184       1\n",
       "-164       1\n",
       "-328       1\n",
       " 344       1\n",
       " 348       1\n",
       " 784       1\n",
       "-700       1\n",
       " 684       1\n",
       " 680       1\n",
       "-632       1\n",
       "-620       1\n",
       " 576       1\n",
       " 540       1\n",
       " 524       1\n",
       " 520       1\n",
       "-472       1\n",
       " 460       1\n",
       "-440       1\n",
       "-428       1\n",
       "-420       1\n",
       "-412       1\n",
       " 404       1\n",
       "-396       1\n",
       " 372       1\n",
       "-360       1\n",
       "-352       1\n",
       "-1400      1\n",
       " 1287      1\n",
       " 9600      1\n",
       " 95        1\n",
       "-590       1\n",
       " 2651      1\n",
       "-682       1\n",
       " 682       1\n",
       " 750       1\n",
       "-770       1\n",
       " 954       1\n",
       "-1158      1\n",
       "-1198      1\n",
       " 5568      1\n",
       "-3669      1\n",
       "-6000      1\n",
       " 6000      1\n",
       " 51        1\n",
       " 63        1\n",
       "-530       1\n",
       "-514       1\n",
       "-470       1\n",
       "-290       1\n",
       " 222       1\n",
       " 230       1\n",
       "-242       1\n",
       "-266       1\n",
       "-270       1\n",
       "-278       1\n",
       "-310       1\n",
       "-378       1\n",
       "-322       1\n",
       "-330       1\n",
       "-338       1\n",
       "-342       1\n",
       "-346       1\n",
       "-350       1\n",
       " 75        1\n",
       " 99        1\n",
       "-1480      1\n",
       " 103       1\n",
       " 239       1\n",
       "-245       1\n",
       "-6400      1\n",
       "-257       1\n",
       " 279       1\n",
       " 287       1\n",
       "-317       1\n",
       " 327       1\n",
       " 347       1\n",
       " 387       1\n",
       " 467       1\n",
       "-553       1\n",
       "-725       1\n",
       "-2834      1\n",
       "-4999      1\n",
       "-209       1\n",
       " 207       1\n",
       " 203       1\n",
       " 147       1\n",
       " 107       1\n",
       " 115       1\n",
       "-121       1\n",
       " 123       1\n",
       "-141       1\n",
       " 143       1\n",
       "-153       1\n",
       "-197       1\n",
       " 159       1\n",
       "-161       1\n",
       " 163       1\n",
       " 187       1\n",
       "-193       1\n",
       " 195       1\n",
       "-218       1\n",
       " 210       1\n",
       "-194       1\n",
       "-186       1\n",
       "-159       1\n",
       "-163       1\n",
       "-171       1\n",
       " 177       1\n",
       "-211       1\n",
       "-223       1\n",
       " 225       1\n",
       "-231       1\n",
       " 245       1\n",
       "-259       1\n",
       "-267       1\n",
       "-283       1\n",
       "-295       1\n",
       "-299       1\n",
       "-315       1\n",
       " 157       1\n",
       "-155       1\n",
       " 141       1\n",
       "-83        1\n",
       "-1520      1\n",
       "-3667      1\n",
       "-1800      1\n",
       " 2000      1\n",
       " 61        1\n",
       " 73        1\n",
       " 89        1\n",
       "-139       1\n",
       " 93        1\n",
       "-107       1\n",
       " 113       1\n",
       " 125       1\n",
       " 129       1\n",
       " 137       1\n",
       "-327       1\n",
       "-343       1\n",
       "-359       1\n",
       "-138       1\n",
       " 86        1\n",
       "-98        1\n",
       " 4200      1\n",
       " 110       1\n",
       " 118       1\n",
       " 122       1\n",
       " 142       1\n",
       " 54        1\n",
       "-158       1\n",
       "-162       1\n",
       "-166       1\n",
       " 170       1\n",
       "-174       1\n",
       " 174       1\n",
       " 82        1\n",
       "-1395      1\n",
       "-387       1\n",
       "-599       1\n",
       "-391       1\n",
       "-1129      1\n",
       " 425       1\n",
       " 445       1\n",
       " 453       1\n",
       "-499       1\n",
       " 2880      1\n",
       "-1227      1\n",
       "-843       1\n",
       "-2916      1\n",
       "-939       1\n",
       " 3000      1\n",
       "-999       1\n",
       "-3140      1\n",
       " 2472      1\n",
       "Name: Quantity, dtype: int64"
      ]
     },
     "execution_count": 33,
     "metadata": {},
     "output_type": "execute_result"
    }
   ],
   "source": [
    "# check on quantity for null description\n",
    "description['Quantity'].value_counts()"
   ]
  },
  {
   "cell_type": "markdown",
   "metadata": {
    "ExecuteTime": {
     "end_time": "2019-11-16T02:42:30.821764Z",
     "start_time": "2019-11-16T02:42:30.810794Z"
    }
   },
   "source": [
    "<font color=darkblue> There'a a mix of both positive quantity and negative quantity for item with null description."
   ]
  },
  {
   "cell_type": "code",
   "execution_count": 34,
   "metadata": {
    "ExecuteTime": {
     "end_time": "2020-01-14T07:12:05.485287Z",
     "start_time": "2020-01-14T07:12:05.470673Z"
    }
   },
   "outputs": [
    {
     "data": {
      "text/plain": [
       "0.0    4275\n",
       "Name: Price, dtype: int64"
      ]
     },
     "execution_count": 34,
     "metadata": {},
     "output_type": "execute_result"
    }
   ],
   "source": [
    "# check on price for null description\n",
    "description['Price'].value_counts()"
   ]
  },
  {
   "cell_type": "markdown",
   "metadata": {
    "ExecuteTime": {
     "end_time": "2019-11-16T02:43:13.760991Z",
     "start_time": "2019-11-16T02:43:13.752999Z"
    }
   },
   "source": [
    "<font color=darkblue> All items with null description has 0 pricing"
   ]
  },
  {
   "cell_type": "code",
   "execution_count": 35,
   "metadata": {
    "ExecuteTime": {
     "end_time": "2020-01-14T07:12:05.536733Z",
     "start_time": "2020-01-14T07:12:05.494263Z"
    }
   },
   "outputs": [
    {
     "data": {
      "text/plain": [
       "Series([], Name: Customer ID, dtype: int64)"
      ]
     },
     "execution_count": 35,
     "metadata": {},
     "output_type": "execute_result"
    }
   ],
   "source": [
    "# check on customer for null description\n",
    "description['Customer ID'].value_counts()"
   ]
  },
  {
   "cell_type": "markdown",
   "metadata": {},
   "source": [
    "<font color=darkblue>  All items with null description has null customer ID."
   ]
  },
  {
   "cell_type": "code",
   "execution_count": 36,
   "metadata": {
    "ExecuteTime": {
     "end_time": "2020-01-14T07:12:05.554110Z",
     "start_time": "2020-01-14T07:12:05.541138Z"
    }
   },
   "outputs": [
    {
     "data": {
      "text/plain": [
       "United Kingdom    4275\n",
       "Name: Country, dtype: int64"
      ]
     },
     "execution_count": 36,
     "metadata": {},
     "output_type": "execute_result"
    }
   ],
   "source": [
    "# check on country for null description\n",
    "description['Country'].value_counts()"
   ]
  },
  {
   "cell_type": "markdown",
   "metadata": {
    "ExecuteTime": {
     "end_time": "2019-11-16T02:45:02.337145Z",
     "start_time": "2019-11-16T02:45:02.329141Z"
    }
   },
   "source": [
    " <font color=darkblue>All items with null description are transactions from United Kingdom."
   ]
  },
  {
   "cell_type": "code",
   "execution_count": 37,
   "metadata": {
    "ExecuteTime": {
     "end_time": "2020-01-14T07:12:05.573053Z",
     "start_time": "2020-01-14T07:12:05.558093Z"
    }
   },
   "outputs": [
    {
     "data": {
      "text/plain": [
       "Feb 10    510\n",
       "May 10    476\n",
       "Nov 10    312\n",
       "Mar 10    252\n",
       "Dec 09    228\n",
       "Apr 11    226\n",
       "Jan 10    222\n",
       "Jun 10    175\n",
       "Mar 11    165\n",
       "Aug 10    159\n",
       "Oct 10    157\n",
       "Jul 11    155\n",
       "May 11    138\n",
       "Sep 10    135\n",
       "Dec 10    125\n",
       "Jan 11    114\n",
       "Apr 10    110\n",
       "Oct 11    104\n",
       "Sep 11     99\n",
       "Jun 11     91\n",
       "Jul 10     85\n",
       "Aug 11     82\n",
       "Nov 11     75\n",
       "Feb 11     65\n",
       "Dec 11     15\n",
       "Name: MMYY, dtype: int64"
      ]
     },
     "execution_count": 37,
     "metadata": {},
     "output_type": "execute_result"
    }
   ],
   "source": [
    "# check on country for null description\n",
    "description['MMYY'].value_counts()"
   ]
  },
  {
   "cell_type": "markdown",
   "metadata": {},
   "source": [
    " <font color=darkblue>All items with null description has date range from Dec 2009 to Dec 2011 without specific pattern."
   ]
  },
  {
   "cell_type": "markdown",
   "metadata": {},
   "source": [
    "<font color=darkblue> Checking on null Description return 4275 rows of results. <br>\n",
    "All the 4275 rows have null Customer ID information and are transactions made by client from United Kingdom with '$0.0' pricing."
   ]
  },
  {
   "cell_type": "markdown",
   "metadata": {},
   "source": [
    "###  Data Cleaning on`Customer ID`"
   ]
  },
  {
   "cell_type": "code",
   "execution_count": 38,
   "metadata": {
    "ExecuteTime": {
     "end_time": "2020-01-14T07:12:05.696723Z",
     "start_time": "2020-01-14T07:12:05.576638Z"
    }
   },
   "outputs": [
    {
     "name": "stdout",
     "output_type": "stream",
     "text": [
      "Number of null Customer ID: 4275\n"
     ]
    },
    {
     "data": {
      "text/html": [
       "<div>\n",
       "<style scoped>\n",
       "    .dataframe tbody tr th:only-of-type {\n",
       "        vertical-align: middle;\n",
       "    }\n",
       "\n",
       "    .dataframe tbody tr th {\n",
       "        vertical-align: top;\n",
       "    }\n",
       "\n",
       "    .dataframe thead th {\n",
       "        text-align: right;\n",
       "    }\n",
       "</style>\n",
       "<table border=\"1\" class=\"dataframe\">\n",
       "  <thead>\n",
       "    <tr style=\"text-align: right;\">\n",
       "      <th></th>\n",
       "      <th>Invoice</th>\n",
       "      <th>StockCode</th>\n",
       "      <th>Description</th>\n",
       "      <th>Quantity</th>\n",
       "      <th>Price</th>\n",
       "      <th>Customer ID</th>\n",
       "      <th>Country</th>\n",
       "    </tr>\n",
       "  </thead>\n",
       "  <tbody>\n",
       "    <tr>\n",
       "      <th>470</th>\n",
       "      <td>489521</td>\n",
       "      <td>21646</td>\n",
       "      <td>NaN</td>\n",
       "      <td>-50</td>\n",
       "      <td>0.0</td>\n",
       "      <td>nan</td>\n",
       "      <td>United Kingdom</td>\n",
       "    </tr>\n",
       "    <tr>\n",
       "      <th>3114</th>\n",
       "      <td>489655</td>\n",
       "      <td>20683</td>\n",
       "      <td>NaN</td>\n",
       "      <td>-44</td>\n",
       "      <td>0.0</td>\n",
       "      <td>nan</td>\n",
       "      <td>United Kingdom</td>\n",
       "    </tr>\n",
       "    <tr>\n",
       "      <th>3161</th>\n",
       "      <td>489659</td>\n",
       "      <td>21350</td>\n",
       "      <td>NaN</td>\n",
       "      <td>230</td>\n",
       "      <td>0.0</td>\n",
       "      <td>nan</td>\n",
       "      <td>United Kingdom</td>\n",
       "    </tr>\n",
       "  </tbody>\n",
       "</table>\n",
       "</div>"
      ],
      "text/plain": [
       "     Invoice StockCode Description  Quantity  Price  Customer ID  \\\n",
       "470   489521     21646         NaN       -50    0.0          nan   \n",
       "3114  489655     20683         NaN       -44    0.0          nan   \n",
       "3161  489659     21350         NaN       230    0.0          nan   \n",
       "\n",
       "             Country  \n",
       "470   United Kingdom  \n",
       "3114  United Kingdom  \n",
       "3161  United Kingdom  "
      ]
     },
     "execution_count": 38,
     "metadata": {},
     "output_type": "execute_result"
    }
   ],
   "source": [
    "# Filter Customer_Id is null, Price=0.0, Description is null\n",
    "customerid=sales_df[(sales_df['Customer ID'].isnull()) & (sales_df['Price']==0.0)&(sales_df['Description'].isnull())]\n",
    "customerid_=customerid[['Invoice','StockCode','Description','Quantity','Price','Customer ID','Country']]\n",
    "print('Number of null Customer ID:',customerid_.shape[0])\n",
    "customerid_.head(3)"
   ]
  },
  {
   "cell_type": "markdown",
   "metadata": {
    "ExecuteTime": {
     "end_time": "2019-11-11T13:05:20.961249Z",
     "start_time": "2019-11-11T13:05:20.949678Z"
    }
   },
   "source": [
    "<font color=darkblue> The above 4275 rows of entry that has\n",
    "- Customer ID Null Value\n",
    "- Price ='0.0'\n",
    "- Description Null_Value<br>\n",
    "are drop as they do not carry useful Customer & Revenue information."
   ]
  },
  {
   "cell_type": "code",
   "execution_count": 39,
   "metadata": {
    "ExecuteTime": {
     "end_time": "2020-01-14T07:12:06.759882Z",
     "start_time": "2020-01-14T07:12:05.701710Z"
    }
   },
   "outputs": [
    {
     "name": "stdout",
     "output_type": "stream",
     "text": [
      "sales_df shape: (1009651, 16)\n",
      "Number of Unique Invoice:  41055\n",
      "Number of Unique StockCode:  4935\n",
      "Number of Unique Item Description:  5681\n",
      "Number of Unique Item Customer:  5881\n",
      "Number of Unique Country:  43\n"
     ]
    }
   ],
   "source": [
    "# in sales_df :Drop Customer_Id is null, Price=0.0, Description is null\n",
    "sales_df=sales_df.drop(sales_df[(sales_df['Customer ID'].isnull())& (sales_df['Price']==0.0)&(sales_df['Description'].isnull())].index)\n",
    "\n",
    "print('sales_df shape:',sales_df.shape)\n",
    "print('Number of Unique Invoice: ',sales_df['Invoice'].nunique())\n",
    "print('Number of Unique StockCode: ',sales_df['StockCode'].nunique())\n",
    "print('Number of Unique Item Description: ',sales_df['Description'].nunique())\n",
    "print('Number of Unique Item Customer: ',sales_df['Customer ID'].nunique())\n",
    "print('Number of Unique Country: ',sales_df['Country'].nunique())"
   ]
  },
  {
   "cell_type": "code",
   "execution_count": 40,
   "metadata": {
    "ExecuteTime": {
     "end_time": "2020-01-14T07:12:06.872579Z",
     "start_time": "2020-01-14T07:12:06.764866Z"
    }
   },
   "outputs": [
    {
     "name": "stdout",
     "output_type": "stream",
     "text": [
      "Number of rows with null customer: 230156\n"
     ]
    },
    {
     "data": {
      "text/html": [
       "<div>\n",
       "<style scoped>\n",
       "    .dataframe tbody tr th:only-of-type {\n",
       "        vertical-align: middle;\n",
       "    }\n",
       "\n",
       "    .dataframe tbody tr th {\n",
       "        vertical-align: top;\n",
       "    }\n",
       "\n",
       "    .dataframe thead th {\n",
       "        text-align: right;\n",
       "    }\n",
       "</style>\n",
       "<table border=\"1\" class=\"dataframe\">\n",
       "  <thead>\n",
       "    <tr style=\"text-align: right;\">\n",
       "      <th></th>\n",
       "      <th>Invoice</th>\n",
       "      <th>StockCode</th>\n",
       "      <th>Description</th>\n",
       "      <th>Quantity</th>\n",
       "      <th>InvoiceDate</th>\n",
       "      <th>Price</th>\n",
       "      <th>Customer ID</th>\n",
       "      <th>Country</th>\n",
       "      <th>Inv_Date</th>\n",
       "      <th>Inv_Time</th>\n",
       "      <th>Yr</th>\n",
       "      <th>Month</th>\n",
       "      <th>MMYY</th>\n",
       "      <th>Inv_Pre</th>\n",
       "      <th>Stock_Pre</th>\n",
       "      <th>Stock_Suf</th>\n",
       "    </tr>\n",
       "  </thead>\n",
       "  <tbody>\n",
       "    <tr>\n",
       "      <th>263</th>\n",
       "      <td>489464</td>\n",
       "      <td>21733</td>\n",
       "      <td>85123a mixed</td>\n",
       "      <td>-96</td>\n",
       "      <td>2009-12-01 10:52:00</td>\n",
       "      <td>0.0</td>\n",
       "      <td>nan</td>\n",
       "      <td>United Kingdom</td>\n",
       "      <td>2009-12-01</td>\n",
       "      <td>10:52:00</td>\n",
       "      <td>2009</td>\n",
       "      <td>12</td>\n",
       "      <td>Dec 09</td>\n",
       "      <td>None</td>\n",
       "      <td>None</td>\n",
       "      <td>None</td>\n",
       "    </tr>\n",
       "    <tr>\n",
       "      <th>283</th>\n",
       "      <td>489463</td>\n",
       "      <td>71477</td>\n",
       "      <td>short</td>\n",
       "      <td>-240</td>\n",
       "      <td>2009-12-01 10:52:00</td>\n",
       "      <td>0.0</td>\n",
       "      <td>nan</td>\n",
       "      <td>United Kingdom</td>\n",
       "      <td>2009-12-01</td>\n",
       "      <td>10:52:00</td>\n",
       "      <td>2009</td>\n",
       "      <td>12</td>\n",
       "      <td>Dec 09</td>\n",
       "      <td>None</td>\n",
       "      <td>None</td>\n",
       "      <td>None</td>\n",
       "    </tr>\n",
       "    <tr>\n",
       "      <th>284</th>\n",
       "      <td>489467</td>\n",
       "      <td>85123A</td>\n",
       "      <td>21733 mixed</td>\n",
       "      <td>-192</td>\n",
       "      <td>2009-12-01 10:53:00</td>\n",
       "      <td>0.0</td>\n",
       "      <td>nan</td>\n",
       "      <td>United Kingdom</td>\n",
       "      <td>2009-12-01</td>\n",
       "      <td>10:53:00</td>\n",
       "      <td>2009</td>\n",
       "      <td>12</td>\n",
       "      <td>Dec 09</td>\n",
       "      <td>None</td>\n",
       "      <td>None</td>\n",
       "      <td>A</td>\n",
       "    </tr>\n",
       "  </tbody>\n",
       "</table>\n",
       "</div>"
      ],
      "text/plain": [
       "    Invoice StockCode   Description  Quantity         InvoiceDate  Price  \\\n",
       "263  489464     21733  85123a mixed       -96 2009-12-01 10:52:00    0.0   \n",
       "283  489463     71477         short      -240 2009-12-01 10:52:00    0.0   \n",
       "284  489467    85123A   21733 mixed      -192 2009-12-01 10:53:00    0.0   \n",
       "\n",
       "     Customer ID         Country    Inv_Date  Inv_Time    Yr  Month    MMYY  \\\n",
       "263          nan  United Kingdom  2009-12-01  10:52:00  2009     12  Dec 09   \n",
       "283          nan  United Kingdom  2009-12-01  10:52:00  2009     12  Dec 09   \n",
       "284          nan  United Kingdom  2009-12-01  10:53:00  2009     12  Dec 09   \n",
       "\n",
       "    Inv_Pre Stock_Pre Stock_Suf  \n",
       "263    None      None      None  \n",
       "283    None      None      None  \n",
       "284    None      None         A  "
      ]
     },
     "execution_count": 40,
     "metadata": {},
     "output_type": "execute_result"
    }
   ],
   "source": [
    "null_customer=sales_df[sales_df['Customer ID'].isnull()]\n",
    "print('Number of rows with null customer:',len(null_customer))\n",
    "null_customer.head(3)"
   ]
  },
  {
   "cell_type": "markdown",
   "metadata": {},
   "source": [
    "<font color=darkblue> The above 230,156 rows of entry that has no Customer ID.<br>\n",
    "These rows were droped."
   ]
  },
  {
   "cell_type": "code",
   "execution_count": 41,
   "metadata": {
    "ExecuteTime": {
     "end_time": "2020-01-14T07:12:07.978623Z",
     "start_time": "2020-01-14T07:12:06.875572Z"
    }
   },
   "outputs": [
    {
     "name": "stdout",
     "output_type": "stream",
     "text": [
      "sales_df shape: (779495, 16)\n",
      "Number of Unique Invoice:  36975\n",
      "Number of Unique StockCode:  4631\n",
      "Number of Unique Item Description:  5283\n",
      "Number of Unique Item Customer:  5881\n",
      "Number of Unique Country:  41\n"
     ]
    }
   ],
   "source": [
    "# in sales_df :Drop Customer_Id is null\n",
    "sales_df=sales_df.drop(sales_df[(sales_df['Customer ID'].isnull())].index)\n",
    "\n",
    "print('sales_df shape:',sales_df.shape)\n",
    "print('Number of Unique Invoice: ',sales_df['Invoice'].nunique())\n",
    "print('Number of Unique StockCode: ',sales_df['StockCode'].nunique())\n",
    "print('Number of Unique Item Description: ',sales_df['Description'].nunique())\n",
    "print('Number of Unique Item Customer: ',sales_df['Customer ID'].nunique())\n",
    "print('Number of Unique Country: ',sales_df['Country'].nunique())"
   ]
  },
  {
   "cell_type": "markdown",
   "metadata": {
    "ExecuteTime": {
     "end_time": "2019-11-11T08:55:48.402941Z",
     "start_time": "2019-11-11T08:55:48.397926Z"
    }
   },
   "source": [
    "### Data Cleaning on `Price`"
   ]
  },
  {
   "cell_type": "code",
   "execution_count": 42,
   "metadata": {
    "ExecuteTime": {
     "end_time": "2020-01-14T07:12:08.006547Z",
     "start_time": "2020-01-14T07:12:07.982628Z"
    }
   },
   "outputs": [
    {
     "data": {
      "text/html": [
       "<div>\n",
       "<style scoped>\n",
       "    .dataframe tbody tr th:only-of-type {\n",
       "        vertical-align: middle;\n",
       "    }\n",
       "\n",
       "    .dataframe tbody tr th {\n",
       "        vertical-align: top;\n",
       "    }\n",
       "\n",
       "    .dataframe thead th {\n",
       "        text-align: right;\n",
       "    }\n",
       "</style>\n",
       "<table border=\"1\" class=\"dataframe\">\n",
       "  <thead>\n",
       "    <tr style=\"text-align: right;\">\n",
       "      <th></th>\n",
       "      <th>Invoice</th>\n",
       "      <th>StockCode</th>\n",
       "      <th>Description</th>\n",
       "      <th>Quantity</th>\n",
       "      <th>Price</th>\n",
       "      <th>Customer ID</th>\n",
       "      <th>Country</th>\n",
       "    </tr>\n",
       "  </thead>\n",
       "  <tbody>\n",
       "  </tbody>\n",
       "</table>\n",
       "</div>"
      ],
      "text/plain": [
       "Empty DataFrame\n",
       "Columns: [Invoice, StockCode, Description, Quantity, Price, Customer ID, Country]\n",
       "Index: []"
      ]
     },
     "execution_count": 42,
     "metadata": {},
     "output_type": "execute_result"
    }
   ],
   "source": [
    "# Check for Negative Price\n",
    "sales_df.loc[sales_df['Price']<0,['Invoice','StockCode','Description','Quantity','Price','Customer ID','Country']]"
   ]
  },
  {
   "cell_type": "markdown",
   "metadata": {},
   "source": [
    "<font color=darkblue> There's no Price with Negative Value."
   ]
  },
  {
   "cell_type": "code",
   "execution_count": 43,
   "metadata": {
    "ExecuteTime": {
     "end_time": "2020-01-14T07:12:08.075365Z",
     "start_time": "2020-01-14T07:12:08.010587Z"
    }
   },
   "outputs": [
    {
     "name": "stdout",
     "output_type": "stream",
     "text": [
      "Number of rows with 51 valid CustomerID and zero pricing 70\n"
     ]
    },
    {
     "data": {
      "text/html": [
       "<div>\n",
       "<style scoped>\n",
       "    .dataframe tbody tr th:only-of-type {\n",
       "        vertical-align: middle;\n",
       "    }\n",
       "\n",
       "    .dataframe tbody tr th {\n",
       "        vertical-align: top;\n",
       "    }\n",
       "\n",
       "    .dataframe thead th {\n",
       "        text-align: right;\n",
       "    }\n",
       "</style>\n",
       "<table border=\"1\" class=\"dataframe\">\n",
       "  <thead>\n",
       "    <tr style=\"text-align: right;\">\n",
       "      <th></th>\n",
       "      <th>Invoice</th>\n",
       "      <th>StockCode</th>\n",
       "      <th>Description</th>\n",
       "      <th>Quantity</th>\n",
       "      <th>InvoiceDate</th>\n",
       "      <th>Price</th>\n",
       "      <th>Customer ID</th>\n",
       "      <th>Country</th>\n",
       "      <th>Inv_Date</th>\n",
       "      <th>Inv_Time</th>\n",
       "      <th>Yr</th>\n",
       "      <th>Month</th>\n",
       "      <th>MMYY</th>\n",
       "      <th>Inv_Pre</th>\n",
       "      <th>Stock_Pre</th>\n",
       "      <th>Stock_Suf</th>\n",
       "    </tr>\n",
       "  </thead>\n",
       "  <tbody>\n",
       "    <tr>\n",
       "      <th>1027583</th>\n",
       "      <td>578841</td>\n",
       "      <td>84826</td>\n",
       "      <td>ASSTD DESIGN 3D PAPER STICKERS</td>\n",
       "      <td>12540</td>\n",
       "      <td>2011-11-25 15:57:00</td>\n",
       "      <td>0.0</td>\n",
       "      <td>13256.0</td>\n",
       "      <td>United Kingdom</td>\n",
       "      <td>2011-11-25</td>\n",
       "      <td>15:57:00</td>\n",
       "      <td>2011</td>\n",
       "      <td>11</td>\n",
       "      <td>Nov 11</td>\n",
       "      <td>None</td>\n",
       "      <td>None</td>\n",
       "      <td>None</td>\n",
       "    </tr>\n",
       "    <tr>\n",
       "      <th>358820</th>\n",
       "      <td>524181</td>\n",
       "      <td>46000M</td>\n",
       "      <td>POLYESTER FILLER PAD 45x45cm</td>\n",
       "      <td>648</td>\n",
       "      <td>2010-09-27 16:59:00</td>\n",
       "      <td>0.0</td>\n",
       "      <td>17450.0</td>\n",
       "      <td>United Kingdom</td>\n",
       "      <td>2010-09-27</td>\n",
       "      <td>16:59:00</td>\n",
       "      <td>2010</td>\n",
       "      <td>9</td>\n",
       "      <td>Sep 10</td>\n",
       "      <td>None</td>\n",
       "      <td>None</td>\n",
       "      <td>M</td>\n",
       "    </tr>\n",
       "    <tr>\n",
       "      <th>823515</th>\n",
       "      <td>562973</td>\n",
       "      <td>23157</td>\n",
       "      <td>SET OF 6 NATIVITY MAGNETS</td>\n",
       "      <td>240</td>\n",
       "      <td>2011-08-11 11:42:00</td>\n",
       "      <td>0.0</td>\n",
       "      <td>14911.0</td>\n",
       "      <td>EIRE</td>\n",
       "      <td>2011-08-11</td>\n",
       "      <td>11:42:00</td>\n",
       "      <td>2011</td>\n",
       "      <td>8</td>\n",
       "      <td>Aug 11</td>\n",
       "      <td>None</td>\n",
       "      <td>None</td>\n",
       "      <td>None</td>\n",
       "    </tr>\n",
       "  </tbody>\n",
       "</table>\n",
       "</div>"
      ],
      "text/plain": [
       "        Invoice StockCode                     Description  Quantity  \\\n",
       "1027583  578841     84826  ASSTD DESIGN 3D PAPER STICKERS     12540   \n",
       "358820   524181    46000M    POLYESTER FILLER PAD 45x45cm       648   \n",
       "823515   562973     23157      SET OF 6 NATIVITY MAGNETS        240   \n",
       "\n",
       "                InvoiceDate  Price  Customer ID         Country    Inv_Date  \\\n",
       "1027583 2011-11-25 15:57:00    0.0      13256.0  United Kingdom  2011-11-25   \n",
       "358820  2010-09-27 16:59:00    0.0      17450.0  United Kingdom  2010-09-27   \n",
       "823515  2011-08-11 11:42:00    0.0      14911.0            EIRE  2011-08-11   \n",
       "\n",
       "         Inv_Time    Yr  Month    MMYY Inv_Pre Stock_Pre Stock_Suf  \n",
       "1027583  15:57:00  2011     11  Nov 11    None      None      None  \n",
       "358820   16:59:00  2010      9  Sep 10    None      None         M  \n",
       "823515   11:42:00  2011      8  Aug 11    None      None      None  "
      ]
     },
     "execution_count": 43,
     "metadata": {},
     "output_type": "execute_result"
    }
   ],
   "source": [
    "# Check price=0.0 and customer isnot null\n",
    "price=sales_df[(sales_df['Price']==0.0)& (sales_df['Customer ID'].notnull())]\n",
    "print('Number of rows with',price['Customer ID'].nunique(),'valid CustomerID and zero pricing',len(price))\n",
    "price.sort_values(by='Quantity',ascending=False).head(3)"
   ]
  },
  {
   "cell_type": "markdown",
   "metadata": {
    "ExecuteTime": {
     "end_time": "2019-11-11T13:48:54.387230Z",
     "start_time": "2019-11-11T13:48:54.378096Z"
    }
   },
   "source": [
    "<font color=darkblue> There are 70 rows of transaction with '0.0' Price.<br>\n",
    "These 70 rows of transaction with '0.0' pricing might be FOC items for csutomers.<br>\n",
    "It doesn't contribute information on what item has each Customer with ID has bought.<br>\n",
    "Thus these 70 rows of information with 51 unique Customer ID will be dropped."
   ]
  },
  {
   "cell_type": "code",
   "execution_count": 44,
   "metadata": {
    "ExecuteTime": {
     "end_time": "2020-01-14T07:12:08.890185Z",
     "start_time": "2020-01-14T07:12:08.080358Z"
    }
   },
   "outputs": [
    {
     "name": "stdout",
     "output_type": "stream",
     "text": [
      "sales_df shape: (779425, 16)\n",
      "Number of Unique Invoice:  36969\n",
      "Number of Unique StockCode:  4631\n",
      "Number of Unique Item Description:  5283\n",
      "Number of Unique Item Customer:  5878\n",
      "Number of Unique Country:  41\n"
     ]
    }
   ],
   "source": [
    "# in sales_df :Drop Price='0.0'\n",
    "sales_df=sales_df.drop(sales_df[(sales_df['Price']==0.0)].index)\n",
    "\n",
    "print('sales_df shape:',sales_df.shape)\n",
    "print('Number of Unique Invoice: ',sales_df['Invoice'].nunique())\n",
    "print('Number of Unique StockCode: ',sales_df['StockCode'].nunique())\n",
    "print('Number of Unique Item Description: ',sales_df['Description'].nunique())\n",
    "print('Number of Unique Item Customer: ',sales_df['Customer ID'].nunique())\n",
    "print('Number of Unique Country: ',sales_df['Country'].nunique())"
   ]
  },
  {
   "cell_type": "markdown",
   "metadata": {},
   "source": [
    "### Clean Data on `Quantity`"
   ]
  },
  {
   "cell_type": "code",
   "execution_count": 45,
   "metadata": {
    "ExecuteTime": {
     "end_time": "2020-01-14T07:12:08.913124Z",
     "start_time": "2020-01-14T07:12:08.895279Z"
    }
   },
   "outputs": [
    {
     "data": {
      "text/plain": [
       "Series([], Name: Inv_Pre, dtype: object)"
      ]
     },
     "execution_count": 45,
     "metadata": {},
     "output_type": "execute_result"
    }
   ],
   "source": [
    "negative_qty=sales_df.loc[sales_df['Quantity']<0,'Inv_Pre']\n",
    "negative_qty"
   ]
  },
  {
   "cell_type": "markdown",
   "metadata": {},
   "source": [
    "<font color=darkblue> There's no Quantity with Negative Value."
   ]
  },
  {
   "cell_type": "markdown",
   "metadata": {},
   "source": [
    "### Clean Data on`Description`"
   ]
  },
  {
   "cell_type": "code",
   "execution_count": 46,
   "metadata": {
    "ExecuteTime": {
     "end_time": "2020-01-14T07:12:09.027011Z",
     "start_time": "2020-01-14T07:12:08.918113Z"
    }
   },
   "outputs": [
    {
     "data": {
      "text/html": [
       "<div>\n",
       "<style scoped>\n",
       "    .dataframe tbody tr th:only-of-type {\n",
       "        vertical-align: middle;\n",
       "    }\n",
       "\n",
       "    .dataframe tbody tr th {\n",
       "        vertical-align: top;\n",
       "    }\n",
       "\n",
       "    .dataframe thead th {\n",
       "        text-align: right;\n",
       "    }\n",
       "</style>\n",
       "<table border=\"1\" class=\"dataframe\">\n",
       "  <thead>\n",
       "    <tr style=\"text-align: right;\">\n",
       "      <th></th>\n",
       "      <th>Invoice</th>\n",
       "      <th>StockCode</th>\n",
       "      <th>Description</th>\n",
       "      <th>Quantity</th>\n",
       "      <th>InvoiceDate</th>\n",
       "      <th>Price</th>\n",
       "      <th>Customer ID</th>\n",
       "      <th>Country</th>\n",
       "      <th>Inv_Date</th>\n",
       "      <th>Inv_Time</th>\n",
       "      <th>Yr</th>\n",
       "      <th>Month</th>\n",
       "      <th>MMYY</th>\n",
       "      <th>Inv_Pre</th>\n",
       "      <th>Stock_Pre</th>\n",
       "      <th>Stock_Suf</th>\n",
       "    </tr>\n",
       "  </thead>\n",
       "  <tbody>\n",
       "  </tbody>\n",
       "</table>\n",
       "</div>"
      ],
      "text/plain": [
       "Empty DataFrame\n",
       "Columns: [Invoice, StockCode, Description, Quantity, InvoiceDate, Price, Customer ID, Country, Inv_Date, Inv_Time, Yr, Month, MMYY, Inv_Pre, Stock_Pre, Stock_Suf]\n",
       "Index: []"
      ]
     },
     "execution_count": 46,
     "metadata": {},
     "output_type": "execute_result"
    }
   ],
   "source": [
    "sales_df[sales_df['Description'].isnull()]"
   ]
  },
  {
   "cell_type": "markdown",
   "metadata": {},
   "source": [
    "### Clean Data on`StockCode` with multiple `Description` and create a StockMasterFile"
   ]
  },
  {
   "cell_type": "code",
   "execution_count": 47,
   "metadata": {
    "ExecuteTime": {
     "end_time": "2020-01-14T07:12:09.194372Z",
     "start_time": "2020-01-14T07:12:09.083001Z"
    }
   },
   "outputs": [
    {
     "data": {
      "text/html": [
       "<div>\n",
       "<style scoped>\n",
       "    .dataframe tbody tr th:only-of-type {\n",
       "        vertical-align: middle;\n",
       "    }\n",
       "\n",
       "    .dataframe tbody tr th {\n",
       "        vertical-align: top;\n",
       "    }\n",
       "\n",
       "    .dataframe thead th {\n",
       "        text-align: right;\n",
       "    }\n",
       "</style>\n",
       "<table border=\"1\" class=\"dataframe\">\n",
       "  <thead>\n",
       "    <tr style=\"text-align: right;\">\n",
       "      <th></th>\n",
       "      <th>Invoice</th>\n",
       "      <th>StockCode</th>\n",
       "      <th>Description</th>\n",
       "      <th>Quantity</th>\n",
       "      <th>InvoiceDate</th>\n",
       "      <th>Price</th>\n",
       "      <th>Customer ID</th>\n",
       "      <th>Country</th>\n",
       "      <th>Inv_Date</th>\n",
       "      <th>Inv_Time</th>\n",
       "      <th>Yr</th>\n",
       "      <th>Month</th>\n",
       "      <th>MMYY</th>\n",
       "      <th>Inv_Pre</th>\n",
       "      <th>Stock_Pre</th>\n",
       "      <th>Stock_Suf</th>\n",
       "    </tr>\n",
       "  </thead>\n",
       "  <tbody>\n",
       "  </tbody>\n",
       "</table>\n",
       "</div>"
      ],
      "text/plain": [
       "Empty DataFrame\n",
       "Columns: [Invoice, StockCode, Description, Quantity, InvoiceDate, Price, Customer ID, Country, Inv_Date, Inv_Time, Yr, Month, MMYY, Inv_Pre, Stock_Pre, Stock_Suf]\n",
       "Index: []"
      ]
     },
     "execution_count": 47,
     "metadata": {},
     "output_type": "execute_result"
    }
   ],
   "source": [
    "sales_df[sales_df['StockCode'].isnull()]"
   ]
  },
  {
   "cell_type": "code",
   "execution_count": 48,
   "metadata": {
    "ExecuteTime": {
     "end_time": "2020-01-14T07:12:26.196810Z",
     "start_time": "2020-01-14T07:12:09.199510Z"
    }
   },
   "outputs": [
    {
     "name": "stdout",
     "output_type": "stream",
     "text": [
      "Total Number of unique Stock Code: 4631\n"
     ]
    },
    {
     "data": {
      "text/html": [
       "<div>\n",
       "<style scoped>\n",
       "    .dataframe tbody tr th:only-of-type {\n",
       "        vertical-align: middle;\n",
       "    }\n",
       "\n",
       "    .dataframe tbody tr th {\n",
       "        vertical-align: top;\n",
       "    }\n",
       "\n",
       "    .dataframe thead th {\n",
       "        text-align: right;\n",
       "    }\n",
       "</style>\n",
       "<table border=\"1\" class=\"dataframe\">\n",
       "  <thead>\n",
       "    <tr style=\"text-align: right;\">\n",
       "      <th></th>\n",
       "      <th>StockCode</th>\n",
       "      <th>Inv_Count</th>\n",
       "      <th>Customer_Count</th>\n",
       "      <th>Country</th>\n",
       "      <th>Total_Qty</th>\n",
       "      <th>Number_of_Item_Types</th>\n",
       "      <th>Unique_Description</th>\n",
       "      <th>Total_Unit_Item_Price</th>\n",
       "      <th>UniquePrice_Count</th>\n",
       "      <th>UniquePrice</th>\n",
       "    </tr>\n",
       "  </thead>\n",
       "  <tbody>\n",
       "    <tr>\n",
       "      <th>0</th>\n",
       "      <td>10002</td>\n",
       "      <td>297</td>\n",
       "      <td>164.0</td>\n",
       "      <td>12</td>\n",
       "      <td>8479</td>\n",
       "      <td>1</td>\n",
       "      <td>[INFLATABLE POLITICAL GLOBE ]</td>\n",
       "      <td>254.0</td>\n",
       "      <td>2.0</td>\n",
       "      <td>[0.85, 0.72]</td>\n",
       "    </tr>\n",
       "    <tr>\n",
       "      <th>1</th>\n",
       "      <td>10080</td>\n",
       "      <td>26</td>\n",
       "      <td>23.0</td>\n",
       "      <td>1</td>\n",
       "      <td>303</td>\n",
       "      <td>1</td>\n",
       "      <td>[GROOVY CACTUS INFLATABLE]</td>\n",
       "      <td>13.8</td>\n",
       "      <td>2.0</td>\n",
       "      <td>[0.85, 0.39]</td>\n",
       "    </tr>\n",
       "    <tr>\n",
       "      <th>2</th>\n",
       "      <td>10109</td>\n",
       "      <td>1</td>\n",
       "      <td>1.0</td>\n",
       "      <td>1</td>\n",
       "      <td>4</td>\n",
       "      <td>1</td>\n",
       "      <td>[BENDY COLOUR PENCILS]</td>\n",
       "      <td>0.4</td>\n",
       "      <td>1.0</td>\n",
       "      <td>[0.42]</td>\n",
       "    </tr>\n",
       "  </tbody>\n",
       "</table>\n",
       "</div>"
      ],
      "text/plain": [
       "  StockCode  Inv_Count  Customer_Count  Country  Total_Qty  \\\n",
       "0     10002        297           164.0       12       8479   \n",
       "1     10080         26            23.0        1        303   \n",
       "2     10109          1             1.0        1          4   \n",
       "\n",
       "   Number_of_Item_Types             Unique_Description  Total_Unit_Item_Price  \\\n",
       "0                     1  [INFLATABLE POLITICAL GLOBE ]                  254.0   \n",
       "1                     1     [GROOVY CACTUS INFLATABLE]                   13.8   \n",
       "2                     1         [BENDY COLOUR PENCILS]                    0.4   \n",
       "\n",
       "   UniquePrice_Count   UniquePrice  \n",
       "0                2.0  [0.85, 0.72]  \n",
       "1                2.0  [0.85, 0.39]  \n",
       "2                1.0        [0.42]  "
      ]
     },
     "execution_count": 48,
     "metadata": {},
     "output_type": "execute_result"
    }
   ],
   "source": [
    "sales_df['Desc']=sales_df['Description']\n",
    "sales_df['Price2']=sales_df['Price']\n",
    "sales_df['Price3']=sales_df['Price']\n",
    "# Groupby 'StockCode' to check on which Stock code has more than 1 description \n",
    "stockcode=sales_df.groupby('StockCode').agg({\n",
    "                                            'Invoice':pd.Series.nunique,\n",
    "                                            'Customer ID':pd.Series.nunique,\n",
    "                                            'Country':pd.Series.nunique,\n",
    "                                            'Quantity':'sum',\n",
    "                                            'Description':pd.Series.nunique,\n",
    "                                            'Desc':'unique',\n",
    "                                            'Price':'sum',\n",
    "                                            'Price2':pd.Series.nunique,\n",
    "                                            'Price3':'unique'})\n",
    "stockcode.rename(columns={'Invoice':'Inv_Count','Customer ID':'Customer_Count','Quantity':'Total_Qty','Description':'Number_of_Item_Types','Desc':'Unique_Description','Price':'Total_Unit_Item_Price','Price2':'UniquePrice_Count','Price3':'UniquePrice'},inplace=True)\n",
    "\n",
    "stockcode.reset_index(inplace= True)\n",
    "print('Total Number of unique Stock Code:',len(stockcode))\n",
    "stockcode.head(3)"
   ]
  },
  {
   "cell_type": "code",
   "execution_count": 49,
   "metadata": {
    "ExecuteTime": {
     "end_time": "2020-01-14T07:12:26.418222Z",
     "start_time": "2020-01-14T07:12:26.201860Z"
    }
   },
   "outputs": [
    {
     "name": "stdout",
     "output_type": "stream",
     "text": [
      "There are  624 stock codes with multiple description\n"
     ]
    },
    {
     "name": "stderr",
     "output_type": "stream",
     "text": [
      "C:\\Users\\User\\Anaconda3\\lib\\site-packages\\ipykernel_launcher.py:2: SettingWithCopyWarning: \n",
      "A value is trying to be set on a copy of a slice from a DataFrame\n",
      "\n",
      "See the caveats in the documentation: http://pandas.pydata.org/pandas-docs/stable/indexing.html#indexing-view-versus-copy\n",
      "  \n"
     ]
    },
    {
     "data": {
      "text/html": [
       "<div>\n",
       "<style scoped>\n",
       "    .dataframe tbody tr th:only-of-type {\n",
       "        vertical-align: middle;\n",
       "    }\n",
       "\n",
       "    .dataframe tbody tr th {\n",
       "        vertical-align: top;\n",
       "    }\n",
       "\n",
       "    .dataframe thead th {\n",
       "        text-align: right;\n",
       "    }\n",
       "</style>\n",
       "<table border=\"1\" class=\"dataframe\">\n",
       "  <thead>\n",
       "    <tr style=\"text-align: right;\">\n",
       "      <th></th>\n",
       "      <th>StockCode</th>\n",
       "      <th>Inv_Count</th>\n",
       "      <th>Customer_Count</th>\n",
       "      <th>Country</th>\n",
       "      <th>Total_Qty</th>\n",
       "      <th>Number_of_Item_Types</th>\n",
       "      <th>Unique_Description</th>\n",
       "      <th>Total_Unit_Item_Price</th>\n",
       "      <th>UniquePrice_Count</th>\n",
       "      <th>UniquePrice</th>\n",
       "    </tr>\n",
       "  </thead>\n",
       "  <tbody>\n",
       "    <tr>\n",
       "      <th>219</th>\n",
       "      <td>20685</td>\n",
       "      <td>1478</td>\n",
       "      <td>626.0</td>\n",
       "      <td>19</td>\n",
       "      <td>9364</td>\n",
       "      <td>4</td>\n",
       "      <td>[RED SPOTTY COIR DOORMAT, DOOR MAT RED SPOT, D...</td>\n",
       "      <td>10966.0</td>\n",
       "      <td>12.0</td>\n",
       "      <td>[6.75, 5.95, 4.0, 7.49, 6.35, 4.58, 7.95, 7.35...</td>\n",
       "    </tr>\n",
       "    <tr>\n",
       "      <th>1212</th>\n",
       "      <td>21955</td>\n",
       "      <td>576</td>\n",
       "      <td>279.0</td>\n",
       "      <td>9</td>\n",
       "      <td>3717</td>\n",
       "      <td>4</td>\n",
       "      <td>[UNION JACK GUNS &amp; ROSES  DOORMAT,   DOORMAT U...</td>\n",
       "      <td>4221.1</td>\n",
       "      <td>10.0</td>\n",
       "      <td>[6.75, 5.95, 4.0, 7.49, 6.35, 4.58, 7.95, 8.0,...</td>\n",
       "    </tr>\n",
       "    <tr>\n",
       "      <th>1540</th>\n",
       "      <td>22344</td>\n",
       "      <td>84</td>\n",
       "      <td>65.0</td>\n",
       "      <td>11</td>\n",
       "      <td>1344</td>\n",
       "      <td>4</td>\n",
       "      <td>[PARTY PIZZA DISH PINK+WHITE SPOT , PARTY PIZZ...</td>\n",
       "      <td>59.3</td>\n",
       "      <td>4.0</td>\n",
       "      <td>[0.85, 0.21, 1.63, 0.19]</td>\n",
       "    </tr>\n",
       "  </tbody>\n",
       "</table>\n",
       "</div>"
      ],
      "text/plain": [
       "     StockCode  Inv_Count  Customer_Count  Country  Total_Qty  \\\n",
       "219      20685       1478           626.0       19       9364   \n",
       "1212     21955        576           279.0        9       3717   \n",
       "1540     22344         84            65.0       11       1344   \n",
       "\n",
       "      Number_of_Item_Types                                 Unique_Description  \\\n",
       "219                      4  [RED SPOTTY COIR DOORMAT, DOOR MAT RED SPOT, D...   \n",
       "1212                     4  [UNION JACK GUNS & ROSES  DOORMAT,   DOORMAT U...   \n",
       "1540                     4  [PARTY PIZZA DISH PINK+WHITE SPOT , PARTY PIZZ...   \n",
       "\n",
       "      Total_Unit_Item_Price  UniquePrice_Count  \\\n",
       "219                 10966.0               12.0   \n",
       "1212                 4221.1               10.0   \n",
       "1540                   59.3                4.0   \n",
       "\n",
       "                                            UniquePrice  \n",
       "219   [6.75, 5.95, 4.0, 7.49, 6.35, 4.58, 7.95, 7.35...  \n",
       "1212  [6.75, 5.95, 4.0, 7.49, 6.35, 4.58, 7.95, 8.0,...  \n",
       "1540                           [0.85, 0.21, 1.63, 0.19]  "
      ]
     },
     "execution_count": 49,
     "metadata": {},
     "output_type": "execute_result"
    }
   ],
   "source": [
    "stockcode_multiple_description=stockcode.loc[stockcode['Number_of_Item_Types']>1]\n",
    "stockcode_multiple_description.sort_values(by=['Number_of_Item_Types','StockCode'],ascending=([False,True]),inplace=True)\n",
    "print('There are ',len(stockcode_multiple_description),'stock codes with multiple description')\n",
    "stockcode_multiple_description.head(3)"
   ]
  },
  {
   "cell_type": "code",
   "execution_count": 50,
   "metadata": {
    "ExecuteTime": {
     "end_time": "2020-01-14T07:12:26.452129Z",
     "start_time": "2020-01-14T07:12:26.423208Z"
    }
   },
   "outputs": [
    {
     "name": "stdout",
     "output_type": "stream",
     "text": [
      "There are  4631 unique stockcode\n"
     ]
    },
    {
     "data": {
      "text/html": [
       "<div>\n",
       "<style scoped>\n",
       "    .dataframe tbody tr th:only-of-type {\n",
       "        vertical-align: middle;\n",
       "    }\n",
       "\n",
       "    .dataframe tbody tr th {\n",
       "        vertical-align: top;\n",
       "    }\n",
       "\n",
       "    .dataframe thead th {\n",
       "        text-align: right;\n",
       "    }\n",
       "</style>\n",
       "<table border=\"1\" class=\"dataframe\">\n",
       "  <thead>\n",
       "    <tr style=\"text-align: right;\">\n",
       "      <th></th>\n",
       "      <th>StockCode</th>\n",
       "      <th>Number_of_Item_Types</th>\n",
       "      <th>Unique_Description</th>\n",
       "    </tr>\n",
       "  </thead>\n",
       "  <tbody>\n",
       "    <tr>\n",
       "      <th>2393</th>\n",
       "      <td>23236</td>\n",
       "      <td>4</td>\n",
       "      <td>[DOILEY STORAGE TIN, DOILEY BISCUIT TIN, STORA...</td>\n",
       "    </tr>\n",
       "    <tr>\n",
       "      <th>2353</th>\n",
       "      <td>23196</td>\n",
       "      <td>4</td>\n",
       "      <td>[RETRO LEAVES MAGNETIC NOTEPAD, RETO LEAVES MA...</td>\n",
       "    </tr>\n",
       "    <tr>\n",
       "      <th>1212</th>\n",
       "      <td>21955</td>\n",
       "      <td>4</td>\n",
       "      <td>[UNION JACK GUNS &amp; ROSES  DOORMAT,   DOORMAT U...</td>\n",
       "    </tr>\n",
       "    <tr>\n",
       "      <th>1542</th>\n",
       "      <td>22346</td>\n",
       "      <td>4</td>\n",
       "      <td>[PARTY PIZZA DISH GREEN+WHITE SPOT , PARTY PIZ...</td>\n",
       "    </tr>\n",
       "    <tr>\n",
       "      <th>219</th>\n",
       "      <td>20685</td>\n",
       "      <td>4</td>\n",
       "      <td>[RED SPOTTY COIR DOORMAT, DOOR MAT RED SPOT, D...</td>\n",
       "    </tr>\n",
       "  </tbody>\n",
       "</table>\n",
       "</div>"
      ],
      "text/plain": [
       "     StockCode  Number_of_Item_Types  \\\n",
       "2393     23236                     4   \n",
       "2353     23196                     4   \n",
       "1212     21955                     4   \n",
       "1542     22346                     4   \n",
       "219      20685                     4   \n",
       "\n",
       "                                     Unique_Description  \n",
       "2393  [DOILEY STORAGE TIN, DOILEY BISCUIT TIN, STORA...  \n",
       "2353  [RETRO LEAVES MAGNETIC NOTEPAD, RETO LEAVES MA...  \n",
       "1212  [UNION JACK GUNS & ROSES  DOORMAT,   DOORMAT U...  \n",
       "1542  [PARTY PIZZA DISH GREEN+WHITE SPOT , PARTY PIZ...  \n",
       "219   [RED SPOTTY COIR DOORMAT, DOOR MAT RED SPOT, D...  "
      ]
     },
     "execution_count": 50,
     "metadata": {},
     "output_type": "execute_result"
    }
   ],
   "source": [
    "# Creating a Stock Master File\n",
    "stockmaster_df=stockcode[['StockCode','Number_of_Item_Types','Unique_Description']].copy()\n",
    "print('There are ',len(stockmaster_df),'unique stockcode')\n",
    "stockmaster_df.sort_values(by='Number_of_Item_Types',ascending=False).head()"
   ]
  },
  {
   "cell_type": "code",
   "execution_count": 51,
   "metadata": {
    "ExecuteTime": {
     "end_time": "2020-01-14T07:12:26.500028Z",
     "start_time": "2020-01-14T07:12:26.457301Z"
    }
   },
   "outputs": [
    {
     "name": "stdout",
     "output_type": "stream",
     "text": [
      "There are  4631 unique stockcode\n"
     ]
    },
    {
     "data": {
      "text/html": [
       "<div>\n",
       "<style scoped>\n",
       "    .dataframe tbody tr th:only-of-type {\n",
       "        vertical-align: middle;\n",
       "    }\n",
       "\n",
       "    .dataframe tbody tr th {\n",
       "        vertical-align: top;\n",
       "    }\n",
       "\n",
       "    .dataframe thead th {\n",
       "        text-align: right;\n",
       "    }\n",
       "</style>\n",
       "<table border=\"1\" class=\"dataframe\">\n",
       "  <thead>\n",
       "    <tr style=\"text-align: right;\">\n",
       "      <th></th>\n",
       "      <th>0</th>\n",
       "      <th>1</th>\n",
       "      <th>2</th>\n",
       "      <th>3</th>\n",
       "    </tr>\n",
       "  </thead>\n",
       "  <tbody>\n",
       "    <tr>\n",
       "      <th>0</th>\n",
       "      <td>INFLATABLE POLITICAL GLOBE</td>\n",
       "      <td>None</td>\n",
       "      <td>None</td>\n",
       "      <td>None</td>\n",
       "    </tr>\n",
       "    <tr>\n",
       "      <th>1</th>\n",
       "      <td>GROOVY CACTUS INFLATABLE</td>\n",
       "      <td>None</td>\n",
       "      <td>None</td>\n",
       "      <td>None</td>\n",
       "    </tr>\n",
       "    <tr>\n",
       "      <th>2</th>\n",
       "      <td>BENDY COLOUR PENCILS</td>\n",
       "      <td>None</td>\n",
       "      <td>None</td>\n",
       "      <td>None</td>\n",
       "    </tr>\n",
       "    <tr>\n",
       "      <th>3</th>\n",
       "      <td>DOGGY RUBBER</td>\n",
       "      <td>None</td>\n",
       "      <td>None</td>\n",
       "      <td>None</td>\n",
       "    </tr>\n",
       "    <tr>\n",
       "      <th>4</th>\n",
       "      <td>HEARTS WRAPPING TAPE</td>\n",
       "      <td>None</td>\n",
       "      <td>None</td>\n",
       "      <td>None</td>\n",
       "    </tr>\n",
       "  </tbody>\n",
       "</table>\n",
       "</div>"
      ],
      "text/plain": [
       "                             0     1     2     3\n",
       "0  INFLATABLE POLITICAL GLOBE   None  None  None\n",
       "1     GROOVY CACTUS INFLATABLE  None  None  None\n",
       "2         BENDY COLOUR PENCILS  None  None  None\n",
       "3                 DOGGY RUBBER  None  None  None\n",
       "4        HEARTS WRAPPING TAPE   None  None  None"
      ]
     },
     "execution_count": 51,
     "metadata": {},
     "output_type": "execute_result"
    }
   ],
   "source": [
    "desctemp= pd.DataFrame(stockmaster_df['Unique_Description'].tolist())\n",
    "print('There are ',len(desctemp),'unique stockcode')\n",
    "desctemp.head()"
   ]
  },
  {
   "cell_type": "code",
   "execution_count": 52,
   "metadata": {
    "ExecuteTime": {
     "end_time": "2020-01-14T07:12:26.567819Z",
     "start_time": "2020-01-14T07:12:26.504988Z"
    }
   },
   "outputs": [
    {
     "name": "stdout",
     "output_type": "stream",
     "text": [
      "There are  4631 unique stockcode\n"
     ]
    },
    {
     "data": {
      "text/html": [
       "<div>\n",
       "<style scoped>\n",
       "    .dataframe tbody tr th:only-of-type {\n",
       "        vertical-align: middle;\n",
       "    }\n",
       "\n",
       "    .dataframe tbody tr th {\n",
       "        vertical-align: top;\n",
       "    }\n",
       "\n",
       "    .dataframe thead th {\n",
       "        text-align: right;\n",
       "    }\n",
       "</style>\n",
       "<table border=\"1\" class=\"dataframe\">\n",
       "  <thead>\n",
       "    <tr style=\"text-align: right;\">\n",
       "      <th></th>\n",
       "      <th>StockCode</th>\n",
       "      <th>Number_of_Item_Types</th>\n",
       "      <th>Unique_Description</th>\n",
       "      <th>Desc1</th>\n",
       "      <th>Desc2</th>\n",
       "      <th>Desc3</th>\n",
       "      <th>Desc4</th>\n",
       "      <th>Item Description</th>\n",
       "    </tr>\n",
       "  </thead>\n",
       "  <tbody>\n",
       "    <tr>\n",
       "      <th>2393</th>\n",
       "      <td>23236</td>\n",
       "      <td>4</td>\n",
       "      <td>[DOILEY STORAGE TIN, DOILEY BISCUIT TIN, STORA...</td>\n",
       "      <td>DOILEY STORAGE TIN</td>\n",
       "      <td>DOILEY BISCUIT TIN</td>\n",
       "      <td>STORAGE TIN VINTAGE DOILY</td>\n",
       "      <td>STORAGE TIN VINTAGE DOILEY</td>\n",
       "      <td>DOILEY STORAGE TIN</td>\n",
       "    </tr>\n",
       "    <tr>\n",
       "      <th>2353</th>\n",
       "      <td>23196</td>\n",
       "      <td>4</td>\n",
       "      <td>[RETRO LEAVES MAGNETIC NOTEPAD, RETO LEAVES MA...</td>\n",
       "      <td>RETRO LEAVES MAGNETIC NOTEPAD</td>\n",
       "      <td>RETO LEAVES MAGNETIC SHOPPING LIST</td>\n",
       "      <td>LEAVES MAGNETIC  SHOPPING LIST</td>\n",
       "      <td>VINTAGE LEAF MAGNETIC NOTEPAD</td>\n",
       "      <td>RETRO LEAVES MAGNETIC NOTEPAD</td>\n",
       "    </tr>\n",
       "    <tr>\n",
       "      <th>1212</th>\n",
       "      <td>21955</td>\n",
       "      <td>4</td>\n",
       "      <td>[UNION JACK GUNS &amp; ROSES  DOORMAT,   DOORMAT U...</td>\n",
       "      <td>UNION JACK GUNS &amp; ROSES  DOORMAT</td>\n",
       "      <td>DOORMAT UNION JACK GUNS AND ROSES</td>\n",
       "      <td>DOOR MAT UNION JACK GUNS AND ROSES</td>\n",
       "      <td>DOORMAT UNION JACK GUNS AND ROSES</td>\n",
       "      <td>UNION JACK GUNS &amp; ROSES  DOORMAT</td>\n",
       "    </tr>\n",
       "    <tr>\n",
       "      <th>1542</th>\n",
       "      <td>22346</td>\n",
       "      <td>4</td>\n",
       "      <td>[PARTY PIZZA DISH GREEN+WHITE SPOT , PARTY PIZ...</td>\n",
       "      <td>PARTY PIZZA DISH GREEN+WHITE SPOT</td>\n",
       "      <td>PARTY PIZZA DISH GREEN WHITE SPOT</td>\n",
       "      <td>PARTY PIZZA DISH GREEN RETROSPOT</td>\n",
       "      <td>PARTY PIZZA DISH GREEN POLKADOT</td>\n",
       "      <td>PARTY PIZZA DISH GREEN+WHITE SPOT</td>\n",
       "    </tr>\n",
       "    <tr>\n",
       "      <th>219</th>\n",
       "      <td>20685</td>\n",
       "      <td>4</td>\n",
       "      <td>[RED SPOTTY COIR DOORMAT, DOOR MAT RED SPOT, D...</td>\n",
       "      <td>RED SPOTTY COIR DOORMAT</td>\n",
       "      <td>DOOR MAT RED SPOT</td>\n",
       "      <td>DOORMAT RED SPOT</td>\n",
       "      <td>DOORMAT RED RETROSPOT</td>\n",
       "      <td>RED SPOTTY COIR DOORMAT</td>\n",
       "    </tr>\n",
       "  </tbody>\n",
       "</table>\n",
       "</div>"
      ],
      "text/plain": [
       "     StockCode  Number_of_Item_Types  \\\n",
       "2393     23236                     4   \n",
       "2353     23196                     4   \n",
       "1212     21955                     4   \n",
       "1542     22346                     4   \n",
       "219      20685                     4   \n",
       "\n",
       "                                     Unique_Description  \\\n",
       "2393  [DOILEY STORAGE TIN, DOILEY BISCUIT TIN, STORA...   \n",
       "2353  [RETRO LEAVES MAGNETIC NOTEPAD, RETO LEAVES MA...   \n",
       "1212  [UNION JACK GUNS & ROSES  DOORMAT,   DOORMAT U...   \n",
       "1542  [PARTY PIZZA DISH GREEN+WHITE SPOT , PARTY PIZ...   \n",
       "219   [RED SPOTTY COIR DOORMAT, DOOR MAT RED SPOT, D...   \n",
       "\n",
       "                                   Desc1                                Desc2  \\\n",
       "2393                  DOILEY STORAGE TIN                   DOILEY BISCUIT TIN   \n",
       "2353       RETRO LEAVES MAGNETIC NOTEPAD   RETO LEAVES MAGNETIC SHOPPING LIST   \n",
       "1212    UNION JACK GUNS & ROSES  DOORMAT    DOORMAT UNION JACK GUNS AND ROSES   \n",
       "1542  PARTY PIZZA DISH GREEN+WHITE SPOT    PARTY PIZZA DISH GREEN WHITE SPOT    \n",
       "219              RED SPOTTY COIR DOORMAT                    DOOR MAT RED SPOT   \n",
       "\n",
       "                                   Desc3                              Desc4  \\\n",
       "2393          STORAGE TIN VINTAGE DOILY         STORAGE TIN VINTAGE DOILEY    \n",
       "2353      LEAVES MAGNETIC  SHOPPING LIST      VINTAGE LEAF MAGNETIC NOTEPAD   \n",
       "1212  DOOR MAT UNION JACK GUNS AND ROSES  DOORMAT UNION JACK GUNS AND ROSES   \n",
       "1542    PARTY PIZZA DISH GREEN RETROSPOT    PARTY PIZZA DISH GREEN POLKADOT   \n",
       "219                     DOORMAT RED SPOT              DOORMAT RED RETROSPOT   \n",
       "\n",
       "                        Item Description  \n",
       "2393                  DOILEY STORAGE TIN  \n",
       "2353       RETRO LEAVES MAGNETIC NOTEPAD  \n",
       "1212    UNION JACK GUNS & ROSES  DOORMAT  \n",
       "1542  PARTY PIZZA DISH GREEN+WHITE SPOT   \n",
       "219              RED SPOTTY COIR DOORMAT  "
      ]
     },
     "execution_count": 52,
     "metadata": {},
     "output_type": "execute_result"
    }
   ],
   "source": [
    "# Add the multiple description into data frame stockmaster_df\n",
    "desc1=list(desctemp[0])\n",
    "desc2=list(desctemp[1])\n",
    "desc3=list(desctemp[2])\n",
    "desc4=list(desctemp[3])\n",
    "\n",
    "\n",
    "stockmaster_df['Desc1']=desc1\n",
    "stockmaster_df['Desc2']=desc2\n",
    "stockmaster_df['Desc3']=desc3\n",
    "stockmaster_df['Desc4']=desc4\n",
    "\n",
    "\n",
    "# taking the first description as item description to standardize stock description for all stock codes\n",
    "stockmaster_df['Item Description']=stockmaster_df['Desc1']\n",
    "stockmaster_df.sort_values(by='Number_of_Item_Types',ascending=False,inplace=True)\n",
    "print('There are ',len(stockmaster_df),'unique stockcode')\n",
    "stockmaster_df.head(5)"
   ]
  },
  {
   "cell_type": "markdown",
   "metadata": {},
   "source": [
    "### StockCode with Multiple Pricing"
   ]
  },
  {
   "cell_type": "code",
   "execution_count": 53,
   "metadata": {
    "ExecuteTime": {
     "end_time": "2020-01-14T07:12:26.608714Z",
     "start_time": "2020-01-14T07:12:26.571809Z"
    }
   },
   "outputs": [
    {
     "data": {
      "text/html": [
       "<div>\n",
       "<style scoped>\n",
       "    .dataframe tbody tr th:only-of-type {\n",
       "        vertical-align: middle;\n",
       "    }\n",
       "\n",
       "    .dataframe tbody tr th {\n",
       "        vertical-align: top;\n",
       "    }\n",
       "\n",
       "    .dataframe thead th {\n",
       "        text-align: right;\n",
       "    }\n",
       "</style>\n",
       "<table border=\"1\" class=\"dataframe\">\n",
       "  <thead>\n",
       "    <tr style=\"text-align: right;\">\n",
       "      <th></th>\n",
       "      <th>StockCode</th>\n",
       "      <th>Inv_Count</th>\n",
       "      <th>Customer_Count</th>\n",
       "      <th>Country</th>\n",
       "      <th>Total_Qty</th>\n",
       "      <th>Number_of_Item_Types</th>\n",
       "      <th>Unique_Description</th>\n",
       "      <th>Total_Unit_Item_Price</th>\n",
       "      <th>UniquePrice_Count</th>\n",
       "      <th>UniquePrice</th>\n",
       "    </tr>\n",
       "  </thead>\n",
       "  <tbody>\n",
       "    <tr>\n",
       "      <th>4625</th>\n",
       "      <td>M</td>\n",
       "      <td>620</td>\n",
       "      <td>438.0</td>\n",
       "      <td>19</td>\n",
       "      <td>9384</td>\n",
       "      <td>1</td>\n",
       "      <td>[Manual]</td>\n",
       "      <td>146269.2</td>\n",
       "      <td>203.0</td>\n",
       "      <td>[0.85, 0.21, 10.0, 15.95, 8.7, 1213.02, 0.35, ...</td>\n",
       "    </tr>\n",
       "    <tr>\n",
       "      <th>4627</th>\n",
       "      <td>POST</td>\n",
       "      <td>1803</td>\n",
       "      <td>405.0</td>\n",
       "      <td>24</td>\n",
       "      <td>5235</td>\n",
       "      <td>1</td>\n",
       "      <td>[POSTAGE]</td>\n",
       "      <td>53979.8</td>\n",
       "      <td>53.0</td>\n",
       "      <td>[18.0, 141.0, 130.0, 28.0, 15.0, 40.0, 4.0, 21...</td>\n",
       "    </tr>\n",
       "    <tr>\n",
       "      <th>4619</th>\n",
       "      <td>ADJUST</td>\n",
       "      <td>32</td>\n",
       "      <td>25.0</td>\n",
       "      <td>9</td>\n",
       "      <td>32</td>\n",
       "      <td>2</td>\n",
       "      <td>[Adjustment by john on 26/01/2010 16, Adjustme...</td>\n",
       "      <td>3538.5</td>\n",
       "      <td>32.0</td>\n",
       "      <td>[68.34, 201.56, 205.82, 21.0, 63.24, 56.73, 11...</td>\n",
       "    </tr>\n",
       "    <tr>\n",
       "      <th>4624</th>\n",
       "      <td>DOT</td>\n",
       "      <td>16</td>\n",
       "      <td>1.0</td>\n",
       "      <td>1</td>\n",
       "      <td>16</td>\n",
       "      <td>1</td>\n",
       "      <td>[DOTCOM POSTAGE]</td>\n",
       "      <td>11906.4</td>\n",
       "      <td>16.0</td>\n",
       "      <td>[11.17, 16.46, 13.16, 85.58, 878.55, 688.08, 4...</td>\n",
       "    </tr>\n",
       "    <tr>\n",
       "      <th>564</th>\n",
       "      <td>21166</td>\n",
       "      <td>1225</td>\n",
       "      <td>475.0</td>\n",
       "      <td>12</td>\n",
       "      <td>19652</td>\n",
       "      <td>1</td>\n",
       "      <td>[COOK WITH WINE METAL SIGN ]</td>\n",
       "      <td>2442.1</td>\n",
       "      <td>13.0</td>\n",
       "      <td>[1.95, 1.69, 1.4, 1.65, 2.21, 1.53, 2.08, 1.85...</td>\n",
       "    </tr>\n",
       "  </tbody>\n",
       "</table>\n",
       "</div>"
      ],
      "text/plain": [
       "     StockCode  Inv_Count  Customer_Count  Country  Total_Qty  \\\n",
       "4625         M        620           438.0       19       9384   \n",
       "4627      POST       1803           405.0       24       5235   \n",
       "4619    ADJUST         32            25.0        9         32   \n",
       "4624       DOT         16             1.0        1         16   \n",
       "564      21166       1225           475.0       12      19652   \n",
       "\n",
       "      Number_of_Item_Types                                 Unique_Description  \\\n",
       "4625                     1                                           [Manual]   \n",
       "4627                     1                                          [POSTAGE]   \n",
       "4619                     2  [Adjustment by john on 26/01/2010 16, Adjustme...   \n",
       "4624                     1                                   [DOTCOM POSTAGE]   \n",
       "564                      1                       [COOK WITH WINE METAL SIGN ]   \n",
       "\n",
       "      Total_Unit_Item_Price  UniquePrice_Count  \\\n",
       "4625               146269.2              203.0   \n",
       "4627                53979.8               53.0   \n",
       "4619                 3538.5               32.0   \n",
       "4624                11906.4               16.0   \n",
       "564                  2442.1               13.0   \n",
       "\n",
       "                                            UniquePrice  \n",
       "4625  [0.85, 0.21, 10.0, 15.95, 8.7, 1213.02, 0.35, ...  \n",
       "4627  [18.0, 141.0, 130.0, 28.0, 15.0, 40.0, 4.0, 21...  \n",
       "4619  [68.34, 201.56, 205.82, 21.0, 63.24, 56.73, 11...  \n",
       "4624  [11.17, 16.46, 13.16, 85.58, 878.55, 688.08, 4...  \n",
       "564   [1.95, 1.69, 1.4, 1.65, 2.21, 1.53, 2.08, 1.85...  "
      ]
     },
     "execution_count": 53,
     "metadata": {},
     "output_type": "execute_result"
    }
   ],
   "source": [
    "stockcode.sort_values(by='UniquePrice_Count',ascending=False,inplace=True)\n",
    "stockcode.head()"
   ]
  },
  {
   "cell_type": "code",
   "execution_count": 54,
   "metadata": {
    "ExecuteTime": {
     "end_time": "2020-01-14T07:12:26.628657Z",
     "start_time": "2020-01-14T07:12:26.612702Z"
    }
   },
   "outputs": [
    {
     "name": "stdout",
     "output_type": "stream",
     "text": [
      "There are in total 1062 stockcodes that has their price not changed throughout the period\n",
      "This accounted for 22.93 % of the stockmaster list\n"
     ]
    }
   ],
   "source": [
    "print('There are in total', len(stockcode.loc[stockcode['UniquePrice_Count']==1.0]), 'stockcodes that has their price not changed throughout the period')\n",
    "print('This accounted for', round(len(stockcode.loc[stockcode['UniquePrice_Count']==1.0])*100/len(stockcode),2),'% of the stockmaster list')"
   ]
  },
  {
   "cell_type": "code",
   "execution_count": 55,
   "metadata": {
    "ExecuteTime": {
     "end_time": "2020-01-14T07:12:26.640626Z",
     "start_time": "2020-01-14T07:12:26.632901Z"
    }
   },
   "outputs": [
    {
     "name": "stdout",
     "output_type": "stream",
     "text": [
      "On an average, each stock code has 3 unique price\n"
     ]
    }
   ],
   "source": [
    "print('On an average, each stock code has',round(stockcode['UniquePrice_Count'].mean()),'unique price')"
   ]
  },
  {
   "cell_type": "markdown",
   "metadata": {},
   "source": [
    "<font color=darkblue>. It was noticed that for each unique stock code, there are multiple unique price.<br>\n",
    "StockCode 'M','POST','ADJUST','DOT' has Unique Price Count from 16-203 most probably due to each individual transaction are charged with different price.<br>. The rest of Unique Price Count from 2-13 are most probably due to price changes across time. This could be verified futher.<br>"
   ]
  },
  {
   "cell_type": "markdown",
   "metadata": {},
   "source": [
    "### Description with Multiple StockCodes"
   ]
  },
  {
   "cell_type": "code",
   "execution_count": 56,
   "metadata": {
    "ExecuteTime": {
     "end_time": "2020-01-14T07:12:30.988036Z",
     "start_time": "2020-01-14T07:12:26.644614Z"
    }
   },
   "outputs": [
    {
     "name": "stdout",
     "output_type": "stream",
     "text": [
      "4608\n"
     ]
    }
   ],
   "source": [
    "stockmaster_df['sc']=stockmaster_df[\"StockCode\"]\n",
    "# Groupby 'Item Description' to check on which Stock code has more than 1 description \n",
    "description=stockmaster_df.groupby('Item Description').agg({\n",
    "                                            'StockCode':pd.Series.nunique,\n",
    "                                            'sc':'unique'})\n",
    "                                            #'Customer ID':pd.Series.nunique,\n",
    "                                            #'Country':pd.Series.nunique,\n",
    "                                            #'Quantity':'sum',\n",
    "                                            #'Description':pd.Series.nunique,\n",
    "                                            #'Desc':'unique',\n",
    "                                            #'Price':'sum'})\n",
    "\n",
    "description.rename(columns={'StockCode':'StockCode','sc':'Unique StockCode'},inplace=True)\n",
    "description.reset_index(inplace= True)\n",
    "print(len(description))\n",
    "description.sort_values(by='StockCode',ascending=False,inplace=True)"
   ]
  },
  {
   "cell_type": "code",
   "execution_count": 57,
   "metadata": {
    "ExecuteTime": {
     "end_time": "2020-01-14T07:12:31.031909Z",
     "start_time": "2020-01-14T07:12:30.992024Z"
    }
   },
   "outputs": [
    {
     "name": "stdout",
     "output_type": "stream",
     "text": [
      "There are  21 number of Item Desccription with multiple Stockcodes\n"
     ]
    },
    {
     "data": {
      "text/html": [
       "<div>\n",
       "<style scoped>\n",
       "    .dataframe tbody tr th:only-of-type {\n",
       "        vertical-align: middle;\n",
       "    }\n",
       "\n",
       "    .dataframe tbody tr th {\n",
       "        vertical-align: top;\n",
       "    }\n",
       "\n",
       "    .dataframe thead th {\n",
       "        text-align: right;\n",
       "    }\n",
       "</style>\n",
       "<table border=\"1\" class=\"dataframe\">\n",
       "  <thead>\n",
       "    <tr style=\"text-align: right;\">\n",
       "      <th></th>\n",
       "      <th>index</th>\n",
       "      <th>Item Description</th>\n",
       "      <th>StockCode</th>\n",
       "      <th>Unique StockCode</th>\n",
       "    </tr>\n",
       "  </thead>\n",
       "  <tbody>\n",
       "    <tr>\n",
       "      <th>0</th>\n",
       "      <td>2394</td>\n",
       "      <td>METAL SIGN,CUPCAKE SINGLE HOOK</td>\n",
       "      <td>3</td>\n",
       "      <td>[82613A, 82613B, 82613C]</td>\n",
       "    </tr>\n",
       "    <tr>\n",
       "      <th>1</th>\n",
       "      <td>996</td>\n",
       "      <td>COLOURING PENCILS BROWN TUBE</td>\n",
       "      <td>3</td>\n",
       "      <td>[10133, 10134, 10135]</td>\n",
       "    </tr>\n",
       "    <tr>\n",
       "      <th>2</th>\n",
       "      <td>156</td>\n",
       "      <td>ACRYLIC JEWEL SNOWFLAKE,BLUE</td>\n",
       "      <td>2</td>\n",
       "      <td>[35817B, 35815B]</td>\n",
       "    </tr>\n",
       "    <tr>\n",
       "      <th>3</th>\n",
       "      <td>2907</td>\n",
       "      <td>PINK FAIRY CAKE CUSHION COVER</td>\n",
       "      <td>2</td>\n",
       "      <td>[47585A, 47586A]</td>\n",
       "    </tr>\n",
       "    <tr>\n",
       "      <th>4</th>\n",
       "      <td>1630</td>\n",
       "      <td>FROSTED WHITE BASE</td>\n",
       "      <td>2</td>\n",
       "      <td>[79403, 79406]</td>\n",
       "    </tr>\n",
       "    <tr>\n",
       "      <th>5</th>\n",
       "      <td>4363</td>\n",
       "      <td>WHITE BAMBOO RIBS LAMPSHADE</td>\n",
       "      <td>2</td>\n",
       "      <td>[40002, 40003]</td>\n",
       "    </tr>\n",
       "    <tr>\n",
       "      <th>6</th>\n",
       "      <td>531</td>\n",
       "      <td>BLUE FLOCK GLASS CANDLEHOLDER</td>\n",
       "      <td>2</td>\n",
       "      <td>[79328, 79337]</td>\n",
       "    </tr>\n",
       "    <tr>\n",
       "      <th>7</th>\n",
       "      <td>3988</td>\n",
       "      <td>SQUARE CHERRY BLOSSOM CABINET</td>\n",
       "      <td>2</td>\n",
       "      <td>[84666, 84665]</td>\n",
       "    </tr>\n",
       "    <tr>\n",
       "      <th>8</th>\n",
       "      <td>1278</td>\n",
       "      <td>EAU DE NILE JEWELLED PHOTOFRAME</td>\n",
       "      <td>2</td>\n",
       "      <td>[85023B, 85024B]</td>\n",
       "    </tr>\n",
       "    <tr>\n",
       "      <th>9</th>\n",
       "      <td>2922</td>\n",
       "      <td>PINK FLOWERS RABBIT EASTER</td>\n",
       "      <td>2</td>\n",
       "      <td>[35910B, 35909B]</td>\n",
       "    </tr>\n",
       "    <tr>\n",
       "      <th>10</th>\n",
       "      <td>1607</td>\n",
       "      <td>FRENCH LATTICE CUSHION COVER</td>\n",
       "      <td>2</td>\n",
       "      <td>[20835, 20838]</td>\n",
       "    </tr>\n",
       "    <tr>\n",
       "      <th>11</th>\n",
       "      <td>1604</td>\n",
       "      <td>FRENCH FLORAL CUSHION COVER</td>\n",
       "      <td>2</td>\n",
       "      <td>[20837, 20840]</td>\n",
       "    </tr>\n",
       "    <tr>\n",
       "      <th>12</th>\n",
       "      <td>2913</td>\n",
       "      <td>PINK FLOCK GLASS CANDLEHOLDER</td>\n",
       "      <td>2</td>\n",
       "      <td>[79329, 79331]</td>\n",
       "    </tr>\n",
       "    <tr>\n",
       "      <th>13</th>\n",
       "      <td>3324</td>\n",
       "      <td>RETRO PLASTIC POLKA TRAY</td>\n",
       "      <td>2</td>\n",
       "      <td>[79190B, 79191B]</td>\n",
       "    </tr>\n",
       "    <tr>\n",
       "      <th>14</th>\n",
       "      <td>3322</td>\n",
       "      <td>RETRO PLASTIC DAISY TRAY</td>\n",
       "      <td>2</td>\n",
       "      <td>[79190D, 79191D]</td>\n",
       "    </tr>\n",
       "    <tr>\n",
       "      <th>15</th>\n",
       "      <td>3321</td>\n",
       "      <td>RETRO PLASTIC 70'S TRAY</td>\n",
       "      <td>2</td>\n",
       "      <td>[79190A, 79192A]</td>\n",
       "    </tr>\n",
       "    <tr>\n",
       "      <th>16</th>\n",
       "      <td>4201</td>\n",
       "      <td>This is a test product.</td>\n",
       "      <td>2</td>\n",
       "      <td>[TEST001, TEST002]</td>\n",
       "    </tr>\n",
       "    <tr>\n",
       "      <th>17</th>\n",
       "      <td>998</td>\n",
       "      <td>COLUMBIAN CANDLE RECTANGLE</td>\n",
       "      <td>2</td>\n",
       "      <td>[72131, 72133]</td>\n",
       "    </tr>\n",
       "    <tr>\n",
       "      <th>18</th>\n",
       "      <td>1000</td>\n",
       "      <td>COLUMBIAN CANDLE ROUND</td>\n",
       "      <td>2</td>\n",
       "      <td>[72127, 72129]</td>\n",
       "    </tr>\n",
       "    <tr>\n",
       "      <th>19</th>\n",
       "      <td>2467</td>\n",
       "      <td>MODERN CHRISTMAS TREE CANDLE</td>\n",
       "      <td>2</td>\n",
       "      <td>[20881, 20882]</td>\n",
       "    </tr>\n",
       "    <tr>\n",
       "      <th>20</th>\n",
       "      <td>999</td>\n",
       "      <td>COLUMBIAN CANDLE ROUND</td>\n",
       "      <td>2</td>\n",
       "      <td>[72128, 72130]</td>\n",
       "    </tr>\n",
       "  </tbody>\n",
       "</table>\n",
       "</div>"
      ],
      "text/plain": [
       "    index                 Item Description  StockCode  \\\n",
       "0    2394   METAL SIGN,CUPCAKE SINGLE HOOK          3   \n",
       "1     996     COLOURING PENCILS BROWN TUBE          3   \n",
       "2     156     ACRYLIC JEWEL SNOWFLAKE,BLUE          2   \n",
       "3    2907    PINK FAIRY CAKE CUSHION COVER          2   \n",
       "4    1630              FROSTED WHITE BASE           2   \n",
       "5    4363      WHITE BAMBOO RIBS LAMPSHADE          2   \n",
       "6     531    BLUE FLOCK GLASS CANDLEHOLDER          2   \n",
       "7    3988    SQUARE CHERRY BLOSSOM CABINET          2   \n",
       "8    1278  EAU DE NILE JEWELLED PHOTOFRAME          2   \n",
       "9    2922       PINK FLOWERS RABBIT EASTER          2   \n",
       "10   1607    FRENCH LATTICE CUSHION COVER           2   \n",
       "11   1604     FRENCH FLORAL CUSHION COVER           2   \n",
       "12   2913    PINK FLOCK GLASS CANDLEHOLDER          2   \n",
       "13   3324         RETRO PLASTIC POLKA TRAY          2   \n",
       "14   3322         RETRO PLASTIC DAISY TRAY          2   \n",
       "15   3321          RETRO PLASTIC 70'S TRAY          2   \n",
       "16   4201          This is a test product.          2   \n",
       "17    998       COLUMBIAN CANDLE RECTANGLE          2   \n",
       "18   1000          COLUMBIAN CANDLE ROUND           2   \n",
       "19   2467     MODERN CHRISTMAS TREE CANDLE          2   \n",
       "20    999           COLUMBIAN CANDLE ROUND          2   \n",
       "\n",
       "            Unique StockCode  \n",
       "0   [82613A, 82613B, 82613C]  \n",
       "1      [10133, 10134, 10135]  \n",
       "2           [35817B, 35815B]  \n",
       "3           [47585A, 47586A]  \n",
       "4             [79403, 79406]  \n",
       "5             [40002, 40003]  \n",
       "6             [79328, 79337]  \n",
       "7             [84666, 84665]  \n",
       "8           [85023B, 85024B]  \n",
       "9           [35910B, 35909B]  \n",
       "10            [20835, 20838]  \n",
       "11            [20837, 20840]  \n",
       "12            [79329, 79331]  \n",
       "13          [79190B, 79191B]  \n",
       "14          [79190D, 79191D]  \n",
       "15          [79190A, 79192A]  \n",
       "16        [TEST001, TEST002]  \n",
       "17            [72131, 72133]  \n",
       "18            [72127, 72129]  \n",
       "19            [20881, 20882]  \n",
       "20            [72128, 72130]  "
      ]
     },
     "execution_count": 57,
     "metadata": {},
     "output_type": "execute_result"
    }
   ],
   "source": [
    "multiple_stockcode=description.loc[description['StockCode']>1]\n",
    "multiple_stockcode.reset_index(inplace= True)\n",
    "print('There are ',len(multiple_stockcode),'number of Item Desccription with multiple Stockcodes')\n",
    "multiple_stockcode"
   ]
  },
  {
   "cell_type": "markdown",
   "metadata": {
    "ExecuteTime": {
     "end_time": "2019-11-25T18:50:54.705396Z",
     "start_time": "2019-11-25T18:50:54.693173Z"
    }
   },
   "source": [
    "<font color=darkblue> Based on the above observation of 21 descriptions with multiple stockcodes, the multipled stockcodes are of adjacent, or with some suffix, <br>\n",
    "Description with mutiple stockcodes will be cleaned by assigning the first stockcodes to the description.\n"
   ]
  },
  {
   "cell_type": "code",
   "execution_count": 58,
   "metadata": {
    "ExecuteTime": {
     "end_time": "2020-01-14T07:12:31.041862Z",
     "start_time": "2020-01-14T07:12:31.036874Z"
    }
   },
   "outputs": [],
   "source": [
    "# # merge 'Item Description' to sales_df\n",
    "# #df=pd.merge(prices_pct,fillings,how='left',left_index=True,right_index=True)\n",
    "# sales_df=pd.merge(sales_df,stockmaster_df,how='left')\n",
    "# sales_df\n"
   ]
  },
  {
   "cell_type": "code",
   "execution_count": 59,
   "metadata": {
    "ExecuteTime": {
     "end_time": "2020-01-14T07:12:31.085746Z",
     "start_time": "2020-01-14T07:12:31.046846Z"
    }
   },
   "outputs": [
    {
     "data": {
      "text/html": [
       "<div>\n",
       "<style scoped>\n",
       "    .dataframe tbody tr th:only-of-type {\n",
       "        vertical-align: middle;\n",
       "    }\n",
       "\n",
       "    .dataframe tbody tr th {\n",
       "        vertical-align: top;\n",
       "    }\n",
       "\n",
       "    .dataframe thead th {\n",
       "        text-align: right;\n",
       "    }\n",
       "</style>\n",
       "<table border=\"1\" class=\"dataframe\">\n",
       "  <thead>\n",
       "    <tr style=\"text-align: right;\">\n",
       "      <th></th>\n",
       "      <th>Invoice</th>\n",
       "      <th>StockCode</th>\n",
       "      <th>Description</th>\n",
       "      <th>Quantity</th>\n",
       "      <th>InvoiceDate</th>\n",
       "      <th>Price</th>\n",
       "      <th>Customer ID</th>\n",
       "      <th>Country</th>\n",
       "      <th>Inv_Date</th>\n",
       "      <th>Inv_Time</th>\n",
       "      <th>Yr</th>\n",
       "      <th>Month</th>\n",
       "      <th>MMYY</th>\n",
       "      <th>Inv_Pre</th>\n",
       "      <th>Stock_Pre</th>\n",
       "      <th>Stock_Suf</th>\n",
       "      <th>Desc</th>\n",
       "      <th>Price2</th>\n",
       "      <th>Price3</th>\n",
       "    </tr>\n",
       "  </thead>\n",
       "  <tbody>\n",
       "    <tr>\n",
       "      <th>0</th>\n",
       "      <td>489434</td>\n",
       "      <td>85048</td>\n",
       "      <td>15CM CHRISTMAS GLASS BALL 20 LIGHTS</td>\n",
       "      <td>12</td>\n",
       "      <td>2009-12-01 07:45:00</td>\n",
       "      <td>7.0</td>\n",
       "      <td>13085.0</td>\n",
       "      <td>United Kingdom</td>\n",
       "      <td>2009-12-01</td>\n",
       "      <td>07:45:00</td>\n",
       "      <td>2009</td>\n",
       "      <td>12</td>\n",
       "      <td>Dec 09</td>\n",
       "      <td>None</td>\n",
       "      <td>None</td>\n",
       "      <td>None</td>\n",
       "      <td>15CM CHRISTMAS GLASS BALL 20 LIGHTS</td>\n",
       "      <td>7.0</td>\n",
       "      <td>7.0</td>\n",
       "    </tr>\n",
       "    <tr>\n",
       "      <th>1</th>\n",
       "      <td>489434</td>\n",
       "      <td>79323P</td>\n",
       "      <td>PINK CHERRY LIGHTS</td>\n",
       "      <td>12</td>\n",
       "      <td>2009-12-01 07:45:00</td>\n",
       "      <td>6.8</td>\n",
       "      <td>13085.0</td>\n",
       "      <td>United Kingdom</td>\n",
       "      <td>2009-12-01</td>\n",
       "      <td>07:45:00</td>\n",
       "      <td>2009</td>\n",
       "      <td>12</td>\n",
       "      <td>Dec 09</td>\n",
       "      <td>None</td>\n",
       "      <td>None</td>\n",
       "      <td>P</td>\n",
       "      <td>PINK CHERRY LIGHTS</td>\n",
       "      <td>6.8</td>\n",
       "      <td>6.8</td>\n",
       "    </tr>\n",
       "  </tbody>\n",
       "</table>\n",
       "</div>"
      ],
      "text/plain": [
       "  Invoice StockCode                          Description  Quantity  \\\n",
       "0  489434     85048  15CM CHRISTMAS GLASS BALL 20 LIGHTS        12   \n",
       "1  489434    79323P                   PINK CHERRY LIGHTS        12   \n",
       "\n",
       "          InvoiceDate  Price  Customer ID         Country    Inv_Date  \\\n",
       "0 2009-12-01 07:45:00    7.0      13085.0  United Kingdom  2009-12-01   \n",
       "1 2009-12-01 07:45:00    6.8      13085.0  United Kingdom  2009-12-01   \n",
       "\n",
       "   Inv_Time    Yr  Month    MMYY Inv_Pre Stock_Pre Stock_Suf  \\\n",
       "0  07:45:00  2009     12  Dec 09    None      None      None   \n",
       "1  07:45:00  2009     12  Dec 09    None      None         P   \n",
       "\n",
       "                                  Desc  Price2  Price3  \n",
       "0  15CM CHRISTMAS GLASS BALL 20 LIGHTS     7.0     7.0  \n",
       "1                   PINK CHERRY LIGHTS     6.8     6.8  "
      ]
     },
     "execution_count": 59,
     "metadata": {},
     "output_type": "execute_result"
    }
   ],
   "source": [
    "sales_df.head(2)"
   ]
  },
  {
   "cell_type": "code",
   "execution_count": 60,
   "metadata": {
    "ExecuteTime": {
     "end_time": "2020-01-14T07:12:31.596051Z",
     "start_time": "2020-01-14T07:12:31.089733Z"
    }
   },
   "outputs": [
    {
     "data": {
      "text/html": [
       "<div>\n",
       "<style scoped>\n",
       "    .dataframe tbody tr th:only-of-type {\n",
       "        vertical-align: middle;\n",
       "    }\n",
       "\n",
       "    .dataframe tbody tr th {\n",
       "        vertical-align: top;\n",
       "    }\n",
       "\n",
       "    .dataframe thead th {\n",
       "        text-align: right;\n",
       "    }\n",
       "</style>\n",
       "<table border=\"1\" class=\"dataframe\">\n",
       "  <thead>\n",
       "    <tr style=\"text-align: right;\">\n",
       "      <th></th>\n",
       "      <th>Invoice</th>\n",
       "      <th>StockCode</th>\n",
       "      <th>Description</th>\n",
       "      <th>Quantity</th>\n",
       "      <th>InvoiceDate</th>\n",
       "      <th>Price</th>\n",
       "      <th>Customer ID</th>\n",
       "      <th>Country</th>\n",
       "      <th>Inv_Date</th>\n",
       "      <th>Inv_Time</th>\n",
       "      <th>Yr</th>\n",
       "      <th>Month</th>\n",
       "      <th>MMYY</th>\n",
       "      <th>Price2</th>\n",
       "      <th>Price3</th>\n",
       "      <th>Revenue</th>\n",
       "    </tr>\n",
       "  </thead>\n",
       "  <tbody>\n",
       "    <tr>\n",
       "      <th>0</th>\n",
       "      <td>489434</td>\n",
       "      <td>85048</td>\n",
       "      <td>15CM CHRISTMAS GLASS BALL 20 LIGHTS</td>\n",
       "      <td>12</td>\n",
       "      <td>2009-12-01 07:45:00</td>\n",
       "      <td>7.0</td>\n",
       "      <td>13085.0</td>\n",
       "      <td>United Kingdom</td>\n",
       "      <td>2009-12-01</td>\n",
       "      <td>07:45:00</td>\n",
       "      <td>2009</td>\n",
       "      <td>12</td>\n",
       "      <td>Dec 09</td>\n",
       "      <td>7.0</td>\n",
       "      <td>7.0</td>\n",
       "      <td>83.4</td>\n",
       "    </tr>\n",
       "    <tr>\n",
       "      <th>1</th>\n",
       "      <td>489434</td>\n",
       "      <td>79323P</td>\n",
       "      <td>PINK CHERRY LIGHTS</td>\n",
       "      <td>12</td>\n",
       "      <td>2009-12-01 07:45:00</td>\n",
       "      <td>6.8</td>\n",
       "      <td>13085.0</td>\n",
       "      <td>United Kingdom</td>\n",
       "      <td>2009-12-01</td>\n",
       "      <td>07:45:00</td>\n",
       "      <td>2009</td>\n",
       "      <td>12</td>\n",
       "      <td>Dec 09</td>\n",
       "      <td>6.8</td>\n",
       "      <td>6.8</td>\n",
       "      <td>81.0</td>\n",
       "    </tr>\n",
       "    <tr>\n",
       "      <th>2</th>\n",
       "      <td>489434</td>\n",
       "      <td>79323W</td>\n",
       "      <td>WHITE CHERRY LIGHTS</td>\n",
       "      <td>12</td>\n",
       "      <td>2009-12-01 07:45:00</td>\n",
       "      <td>6.8</td>\n",
       "      <td>13085.0</td>\n",
       "      <td>United Kingdom</td>\n",
       "      <td>2009-12-01</td>\n",
       "      <td>07:45:00</td>\n",
       "      <td>2009</td>\n",
       "      <td>12</td>\n",
       "      <td>Dec 09</td>\n",
       "      <td>6.8</td>\n",
       "      <td>6.8</td>\n",
       "      <td>81.0</td>\n",
       "    </tr>\n",
       "    <tr>\n",
       "      <th>3</th>\n",
       "      <td>489434</td>\n",
       "      <td>22041</td>\n",
       "      <td>RECORD FRAME 7\" SINGLE SIZE</td>\n",
       "      <td>48</td>\n",
       "      <td>2009-12-01 07:45:00</td>\n",
       "      <td>2.1</td>\n",
       "      <td>13085.0</td>\n",
       "      <td>United Kingdom</td>\n",
       "      <td>2009-12-01</td>\n",
       "      <td>07:45:00</td>\n",
       "      <td>2009</td>\n",
       "      <td>12</td>\n",
       "      <td>Dec 09</td>\n",
       "      <td>2.1</td>\n",
       "      <td>2.1</td>\n",
       "      <td>100.8</td>\n",
       "    </tr>\n",
       "    <tr>\n",
       "      <th>4</th>\n",
       "      <td>489434</td>\n",
       "      <td>21232</td>\n",
       "      <td>STRAWBERRY CERAMIC TRINKET BOX</td>\n",
       "      <td>24</td>\n",
       "      <td>2009-12-01 07:45:00</td>\n",
       "      <td>1.2</td>\n",
       "      <td>13085.0</td>\n",
       "      <td>United Kingdom</td>\n",
       "      <td>2009-12-01</td>\n",
       "      <td>07:45:00</td>\n",
       "      <td>2009</td>\n",
       "      <td>12</td>\n",
       "      <td>Dec 09</td>\n",
       "      <td>1.2</td>\n",
       "      <td>1.2</td>\n",
       "      <td>30.0</td>\n",
       "    </tr>\n",
       "  </tbody>\n",
       "</table>\n",
       "</div>"
      ],
      "text/plain": [
       "  Invoice StockCode                          Description  Quantity  \\\n",
       "0  489434     85048  15CM CHRISTMAS GLASS BALL 20 LIGHTS        12   \n",
       "1  489434    79323P                   PINK CHERRY LIGHTS        12   \n",
       "2  489434    79323W                  WHITE CHERRY LIGHTS        12   \n",
       "3  489434     22041         RECORD FRAME 7\" SINGLE SIZE         48   \n",
       "4  489434     21232       STRAWBERRY CERAMIC TRINKET BOX        24   \n",
       "\n",
       "          InvoiceDate  Price  Customer ID         Country    Inv_Date  \\\n",
       "0 2009-12-01 07:45:00    7.0      13085.0  United Kingdom  2009-12-01   \n",
       "1 2009-12-01 07:45:00    6.8      13085.0  United Kingdom  2009-12-01   \n",
       "2 2009-12-01 07:45:00    6.8      13085.0  United Kingdom  2009-12-01   \n",
       "3 2009-12-01 07:45:00    2.1      13085.0  United Kingdom  2009-12-01   \n",
       "4 2009-12-01 07:45:00    1.2      13085.0  United Kingdom  2009-12-01   \n",
       "\n",
       "   Inv_Time    Yr  Month    MMYY  Price2  Price3  Revenue  \n",
       "0  07:45:00  2009     12  Dec 09     7.0     7.0     83.4  \n",
       "1  07:45:00  2009     12  Dec 09     6.8     6.8     81.0  \n",
       "2  07:45:00  2009     12  Dec 09     6.8     6.8     81.0  \n",
       "3  07:45:00  2009     12  Dec 09     2.1     2.1    100.8  \n",
       "4  07:45:00  2009     12  Dec 09     1.2     1.2     30.0  "
      ]
     },
     "execution_count": 60,
     "metadata": {},
     "output_type": "execute_result"
    }
   ],
   "source": [
    "# # #df = pd.merge(df,df2[['Key_Column','Target_Column']],on='Key_Column', how='left')\n",
    "\n",
    "# # sales_df=pd.merge(sales_df,stockmaster_df[['StockCode','Item Description']])\n",
    "# # sales_df\n",
    "\n",
    "# drop columns: 'Inv_Pre','Stock_Pre','Stock_Suf','Desc' and rearrange columns\n",
    "cols_delete=['Inv_Pre','Stock_Pre','Stock_Suf','Desc']\n",
    "sales_df.drop(cols_delete,axis=1,inplace=True)\n",
    "\n",
    "# Add in new column \"Revenue\"\n",
    "sales_df['Revenue']=sales_df['Quantity']* sales_df['Price']\n",
    "sales_df.head()"
   ]
  },
  {
   "cell_type": "code",
   "execution_count": 61,
   "metadata": {
    "ExecuteTime": {
     "end_time": "2020-01-14T07:12:31.766594Z",
     "start_time": "2020-01-14T07:12:31.601038Z"
    }
   },
   "outputs": [],
   "source": [
    "sales_df.rename(columns={'Description':'Item Description'},inplace=True)"
   ]
  },
  {
   "cell_type": "code",
   "execution_count": 62,
   "metadata": {
    "ExecuteTime": {
     "end_time": "2020-01-14T07:12:31.976185Z",
     "start_time": "2020-01-14T07:12:31.770683Z"
    }
   },
   "outputs": [
    {
     "data": {
      "text/html": [
       "<div>\n",
       "<style scoped>\n",
       "    .dataframe tbody tr th:only-of-type {\n",
       "        vertical-align: middle;\n",
       "    }\n",
       "\n",
       "    .dataframe tbody tr th {\n",
       "        vertical-align: top;\n",
       "    }\n",
       "\n",
       "    .dataframe thead th {\n",
       "        text-align: right;\n",
       "    }\n",
       "</style>\n",
       "<table border=\"1\" class=\"dataframe\">\n",
       "  <thead>\n",
       "    <tr style=\"text-align: right;\">\n",
       "      <th></th>\n",
       "      <th>Invoice</th>\n",
       "      <th>InvoiceDate</th>\n",
       "      <th>StockCode</th>\n",
       "      <th>Item Description</th>\n",
       "      <th>Price</th>\n",
       "      <th>Quantity</th>\n",
       "      <th>Revenue</th>\n",
       "      <th>Customer ID</th>\n",
       "      <th>Country</th>\n",
       "      <th>Inv_Date</th>\n",
       "      <th>Inv_Time</th>\n",
       "      <th>Yr</th>\n",
       "      <th>Month</th>\n",
       "      <th>MMYY</th>\n",
       "    </tr>\n",
       "  </thead>\n",
       "  <tbody>\n",
       "    <tr>\n",
       "      <th>0</th>\n",
       "      <td>489434</td>\n",
       "      <td>2009-12-01 07:45:00</td>\n",
       "      <td>85048</td>\n",
       "      <td>15CM CHRISTMAS GLASS BALL 20 LIGHTS</td>\n",
       "      <td>7.0</td>\n",
       "      <td>12</td>\n",
       "      <td>83.4</td>\n",
       "      <td>13085.0</td>\n",
       "      <td>United Kingdom</td>\n",
       "      <td>2009-12-01</td>\n",
       "      <td>07:45:00</td>\n",
       "      <td>2009</td>\n",
       "      <td>12</td>\n",
       "      <td>Dec 09</td>\n",
       "    </tr>\n",
       "    <tr>\n",
       "      <th>1</th>\n",
       "      <td>489434</td>\n",
       "      <td>2009-12-01 07:45:00</td>\n",
       "      <td>79323P</td>\n",
       "      <td>PINK CHERRY LIGHTS</td>\n",
       "      <td>6.8</td>\n",
       "      <td>12</td>\n",
       "      <td>81.0</td>\n",
       "      <td>13085.0</td>\n",
       "      <td>United Kingdom</td>\n",
       "      <td>2009-12-01</td>\n",
       "      <td>07:45:00</td>\n",
       "      <td>2009</td>\n",
       "      <td>12</td>\n",
       "      <td>Dec 09</td>\n",
       "    </tr>\n",
       "    <tr>\n",
       "      <th>2</th>\n",
       "      <td>489434</td>\n",
       "      <td>2009-12-01 07:45:00</td>\n",
       "      <td>79323W</td>\n",
       "      <td>WHITE CHERRY LIGHTS</td>\n",
       "      <td>6.8</td>\n",
       "      <td>12</td>\n",
       "      <td>81.0</td>\n",
       "      <td>13085.0</td>\n",
       "      <td>United Kingdom</td>\n",
       "      <td>2009-12-01</td>\n",
       "      <td>07:45:00</td>\n",
       "      <td>2009</td>\n",
       "      <td>12</td>\n",
       "      <td>Dec 09</td>\n",
       "    </tr>\n",
       "    <tr>\n",
       "      <th>3</th>\n",
       "      <td>489434</td>\n",
       "      <td>2009-12-01 07:45:00</td>\n",
       "      <td>22041</td>\n",
       "      <td>RECORD FRAME 7\" SINGLE SIZE</td>\n",
       "      <td>2.1</td>\n",
       "      <td>48</td>\n",
       "      <td>100.8</td>\n",
       "      <td>13085.0</td>\n",
       "      <td>United Kingdom</td>\n",
       "      <td>2009-12-01</td>\n",
       "      <td>07:45:00</td>\n",
       "      <td>2009</td>\n",
       "      <td>12</td>\n",
       "      <td>Dec 09</td>\n",
       "    </tr>\n",
       "    <tr>\n",
       "      <th>4</th>\n",
       "      <td>489434</td>\n",
       "      <td>2009-12-01 07:45:00</td>\n",
       "      <td>21232</td>\n",
       "      <td>STRAWBERRY CERAMIC TRINKET BOX</td>\n",
       "      <td>1.2</td>\n",
       "      <td>24</td>\n",
       "      <td>30.0</td>\n",
       "      <td>13085.0</td>\n",
       "      <td>United Kingdom</td>\n",
       "      <td>2009-12-01</td>\n",
       "      <td>07:45:00</td>\n",
       "      <td>2009</td>\n",
       "      <td>12</td>\n",
       "      <td>Dec 09</td>\n",
       "    </tr>\n",
       "  </tbody>\n",
       "</table>\n",
       "</div>"
      ],
      "text/plain": [
       "  Invoice         InvoiceDate StockCode                     Item Description  \\\n",
       "0  489434 2009-12-01 07:45:00     85048  15CM CHRISTMAS GLASS BALL 20 LIGHTS   \n",
       "1  489434 2009-12-01 07:45:00    79323P                   PINK CHERRY LIGHTS   \n",
       "2  489434 2009-12-01 07:45:00    79323W                  WHITE CHERRY LIGHTS   \n",
       "3  489434 2009-12-01 07:45:00     22041         RECORD FRAME 7\" SINGLE SIZE    \n",
       "4  489434 2009-12-01 07:45:00     21232       STRAWBERRY CERAMIC TRINKET BOX   \n",
       "\n",
       "   Price  Quantity  Revenue  Customer ID         Country    Inv_Date  \\\n",
       "0    7.0        12     83.4      13085.0  United Kingdom  2009-12-01   \n",
       "1    6.8        12     81.0      13085.0  United Kingdom  2009-12-01   \n",
       "2    6.8        12     81.0      13085.0  United Kingdom  2009-12-01   \n",
       "3    2.1        48    100.8      13085.0  United Kingdom  2009-12-01   \n",
       "4    1.2        24     30.0      13085.0  United Kingdom  2009-12-01   \n",
       "\n",
       "   Inv_Time    Yr  Month    MMYY  \n",
       "0  07:45:00  2009     12  Dec 09  \n",
       "1  07:45:00  2009     12  Dec 09  \n",
       "2  07:45:00  2009     12  Dec 09  \n",
       "3  07:45:00  2009     12  Dec 09  \n",
       "4  07:45:00  2009     12  Dec 09  "
      ]
     },
     "execution_count": 62,
     "metadata": {},
     "output_type": "execute_result"
    }
   ],
   "source": [
    "sales_df=sales_df[['Invoice','InvoiceDate','StockCode','Item Description','Price','Quantity','Revenue','Customer ID','Country','Inv_Date','Inv_Time','Yr','Month','MMYY']]\n",
    "sales_df.head()"
   ]
  },
  {
   "cell_type": "markdown",
   "metadata": {
    "ExecuteTime": {
     "end_time": "2019-11-14T08:40:40.375779Z",
     "start_time": "2019-11-14T08:40:40.194265Z"
    }
   },
   "source": [
    "## Finalizing sales_df"
   ]
  },
  {
   "cell_type": "code",
   "execution_count": 63,
   "metadata": {
    "ExecuteTime": {
     "end_time": "2020-01-14T07:12:32.820827Z",
     "start_time": "2020-01-14T07:12:31.980110Z"
    }
   },
   "outputs": [
    {
     "name": "stdout",
     "output_type": "stream",
     "text": [
      "Number of rows: 779425\n",
      "No of Transactions:  36969\n",
      "No of Product Codes:  4631\n",
      "No of Item Description:  5283\n",
      "No of Registered Customers: 5878\n",
      "No of Customers'countries:  41\n"
     ]
    }
   ],
   "source": [
    "#check the unique values of each attribute\n",
    "print('Number of rows:',len(sales_df))\n",
    "print(\"No of Transactions: \", sales_df['Invoice'].nunique())\n",
    "print(\"No of Product Codes: \",sales_df['StockCode'].nunique())\n",
    "print(\"No of Item Description: \",sales_df['Item Description'].nunique())\n",
    "print(\"No of Registered Customers:\", sales_df['Customer ID'].nunique() )\n",
    "print(\"No of Customers'countries: \",sales_df['Country'].nunique())"
   ]
  },
  {
   "cell_type": "markdown",
   "metadata": {},
   "source": [
    "<font color=darkblue> After cleaning data, Number of unique Customer ID dropped from 5942 to 5878 (a decrease of 64 unique customer, which is 1% of the original 5942) .<br> \n"
   ]
  },
  {
   "cell_type": "code",
   "execution_count": 64,
   "metadata": {
    "ExecuteTime": {
     "end_time": "2020-01-14T07:12:33.019293Z",
     "start_time": "2020-01-14T07:12:32.825809Z"
    }
   },
   "outputs": [],
   "source": [
    "# country in retail df\n",
    "retail_country=retail['Country'].unique()\n",
    "salesdf_country=sales_df['Country'].unique()"
   ]
  },
  {
   "cell_type": "code",
   "execution_count": 65,
   "metadata": {
    "ExecuteTime": {
     "end_time": "2020-01-14T07:12:33.037452Z",
     "start_time": "2020-01-14T07:12:33.022341Z"
    }
   },
   "outputs": [
    {
     "name": "stdout",
     "output_type": "stream",
     "text": [
      "Bermuda\n",
      "Hong Kong\n"
     ]
    }
   ],
   "source": [
    "# check on which country has been dropped\n",
    "\n",
    "for country in retail_country:\n",
    "   \n",
    "    if country not in salesdf_country:\n",
    "        \n",
    "        print(country)\n",
    "       "
   ]
  },
  {
   "cell_type": "code",
   "execution_count": 66,
   "metadata": {
    "ExecuteTime": {
     "end_time": "2020-01-14T07:12:33.561381Z",
     "start_time": "2020-01-14T07:12:33.041235Z"
    }
   },
   "outputs": [
    {
     "data": {
      "text/plain": [
       "Series([], Name: Customer ID, dtype: int64)"
      ]
     },
     "execution_count": 66,
     "metadata": {},
     "output_type": "execute_result"
    }
   ],
   "source": [
    "retail.loc[(retail['Country']=='Bermuda')|(retail['Country']=='Hong Kong'),'Customer ID'].value_counts()"
   ]
  },
  {
   "cell_type": "markdown",
   "metadata": {},
   "source": [
    "<font color=darkblue> After cleaning, the number of customers' country has decreased from 43 to 41. The 2 countries which have had their rows dropped aare Bermuda and HongKong. When checked on the Customer ID from these 2 countries, it return Customer ID null. <br> \n",
    "Number of unique Customer ID also dropped from 5942 to 5878 (a decrease of 64 unique customer, which is 1% of the original 5942)"
   ]
  },
  {
   "cell_type": "code",
   "execution_count": 67,
   "metadata": {
    "ExecuteTime": {
     "end_time": "2020-01-14T07:12:34.254525Z",
     "start_time": "2020-01-14T07:12:33.566326Z"
    }
   },
   "outputs": [
    {
     "name": "stdout",
     "output_type": "stream",
     "text": [
      "<class 'pandas.core.frame.DataFrame'>\n",
      "Int64Index: 779425 entries, 0 to 1067370\n",
      "Data columns (total 14 columns):\n",
      "Invoice             779425 non-null object\n",
      "InvoiceDate         779425 non-null datetime64[ns]\n",
      "StockCode           779425 non-null object\n",
      "Item Description    779425 non-null object\n",
      "Price               779425 non-null float64\n",
      "Quantity            779425 non-null int64\n",
      "Revenue             779425 non-null float64\n",
      "Customer ID         779425 non-null float64\n",
      "Country             779425 non-null object\n",
      "Inv_Date            779425 non-null object\n",
      "Inv_Time            779425 non-null object\n",
      "Yr                  779425 non-null int64\n",
      "Month               779425 non-null int64\n",
      "MMYY                779425 non-null object\n",
      "dtypes: datetime64[ns](1), float64(3), int64(3), object(7)\n",
      "memory usage: 89.2+ MB\n"
     ]
    }
   ],
   "source": [
    "sales_df.info()"
   ]
  },
  {
   "cell_type": "code",
   "execution_count": 68,
   "metadata": {
    "ExecuteTime": {
     "end_time": "2020-01-14T07:12:34.287399Z",
     "start_time": "2020-01-14T07:12:34.282411Z"
    }
   },
   "outputs": [],
   "source": [
    "# # export sales_df to a csv file \n",
    "# sales_df.to_csv('../datasets/sales_df.csv',index=False)"
   ]
  },
  {
   "cell_type": "markdown",
   "metadata": {},
   "source": [
    "# Summary on Data Cleaning"
   ]
  },
  {
   "cell_type": "markdown",
   "metadata": {},
   "source": [
    "<font color=darkblue>\n",
    "\n",
    "- There are in total 287,946 rows of data dropped (26.98% of original data)<br>\n",
    "    - 34,335 Duplicates rows (Data provided in an excelworkbook of 2 worksheet with overlapped date & transaction (3.2% of original data)<br>\n",
    "    - 19,110 rows of with Invoice Prefix 'C' & 'A' (1.7% of original data)<br> \n",
    "\n",
    "    - 4,275 rows with null Customer ID information,transactions made by customer from United Kingdom with \\\\$0.0 pricing.(0.4% of original data) <br>\n",
    "    - 230,156 rows with null Customer ID information (21.563% of original data)<br>\n",
    "    - 70 rows with Customer ID but '$0.0 price.might be FOC items for csutomers.(0.007% of original data)<br><br>\n",
    "\n",
    "- Percetage of cancelled transaction is: 35.62 %. For Invoice numbers having Prefix 'C' with Positive Quantity, seems to be a sales transaction to non-registered customer.<br><br>\n",
    "- There are in total 6 transactions having Invoice Number with prefix A.These 6 transactions have StockCode 'B' and Description of 'Adjust bad debt'.<br><br>\n",
    " \n",
    "- Stockmaster File<br>\n",
    "    -There are in total  4,631 unique stockcodes but there are 4,608 item description.Upon random checking, it is discovered that a single stockcode is assigned with mutiple descriptions with different format (some with spacing, some with symbol '+' instead of spacing.For stockcode with multiple descriptions, the first description was used for standardization purposes.<br>\n",
    "    -There are  21 Description with multiple stcokcodes.Cleaning is not done at this stage.<br><br>\n",
    " \n",
    "- Customer ID<br>\n",
    "    - There's a dropped from 5,942 to 5,878 (a decrease of 64 unique customer, which is 1% of the original 5,942)<br><br>\n",
    "    \n",
    "- Country<br>\n",
    "    - The 2 countries which have had their rows dropped aare Bermuda and HongKong. When checked on the Customer ID from these 2 countries, it return Customer ID null.<br><br>\n",
    "    \n",
    "- Pricing \n",
    "    - There are multiple pricing for each individual stockcodes.<br>StockCode 'M','POST','ADJUST','DOT' has Unique Price Count from 16-203 most probably due to each individual transaction are charged with different price.<br>.The rest of Unique Price Count from 2-13 are most probably due to price changes across time.<br>"
   ]
  },
  {
   "cell_type": "markdown",
   "metadata": {},
   "source": [
    "|Attribute |Original|Final|Reduced by|\n",
    "|:------|:------|:------|:------|\n",
    "|No of rows|1,067,371|779,425|26.98%|\n",
    "|No of Transactions|53,628|36,969|31.06%|\n",
    "|No of Product Codes|5,305|4,631|12.70%|\n",
    "|No of Item Description|5,698|4,608|19.12%|\n",
    "|No of Registered Customers|5,942|5,878|1.07%|\n",
    "|No of Customers Countries|43|41|4.65%|"
   ]
  }
 ],
 "metadata": {
  "hide_input": false,
  "kernelspec": {
   "display_name": "Python 3",
   "language": "python",
   "name": "python3"
  },
  "language_info": {
   "codemirror_mode": {
    "name": "ipython",
    "version": 3
   },
   "file_extension": ".py",
   "mimetype": "text/x-python",
   "name": "python",
   "nbconvert_exporter": "python",
   "pygments_lexer": "ipython3",
   "version": "3.7.3"
  },
  "toc": {
   "base_numbering": 1,
   "nav_menu": {},
   "number_sections": true,
   "sideBar": true,
   "skip_h1_title": false,
   "title_cell": "Table of Contents",
   "title_sidebar": "Contents",
   "toc_cell": false,
   "toc_position": {},
   "toc_section_display": true,
   "toc_window_display": false
  },
  "varInspector": {
   "cols": {
    "lenName": 16,
    "lenType": 16,
    "lenVar": 40
   },
   "kernels_config": {
    "python": {
     "delete_cmd_postfix": "",
     "delete_cmd_prefix": "del ",
     "library": "var_list.py",
     "varRefreshCmd": "print(var_dic_list())"
    },
    "r": {
     "delete_cmd_postfix": ") ",
     "delete_cmd_prefix": "rm(",
     "library": "var_list.r",
     "varRefreshCmd": "cat(var_dic_list()) "
    }
   },
   "types_to_exclude": [
    "module",
    "function",
    "builtin_function_or_method",
    "instance",
    "_Feature"
   ],
   "window_display": false
  }
 },
 "nbformat": 4,
 "nbformat_minor": 2
}
